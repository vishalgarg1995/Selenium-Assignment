{
 "cells": [
  {
   "cell_type": "code",
   "execution_count": 2,
   "metadata": {},
   "outputs": [
    {
     "name": "stdout",
     "output_type": "stream",
     "text": [
      "Requirement already satisfied: selenium in c:\\users\\sanj\\anaconda3\\lib\\site-packages (3.141.0)\n",
      "Requirement already satisfied: urllib3 in c:\\users\\sanj\\anaconda3\\lib\\site-packages (from selenium) (1.25.11)\n"
     ]
    }
   ],
   "source": [
    "!pip install selenium"
   ]
  },
  {
   "cell_type": "code",
   "execution_count": 153,
   "metadata": {},
   "outputs": [],
   "source": [
    "from selenium import webdriver\n",
    "from selenium.webdriver.chrome.options import Options\n",
    "from selenium.webdriver.common.keys import Keys\n",
    "import time\n",
    "import selenium\n",
    "from PIL import Image\n",
    "import pandas as pd\n",
    "from selenium import webdriver"
   ]
  },
  {
   "cell_type": "code",
   "execution_count": 4,
   "metadata": {},
   "outputs": [],
   "source": [
    "#driver=webdriver.Chrome(r\"C:\\Lead of Vishal\\08-july-2021\\ChromeDriver.exe\")"
   ]
  },
  {
   "cell_type": "code",
   "execution_count": 5,
   "metadata": {},
   "outputs": [],
   "source": [
    "driver=webdriver.Chrome('chromedriver.exe')"
   ]
  },
  {
   "cell_type": "code",
   "execution_count": 196,
   "metadata": {},
   "outputs": [],
   "source": [
    "url='https://www.naukri.com/'"
   ]
  },
  {
   "cell_type": "code",
   "execution_count": 197,
   "metadata": {},
   "outputs": [],
   "source": [
    "driver.get(url)"
   ]
  },
  {
   "cell_type": "code",
   "execution_count": 8,
   "metadata": {},
   "outputs": [],
   "source": [
    "#Write a python program to scrape data for “Data Analyst” Job position in\n",
    "#“Bangalore” location. You have to scrape the job-title, job-location, company_name,\n",
    "#experience_required. You have to scrape first 10 jobs data"
   ]
  },
  {
   "cell_type": "code",
   "execution_count": 198,
   "metadata": {},
   "outputs": [],
   "source": [
    "search_job=driver.find_element_by_id('qsb-keyword-sugg')"
   ]
  },
  {
   "cell_type": "code",
   "execution_count": 199,
   "metadata": {},
   "outputs": [
    {
     "data": {
      "text/plain": [
       "<selenium.webdriver.remote.webelement.WebElement (session=\"5578cf3dee6f863a6ea8fe7a3b1eccb7\", element=\"95bb015e-1424-4efb-989b-26ba521be0e4\")>"
      ]
     },
     "execution_count": 199,
     "metadata": {},
     "output_type": "execute_result"
    }
   ],
   "source": [
    "search_job"
   ]
  },
  {
   "cell_type": "code",
   "execution_count": 200,
   "metadata": {},
   "outputs": [],
   "source": [
    "search_job.send_keys('data analyst')"
   ]
  },
  {
   "cell_type": "code",
   "execution_count": 201,
   "metadata": {},
   "outputs": [],
   "source": [
    "search_loc=driver.find_element_by_id('qsb-location-sugg')"
   ]
  },
  {
   "cell_type": "code",
   "execution_count": 202,
   "metadata": {},
   "outputs": [],
   "source": [
    "search_loc.send_keys('Bangalore')"
   ]
  },
  {
   "cell_type": "code",
   "execution_count": 203,
   "metadata": {},
   "outputs": [],
   "source": [
    "title_tags=driver.find_elements_by_xpath(\"//a[@class='title fw500 ellipsis']\")"
   ]
  },
  {
   "cell_type": "code",
   "execution_count": 204,
   "metadata": {},
   "outputs": [
    {
     "data": {
      "text/plain": [
       "[<selenium.webdriver.remote.webelement.WebElement (session=\"5578cf3dee6f863a6ea8fe7a3b1eccb7\", element=\"d955fe57-4a25-442f-884e-0704725b24b3\")>,\n",
       " <selenium.webdriver.remote.webelement.WebElement (session=\"5578cf3dee6f863a6ea8fe7a3b1eccb7\", element=\"f837d3f2-e312-4adb-86a6-bceb23e81c01\")>,\n",
       " <selenium.webdriver.remote.webelement.WebElement (session=\"5578cf3dee6f863a6ea8fe7a3b1eccb7\", element=\"1d51e23f-3352-4dc8-8d82-1ebd855bd7ea\")>,\n",
       " <selenium.webdriver.remote.webelement.WebElement (session=\"5578cf3dee6f863a6ea8fe7a3b1eccb7\", element=\"6806e405-fdb7-4c30-978d-a925136436a8\")>,\n",
       " <selenium.webdriver.remote.webelement.WebElement (session=\"5578cf3dee6f863a6ea8fe7a3b1eccb7\", element=\"70920fc9-949e-409f-aa51-9186fc139e4c\")>,\n",
       " <selenium.webdriver.remote.webelement.WebElement (session=\"5578cf3dee6f863a6ea8fe7a3b1eccb7\", element=\"09dec15d-b8f6-4405-9977-a0e53dcf8195\")>,\n",
       " <selenium.webdriver.remote.webelement.WebElement (session=\"5578cf3dee6f863a6ea8fe7a3b1eccb7\", element=\"8d267c84-bee1-4922-9efe-80282d5c7ae6\")>,\n",
       " <selenium.webdriver.remote.webelement.WebElement (session=\"5578cf3dee6f863a6ea8fe7a3b1eccb7\", element=\"87c8be0c-8273-4281-a361-d72092ea30e6\")>,\n",
       " <selenium.webdriver.remote.webelement.WebElement (session=\"5578cf3dee6f863a6ea8fe7a3b1eccb7\", element=\"b9fce811-6b92-4631-91fb-efa598fb502c\")>,\n",
       " <selenium.webdriver.remote.webelement.WebElement (session=\"5578cf3dee6f863a6ea8fe7a3b1eccb7\", element=\"50a61e0a-0209-4d3c-a00f-424cd0f40978\")>,\n",
       " <selenium.webdriver.remote.webelement.WebElement (session=\"5578cf3dee6f863a6ea8fe7a3b1eccb7\", element=\"ee03144b-2b94-4a1d-bf1e-4c1ccf104224\")>,\n",
       " <selenium.webdriver.remote.webelement.WebElement (session=\"5578cf3dee6f863a6ea8fe7a3b1eccb7\", element=\"932f0726-198e-400e-8ed8-f6705e73da07\")>,\n",
       " <selenium.webdriver.remote.webelement.WebElement (session=\"5578cf3dee6f863a6ea8fe7a3b1eccb7\", element=\"8e0c3177-8f14-4db2-adc0-d70b6dd44398\")>,\n",
       " <selenium.webdriver.remote.webelement.WebElement (session=\"5578cf3dee6f863a6ea8fe7a3b1eccb7\", element=\"2ca27e8f-5d85-456a-884c-2faa2c489bf9\")>,\n",
       " <selenium.webdriver.remote.webelement.WebElement (session=\"5578cf3dee6f863a6ea8fe7a3b1eccb7\", element=\"a6673e26-ad0e-4f38-8172-ee2750931dd4\")>,\n",
       " <selenium.webdriver.remote.webelement.WebElement (session=\"5578cf3dee6f863a6ea8fe7a3b1eccb7\", element=\"fbd30169-c829-4778-bdd8-37fbeb639acd\")>,\n",
       " <selenium.webdriver.remote.webelement.WebElement (session=\"5578cf3dee6f863a6ea8fe7a3b1eccb7\", element=\"e5ce894d-3e02-46ae-868a-8ee61980f486\")>,\n",
       " <selenium.webdriver.remote.webelement.WebElement (session=\"5578cf3dee6f863a6ea8fe7a3b1eccb7\", element=\"1c0de88e-64ce-4d26-948d-f6f6c26d7c95\")>,\n",
       " <selenium.webdriver.remote.webelement.WebElement (session=\"5578cf3dee6f863a6ea8fe7a3b1eccb7\", element=\"2e69845d-15c8-4207-868b-48c6d02b9e36\")>,\n",
       " <selenium.webdriver.remote.webelement.WebElement (session=\"5578cf3dee6f863a6ea8fe7a3b1eccb7\", element=\"90ecc990-d562-4e6d-b482-c0a37634f2a1\")>]"
      ]
     },
     "execution_count": 204,
     "metadata": {},
     "output_type": "execute_result"
    }
   ],
   "source": [
    "title_tags"
   ]
  },
  {
   "cell_type": "code",
   "execution_count": 205,
   "metadata": {},
   "outputs": [
    {
     "data": {
      "text/plain": [
       "['Data Scientist / Data Analyst -Business Analyst',\n",
       " 'Junior Data Analyst',\n",
       " 'Junior Data Analyst',\n",
       " 'Network Design & Data Analyst',\n",
       " 'Data analysts',\n",
       " 'Data Analyst',\n",
       " 'Consultant - Data Analyst',\n",
       " 'Assistant Vice President - MIS & Reporting ( Business Data Analyst)',\n",
       " 'Data Analyst',\n",
       " 'Data Analyst',\n",
       " 'Business Data Analyst - MIS & Reporting',\n",
       " 'Data Analyst',\n",
       " 'Data Analyst',\n",
       " 'Market Data Business Analyst,',\n",
       " 'Excel VBA Jobs Bangalore | VBA data analyst Jobs',\n",
       " 'Software Developer / Web Developer/data analyst',\n",
       " 'Data Analyst',\n",
       " 'Senior Data Analyst',\n",
       " 'Data Analyst – Financial, Healthcare, Sports Betting',\n",
       " 'Data Analyst Azure']"
      ]
     },
     "execution_count": 205,
     "metadata": {},
     "output_type": "execute_result"
    }
   ],
   "source": [
    "job_titles=[]\n",
    "for i in title_tags:\n",
    "    job_titles.append(i.text)\n",
    "job_titles"
   ]
  },
  {
   "cell_type": "code",
   "execution_count": 212,
   "metadata": {},
   "outputs": [],
   "source": [
    "company_tags=driver.find_elements_by_xpath(\"//a[@class='subTitle ellipsis fleft']\")"
   ]
  },
  {
   "cell_type": "code",
   "execution_count": 213,
   "metadata": {},
   "outputs": [
    {
     "data": {
      "text/plain": [
       "[<selenium.webdriver.remote.webelement.WebElement (session=\"5578cf3dee6f863a6ea8fe7a3b1eccb7\", element=\"84664a06-d778-4c58-8aeb-0b2e8443fab6\")>,\n",
       " <selenium.webdriver.remote.webelement.WebElement (session=\"5578cf3dee6f863a6ea8fe7a3b1eccb7\", element=\"9d39a7ec-92da-443c-b3da-e1ecc4ad4247\")>,\n",
       " <selenium.webdriver.remote.webelement.WebElement (session=\"5578cf3dee6f863a6ea8fe7a3b1eccb7\", element=\"14d73745-76a7-45dc-803e-6335e406ebd4\")>,\n",
       " <selenium.webdriver.remote.webelement.WebElement (session=\"5578cf3dee6f863a6ea8fe7a3b1eccb7\", element=\"6d187827-ab2e-4d46-b7ad-1bbc80b76114\")>,\n",
       " <selenium.webdriver.remote.webelement.WebElement (session=\"5578cf3dee6f863a6ea8fe7a3b1eccb7\", element=\"5d4493ff-a3b3-41fe-b7b0-99676ace36ed\")>,\n",
       " <selenium.webdriver.remote.webelement.WebElement (session=\"5578cf3dee6f863a6ea8fe7a3b1eccb7\", element=\"93555953-6bd2-4684-a03c-96ebbc82c982\")>,\n",
       " <selenium.webdriver.remote.webelement.WebElement (session=\"5578cf3dee6f863a6ea8fe7a3b1eccb7\", element=\"bce4c66e-5f11-4107-b0f6-ecc9ff3da142\")>,\n",
       " <selenium.webdriver.remote.webelement.WebElement (session=\"5578cf3dee6f863a6ea8fe7a3b1eccb7\", element=\"7c0b65e0-2928-4444-a0d7-e2424b7a1182\")>,\n",
       " <selenium.webdriver.remote.webelement.WebElement (session=\"5578cf3dee6f863a6ea8fe7a3b1eccb7\", element=\"98125f80-f4cb-46c4-9fc4-b9b2c4937900\")>,\n",
       " <selenium.webdriver.remote.webelement.WebElement (session=\"5578cf3dee6f863a6ea8fe7a3b1eccb7\", element=\"5e65e1e4-9ef9-41d1-a4b9-05bdc2c6c053\")>,\n",
       " <selenium.webdriver.remote.webelement.WebElement (session=\"5578cf3dee6f863a6ea8fe7a3b1eccb7\", element=\"dd15a434-9878-443e-90e6-45eb6621be18\")>,\n",
       " <selenium.webdriver.remote.webelement.WebElement (session=\"5578cf3dee6f863a6ea8fe7a3b1eccb7\", element=\"7512fe3e-2c3c-48ae-aba8-1e9cef25da0a\")>,\n",
       " <selenium.webdriver.remote.webelement.WebElement (session=\"5578cf3dee6f863a6ea8fe7a3b1eccb7\", element=\"9ee96526-404b-4b55-a23b-0f119d1467e1\")>,\n",
       " <selenium.webdriver.remote.webelement.WebElement (session=\"5578cf3dee6f863a6ea8fe7a3b1eccb7\", element=\"e7701d26-4cdd-43b5-b664-a02f1db44630\")>,\n",
       " <selenium.webdriver.remote.webelement.WebElement (session=\"5578cf3dee6f863a6ea8fe7a3b1eccb7\", element=\"d0134a8a-8d91-43c9-969b-3b907e77c0f4\")>,\n",
       " <selenium.webdriver.remote.webelement.WebElement (session=\"5578cf3dee6f863a6ea8fe7a3b1eccb7\", element=\"185605f3-9ae0-43f9-a050-2eeced00e391\")>,\n",
       " <selenium.webdriver.remote.webelement.WebElement (session=\"5578cf3dee6f863a6ea8fe7a3b1eccb7\", element=\"cb2b60a1-0ed6-4767-bc98-9396f36d9b0f\")>,\n",
       " <selenium.webdriver.remote.webelement.WebElement (session=\"5578cf3dee6f863a6ea8fe7a3b1eccb7\", element=\"21d77e19-6ac0-4676-a96c-3e656787634d\")>,\n",
       " <selenium.webdriver.remote.webelement.WebElement (session=\"5578cf3dee6f863a6ea8fe7a3b1eccb7\", element=\"b16bdec0-b79b-4482-b796-a5b4134b8c82\")>,\n",
       " <selenium.webdriver.remote.webelement.WebElement (session=\"5578cf3dee6f863a6ea8fe7a3b1eccb7\", element=\"b6770bda-d1de-4293-8ded-fb5ffde75e2a\")>]"
      ]
     },
     "execution_count": 213,
     "metadata": {},
     "output_type": "execute_result"
    }
   ],
   "source": [
    "company_tags"
   ]
  },
  {
   "cell_type": "code",
   "execution_count": 214,
   "metadata": {},
   "outputs": [
    {
     "data": {
      "text/plain": [
       "['Inflexion Analytix Private Limited',\n",
       " 'Simplilearn',\n",
       " 'Simplilearn',\n",
       " 'Dell International Services India Private Limited',\n",
       " 'IBM India Pvt. Limited',\n",
       " 'CARNATION INFOTECH PRIVATE LIMITED',\n",
       " 'Flipkart Internet Private Limited',\n",
       " 'INTERTRUSTVITEOS CORPORATE AND FUND SERVICES PVT. LTD.',\n",
       " 'Flipkart Internet Private Limited',\n",
       " 'Uber',\n",
       " 'INTERTRUST GROUP',\n",
       " 'Infoservicesllc',\n",
       " 'Clarivate Analytics',\n",
       " 'Luxoft',\n",
       " 'Mind Circus Innovation',\n",
       " 'Edubridgeindia',\n",
       " 'Siemens Limited',\n",
       " 'Liventus, Inc.',\n",
       " 'Quantsys',\n",
       " 'CONDUENT BUSINESS SERVICES INDIA LLP']"
      ]
     },
     "execution_count": 214,
     "metadata": {},
     "output_type": "execute_result"
    }
   ],
   "source": [
    "company_names=[]\n",
    "for j in company_tags:\n",
    "    company_names.append(j.text)\n",
    "company_names"
   ]
  },
  {
   "cell_type": "code",
   "execution_count": 219,
   "metadata": {},
   "outputs": [],
   "source": [
    "Exp_Required=driver.find_elements_by_xpath(\"//li[@class='fleft grey-text br2 placeHolderLi experience']\")"
   ]
  },
  {
   "cell_type": "code",
   "execution_count": 220,
   "metadata": {},
   "outputs": [
    {
     "data": {
      "text/plain": [
       "[<selenium.webdriver.remote.webelement.WebElement (session=\"5578cf3dee6f863a6ea8fe7a3b1eccb7\", element=\"f43131e7-4ca4-4b87-b3da-ac985406b0ad\")>,\n",
       " <selenium.webdriver.remote.webelement.WebElement (session=\"5578cf3dee6f863a6ea8fe7a3b1eccb7\", element=\"9f755fd8-c7fe-416a-b0f2-4ed060ad51fc\")>,\n",
       " <selenium.webdriver.remote.webelement.WebElement (session=\"5578cf3dee6f863a6ea8fe7a3b1eccb7\", element=\"49221b30-6c99-4d96-8365-a613d577200b\")>,\n",
       " <selenium.webdriver.remote.webelement.WebElement (session=\"5578cf3dee6f863a6ea8fe7a3b1eccb7\", element=\"80db482f-3ae2-4b02-b352-f9151a5201d0\")>,\n",
       " <selenium.webdriver.remote.webelement.WebElement (session=\"5578cf3dee6f863a6ea8fe7a3b1eccb7\", element=\"317b32d4-1297-4c76-9843-cae7dcd5a785\")>,\n",
       " <selenium.webdriver.remote.webelement.WebElement (session=\"5578cf3dee6f863a6ea8fe7a3b1eccb7\", element=\"8d516469-4cfa-4a70-a48d-299ec8a1bcf4\")>,\n",
       " <selenium.webdriver.remote.webelement.WebElement (session=\"5578cf3dee6f863a6ea8fe7a3b1eccb7\", element=\"0b41f88d-d923-4449-a8d2-b362083ca6ae\")>,\n",
       " <selenium.webdriver.remote.webelement.WebElement (session=\"5578cf3dee6f863a6ea8fe7a3b1eccb7\", element=\"f4b817b1-ff5d-476f-9066-4ae70dc39218\")>,\n",
       " <selenium.webdriver.remote.webelement.WebElement (session=\"5578cf3dee6f863a6ea8fe7a3b1eccb7\", element=\"7e6e05e6-d70f-415c-a29f-8dca5b4b654f\")>,\n",
       " <selenium.webdriver.remote.webelement.WebElement (session=\"5578cf3dee6f863a6ea8fe7a3b1eccb7\", element=\"b8c5f715-2cee-4f9c-b2ff-e8d88c6a4293\")>,\n",
       " <selenium.webdriver.remote.webelement.WebElement (session=\"5578cf3dee6f863a6ea8fe7a3b1eccb7\", element=\"48cec9b0-0329-4442-b545-78df13b94b0a\")>,\n",
       " <selenium.webdriver.remote.webelement.WebElement (session=\"5578cf3dee6f863a6ea8fe7a3b1eccb7\", element=\"e51aa089-5a65-44c0-816b-8e64da19a05f\")>,\n",
       " <selenium.webdriver.remote.webelement.WebElement (session=\"5578cf3dee6f863a6ea8fe7a3b1eccb7\", element=\"383e1ac5-2a9b-4df0-b83a-ef0a5faa885f\")>,\n",
       " <selenium.webdriver.remote.webelement.WebElement (session=\"5578cf3dee6f863a6ea8fe7a3b1eccb7\", element=\"7693ea18-9210-4561-b282-671c2ce25849\")>,\n",
       " <selenium.webdriver.remote.webelement.WebElement (session=\"5578cf3dee6f863a6ea8fe7a3b1eccb7\", element=\"626deb7a-0276-4b42-9a33-966c52b1edc9\")>,\n",
       " <selenium.webdriver.remote.webelement.WebElement (session=\"5578cf3dee6f863a6ea8fe7a3b1eccb7\", element=\"8b4ba36a-0812-4ed4-8932-e3a56e94cfc0\")>,\n",
       " <selenium.webdriver.remote.webelement.WebElement (session=\"5578cf3dee6f863a6ea8fe7a3b1eccb7\", element=\"3b888fec-104d-4d37-b90c-3dccb9c04fa4\")>,\n",
       " <selenium.webdriver.remote.webelement.WebElement (session=\"5578cf3dee6f863a6ea8fe7a3b1eccb7\", element=\"1f561950-7929-46b1-82d0-8dc1ee3b2c4e\")>,\n",
       " <selenium.webdriver.remote.webelement.WebElement (session=\"5578cf3dee6f863a6ea8fe7a3b1eccb7\", element=\"d4d1aeda-a375-410f-a4d5-4423eac70cf3\")>,\n",
       " <selenium.webdriver.remote.webelement.WebElement (session=\"5578cf3dee6f863a6ea8fe7a3b1eccb7\", element=\"94ff1a40-35b6-473f-96df-995d8f5856eb\")>]"
      ]
     },
     "execution_count": 220,
     "metadata": {},
     "output_type": "execute_result"
    }
   ],
   "source": [
    "Exp_Required"
   ]
  },
  {
   "cell_type": "code",
   "execution_count": 221,
   "metadata": {},
   "outputs": [
    {
     "data": {
      "text/plain": [
       "['0-3 Yrs',\n",
       " '0-2 Yrs',\n",
       " '0-2 Yrs',\n",
       " '0-2 Yrs',\n",
       " '5-10 Yrs',\n",
       " '0-5 Yrs',\n",
       " '0-2 Yrs',\n",
       " '10-15 Yrs',\n",
       " '3-5 Yrs',\n",
       " '1-3 Yrs',\n",
       " '3-8 Yrs',\n",
       " '7-12 Yrs',\n",
       " '1-2 Yrs',\n",
       " '2-6 Yrs',\n",
       " '0-2 Yrs',\n",
       " '0-1 Yrs',\n",
       " '0-5 Yrs',\n",
       " '5-8 Yrs',\n",
       " '2-4 Yrs',\n",
       " '3-6 Yrs']"
      ]
     },
     "execution_count": 221,
     "metadata": {},
     "output_type": "execute_result"
    }
   ],
   "source": [
    "Exp_RequiredList=[]\n",
    "for A in Exp_Required:\n",
    "    Exp_RequiredList.append(A.text)\n",
    "Exp_RequiredList"
   ]
  },
  {
   "cell_type": "code",
   "execution_count": 224,
   "metadata": {},
   "outputs": [],
   "source": [
    "Salary=driver.find_elements_by_xpath(\"//li[@class='fleft grey-text br2 placeHolderLi salary']\")"
   ]
  },
  {
   "cell_type": "code",
   "execution_count": 225,
   "metadata": {},
   "outputs": [
    {
     "data": {
      "text/plain": [
       "[<selenium.webdriver.remote.webelement.WebElement (session=\"5578cf3dee6f863a6ea8fe7a3b1eccb7\", element=\"7f8d1c20-38e7-47d2-965a-f5864211de30\")>,\n",
       " <selenium.webdriver.remote.webelement.WebElement (session=\"5578cf3dee6f863a6ea8fe7a3b1eccb7\", element=\"49c62fc2-7b37-4536-a040-7ce5f63b6a8d\")>,\n",
       " <selenium.webdriver.remote.webelement.WebElement (session=\"5578cf3dee6f863a6ea8fe7a3b1eccb7\", element=\"042f51f8-6277-46ce-9f33-ea67d3570e11\")>,\n",
       " <selenium.webdriver.remote.webelement.WebElement (session=\"5578cf3dee6f863a6ea8fe7a3b1eccb7\", element=\"030b90e3-aa4c-4825-bc72-7fc7cea10969\")>,\n",
       " <selenium.webdriver.remote.webelement.WebElement (session=\"5578cf3dee6f863a6ea8fe7a3b1eccb7\", element=\"27b32910-9902-4e15-b1bf-131cc69254a8\")>,\n",
       " <selenium.webdriver.remote.webelement.WebElement (session=\"5578cf3dee6f863a6ea8fe7a3b1eccb7\", element=\"5ddccc6c-ed9d-4e56-8900-df3fdf215df4\")>,\n",
       " <selenium.webdriver.remote.webelement.WebElement (session=\"5578cf3dee6f863a6ea8fe7a3b1eccb7\", element=\"3f33d355-655c-4901-8402-b81f3721ce08\")>,\n",
       " <selenium.webdriver.remote.webelement.WebElement (session=\"5578cf3dee6f863a6ea8fe7a3b1eccb7\", element=\"4cc733b5-b24a-437c-a6cd-09f18b05635c\")>,\n",
       " <selenium.webdriver.remote.webelement.WebElement (session=\"5578cf3dee6f863a6ea8fe7a3b1eccb7\", element=\"94bce71a-7428-4004-97b2-1eb5e6bb7ec4\")>,\n",
       " <selenium.webdriver.remote.webelement.WebElement (session=\"5578cf3dee6f863a6ea8fe7a3b1eccb7\", element=\"91b2498b-08a3-4696-8cdc-53cadbb8a6cb\")>,\n",
       " <selenium.webdriver.remote.webelement.WebElement (session=\"5578cf3dee6f863a6ea8fe7a3b1eccb7\", element=\"5b9a4d4d-1d78-4f40-a7e6-4931ef89ce46\")>,\n",
       " <selenium.webdriver.remote.webelement.WebElement (session=\"5578cf3dee6f863a6ea8fe7a3b1eccb7\", element=\"b09466a3-44fe-45d4-b05b-ea079fb7589f\")>,\n",
       " <selenium.webdriver.remote.webelement.WebElement (session=\"5578cf3dee6f863a6ea8fe7a3b1eccb7\", element=\"bbdd819b-dc94-47ae-a390-c52a69c0aeee\")>,\n",
       " <selenium.webdriver.remote.webelement.WebElement (session=\"5578cf3dee6f863a6ea8fe7a3b1eccb7\", element=\"a21a7582-7a18-421d-b4f1-482f6f699528\")>,\n",
       " <selenium.webdriver.remote.webelement.WebElement (session=\"5578cf3dee6f863a6ea8fe7a3b1eccb7\", element=\"71ba4292-4d74-4384-85f6-9fdc71ad4685\")>,\n",
       " <selenium.webdriver.remote.webelement.WebElement (session=\"5578cf3dee6f863a6ea8fe7a3b1eccb7\", element=\"861b526f-6c4c-4ba7-a10c-eb68c25aa862\")>,\n",
       " <selenium.webdriver.remote.webelement.WebElement (session=\"5578cf3dee6f863a6ea8fe7a3b1eccb7\", element=\"b6a60ab6-59ae-4cd0-988f-b6db8c0a8bd3\")>,\n",
       " <selenium.webdriver.remote.webelement.WebElement (session=\"5578cf3dee6f863a6ea8fe7a3b1eccb7\", element=\"3efd40b9-f423-4565-ac3a-6d3fbcdc4de4\")>,\n",
       " <selenium.webdriver.remote.webelement.WebElement (session=\"5578cf3dee6f863a6ea8fe7a3b1eccb7\", element=\"8b702371-c761-459c-8cd0-227d917e7a9d\")>,\n",
       " <selenium.webdriver.remote.webelement.WebElement (session=\"5578cf3dee6f863a6ea8fe7a3b1eccb7\", element=\"54e1427c-768d-4faa-b0a8-e45bc57981a7\")>]"
      ]
     },
     "execution_count": 225,
     "metadata": {},
     "output_type": "execute_result"
    }
   ],
   "source": [
    "Salary"
   ]
  },
  {
   "cell_type": "code",
   "execution_count": 226,
   "metadata": {},
   "outputs": [
    {
     "data": {
      "text/plain": [
       "['3,50,000 - 4,50,000 PA.',\n",
       " '3,50,000 - 5,00,000 PA.',\n",
       " '3,50,000 - 5,00,000 PA.',\n",
       " 'Not disclosed',\n",
       " 'Not disclosed',\n",
       " 'Not disclosed',\n",
       " 'Not disclosed',\n",
       " 'Not disclosed',\n",
       " 'Not disclosed',\n",
       " 'Not disclosed',\n",
       " 'Not disclosed',\n",
       " '15,00,000 - 30,00,000 PA.',\n",
       " 'Not disclosed',\n",
       " 'Not disclosed',\n",
       " '90,000 - 2,50,000 PA.',\n",
       " '50,000 - 70,000 PA.',\n",
       " 'Not disclosed',\n",
       " '10,00,000 - 20,00,000 PA.',\n",
       " '3,25,000 - 4,75,000 PA.',\n",
       " 'Not disclosed']"
      ]
     },
     "execution_count": 226,
     "metadata": {},
     "output_type": "execute_result"
    }
   ],
   "source": [
    "SalaryList=[]\n",
    "for J in Salary:\n",
    "    SalaryList.append(J.text)\n",
    "SalaryList"
   ]
  },
  {
   "cell_type": "code",
   "execution_count": 229,
   "metadata": {},
   "outputs": [
    {
     "data": {
      "text/plain": [
       "[<selenium.webdriver.remote.webelement.WebElement (session=\"5578cf3dee6f863a6ea8fe7a3b1eccb7\", element=\"00915f5f-507d-422f-94af-c0b88558329e\")>,\n",
       " <selenium.webdriver.remote.webelement.WebElement (session=\"5578cf3dee6f863a6ea8fe7a3b1eccb7\", element=\"3dc4d0d5-c4fd-421d-b26c-ad95ad4de032\")>,\n",
       " <selenium.webdriver.remote.webelement.WebElement (session=\"5578cf3dee6f863a6ea8fe7a3b1eccb7\", element=\"c90df7f5-6cc8-4f1e-a1a9-00cade7e3e44\")>,\n",
       " <selenium.webdriver.remote.webelement.WebElement (session=\"5578cf3dee6f863a6ea8fe7a3b1eccb7\", element=\"3a2c9267-34c2-496c-9d35-93c0eca96a39\")>,\n",
       " <selenium.webdriver.remote.webelement.WebElement (session=\"5578cf3dee6f863a6ea8fe7a3b1eccb7\", element=\"093fe281-f2d1-4a8e-9811-b6d34e0b6b66\")>,\n",
       " <selenium.webdriver.remote.webelement.WebElement (session=\"5578cf3dee6f863a6ea8fe7a3b1eccb7\", element=\"543c49dd-1dee-4315-a2ac-26bb46ba0048\")>,\n",
       " <selenium.webdriver.remote.webelement.WebElement (session=\"5578cf3dee6f863a6ea8fe7a3b1eccb7\", element=\"60dc248c-eb87-4461-a6ad-0a479fef81b7\")>,\n",
       " <selenium.webdriver.remote.webelement.WebElement (session=\"5578cf3dee6f863a6ea8fe7a3b1eccb7\", element=\"ba1044c7-5674-403e-8f17-65d24db71402\")>,\n",
       " <selenium.webdriver.remote.webelement.WebElement (session=\"5578cf3dee6f863a6ea8fe7a3b1eccb7\", element=\"79d27030-470c-4db0-80a9-7ef901a9206e\")>,\n",
       " <selenium.webdriver.remote.webelement.WebElement (session=\"5578cf3dee6f863a6ea8fe7a3b1eccb7\", element=\"0c2986e3-a360-49d6-b734-988bc91005f5\")>,\n",
       " <selenium.webdriver.remote.webelement.WebElement (session=\"5578cf3dee6f863a6ea8fe7a3b1eccb7\", element=\"3eaa7acf-ab77-426f-884e-b4396d3aad1f\")>,\n",
       " <selenium.webdriver.remote.webelement.WebElement (session=\"5578cf3dee6f863a6ea8fe7a3b1eccb7\", element=\"2037d84f-5abb-4c09-9b69-c97c75308589\")>,\n",
       " <selenium.webdriver.remote.webelement.WebElement (session=\"5578cf3dee6f863a6ea8fe7a3b1eccb7\", element=\"fc846a58-d852-481b-a692-7efc72526d37\")>,\n",
       " <selenium.webdriver.remote.webelement.WebElement (session=\"5578cf3dee6f863a6ea8fe7a3b1eccb7\", element=\"61bb1f59-77d6-467c-b421-0c00e1233715\")>,\n",
       " <selenium.webdriver.remote.webelement.WebElement (session=\"5578cf3dee6f863a6ea8fe7a3b1eccb7\", element=\"8a584e4e-7623-4025-9884-9a9faa583889\")>,\n",
       " <selenium.webdriver.remote.webelement.WebElement (session=\"5578cf3dee6f863a6ea8fe7a3b1eccb7\", element=\"8aa61b6d-caa1-4586-a305-56dc5a28d211\")>,\n",
       " <selenium.webdriver.remote.webelement.WebElement (session=\"5578cf3dee6f863a6ea8fe7a3b1eccb7\", element=\"b4d75466-c83d-47c5-8fa3-f8955516f355\")>,\n",
       " <selenium.webdriver.remote.webelement.WebElement (session=\"5578cf3dee6f863a6ea8fe7a3b1eccb7\", element=\"46d812be-39ce-4916-b371-cef21db9abe4\")>,\n",
       " <selenium.webdriver.remote.webelement.WebElement (session=\"5578cf3dee6f863a6ea8fe7a3b1eccb7\", element=\"77bbdae4-82fd-4f7a-ae95-8068a54be6a0\")>,\n",
       " <selenium.webdriver.remote.webelement.WebElement (session=\"5578cf3dee6f863a6ea8fe7a3b1eccb7\", element=\"da4f3ef9-8772-4f4e-b701-98ded35ccf05\")>]"
      ]
     },
     "execution_count": 229,
     "metadata": {},
     "output_type": "execute_result"
    }
   ],
   "source": [
    "Location=driver.find_elements_by_xpath(\"//li[@class='fleft grey-text br2 placeHolderLi location']\")\n",
    "Location"
   ]
  },
  {
   "cell_type": "code",
   "execution_count": 230,
   "metadata": {},
   "outputs": [
    {
     "data": {
      "text/plain": [
       "['Hyderabad/Secunderabad, Chennai, Bangalore/Bengaluru',\n",
       " 'Bangalore/Bengaluru(Sector 2 HSR Layout)\\n(WFH during Covid)',\n",
       " 'Bangalore/Bengaluru(Sector 2 HSR Layout)\\n(WFH during Covid)',\n",
       " 'Bangalore/Bengaluru',\n",
       " 'Bangalore/Bengaluru',\n",
       " 'Lucknow, Bangalore/Bengaluru\\n(WFH during Covid)',\n",
       " 'Bangalore/Bengaluru',\n",
       " 'Mumbai, Bangalore/Bengaluru',\n",
       " 'Bangalore/Bengaluru',\n",
       " 'Bangalore/Bengaluru',\n",
       " 'Mumbai, Bangalore/Bengaluru',\n",
       " 'Hyderabad/Secunderabad, Chennai, Bangalore/Bengaluru',\n",
       " 'Bangalore/Bengaluru',\n",
       " 'Bangalore/Bengaluru',\n",
       " 'Coimbatore, Bangalore/Bengaluru, Trivandrum/Thiruvananthapuram',\n",
       " 'Hyderabad/Secunderabad, Bangalore/Bengaluru',\n",
       " 'Bangalore/Bengaluru',\n",
       " 'Bangalore/Bengaluru(2nd Phase JP Nagar)',\n",
       " 'Pune, Chennai, Bangalore/Bengaluru',\n",
       " 'Bangalore/Bengaluru']"
      ]
     },
     "execution_count": 230,
     "metadata": {},
     "output_type": "execute_result"
    }
   ],
   "source": [
    "LocationList=[]\n",
    "for U in Location:\n",
    "    LocationList.append(U.text)\n",
    "LocationList"
   ]
  },
  {
   "cell_type": "code",
   "execution_count": 232,
   "metadata": {},
   "outputs": [],
   "source": [
    "NaukriData=pd.DataFrame({'Locations':LocationList,'SalaryRange':SalaryList,'Exp-Requirement':Exp_RequiredList,'CompanyNames':company_names,'JobTitles':job_titles})"
   ]
  },
  {
   "cell_type": "code",
   "execution_count": 233,
   "metadata": {},
   "outputs": [
    {
     "data": {
      "text/html": [
       "<div>\n",
       "<style scoped>\n",
       "    .dataframe tbody tr th:only-of-type {\n",
       "        vertical-align: middle;\n",
       "    }\n",
       "\n",
       "    .dataframe tbody tr th {\n",
       "        vertical-align: top;\n",
       "    }\n",
       "\n",
       "    .dataframe thead th {\n",
       "        text-align: right;\n",
       "    }\n",
       "</style>\n",
       "<table border=\"1\" class=\"dataframe\">\n",
       "  <thead>\n",
       "    <tr style=\"text-align: right;\">\n",
       "      <th></th>\n",
       "      <th>Locations</th>\n",
       "      <th>SalaryRange</th>\n",
       "      <th>Exp-Requirement</th>\n",
       "      <th>CompanyNames</th>\n",
       "      <th>JobTitles</th>\n",
       "    </tr>\n",
       "  </thead>\n",
       "  <tbody>\n",
       "    <tr>\n",
       "      <th>0</th>\n",
       "      <td>Hyderabad/Secunderabad, Chennai, Bangalore/Ben...</td>\n",
       "      <td>3,50,000 - 4,50,000 PA.</td>\n",
       "      <td>0-3 Yrs</td>\n",
       "      <td>Inflexion Analytix Private Limited</td>\n",
       "      <td>Data Scientist / Data Analyst -Business Analyst</td>\n",
       "    </tr>\n",
       "    <tr>\n",
       "      <th>1</th>\n",
       "      <td>Bangalore/Bengaluru(Sector 2 HSR Layout)\\n(WFH...</td>\n",
       "      <td>3,50,000 - 5,00,000 PA.</td>\n",
       "      <td>0-2 Yrs</td>\n",
       "      <td>Simplilearn</td>\n",
       "      <td>Junior Data Analyst</td>\n",
       "    </tr>\n",
       "    <tr>\n",
       "      <th>2</th>\n",
       "      <td>Bangalore/Bengaluru(Sector 2 HSR Layout)\\n(WFH...</td>\n",
       "      <td>3,50,000 - 5,00,000 PA.</td>\n",
       "      <td>0-2 Yrs</td>\n",
       "      <td>Simplilearn</td>\n",
       "      <td>Junior Data Analyst</td>\n",
       "    </tr>\n",
       "    <tr>\n",
       "      <th>3</th>\n",
       "      <td>Bangalore/Bengaluru</td>\n",
       "      <td>Not disclosed</td>\n",
       "      <td>0-2 Yrs</td>\n",
       "      <td>Dell International Services India Private Limited</td>\n",
       "      <td>Network Design &amp; Data Analyst</td>\n",
       "    </tr>\n",
       "    <tr>\n",
       "      <th>4</th>\n",
       "      <td>Bangalore/Bengaluru</td>\n",
       "      <td>Not disclosed</td>\n",
       "      <td>5-10 Yrs</td>\n",
       "      <td>IBM India Pvt. Limited</td>\n",
       "      <td>Data analysts</td>\n",
       "    </tr>\n",
       "    <tr>\n",
       "      <th>5</th>\n",
       "      <td>Lucknow, Bangalore/Bengaluru\\n(WFH during Covid)</td>\n",
       "      <td>Not disclosed</td>\n",
       "      <td>0-5 Yrs</td>\n",
       "      <td>CARNATION INFOTECH PRIVATE LIMITED</td>\n",
       "      <td>Data Analyst</td>\n",
       "    </tr>\n",
       "    <tr>\n",
       "      <th>6</th>\n",
       "      <td>Bangalore/Bengaluru</td>\n",
       "      <td>Not disclosed</td>\n",
       "      <td>0-2 Yrs</td>\n",
       "      <td>Flipkart Internet Private Limited</td>\n",
       "      <td>Consultant - Data Analyst</td>\n",
       "    </tr>\n",
       "    <tr>\n",
       "      <th>7</th>\n",
       "      <td>Mumbai, Bangalore/Bengaluru</td>\n",
       "      <td>Not disclosed</td>\n",
       "      <td>10-15 Yrs</td>\n",
       "      <td>INTERTRUSTVITEOS CORPORATE AND FUND SERVICES P...</td>\n",
       "      <td>Assistant Vice President - MIS &amp; Reporting ( B...</td>\n",
       "    </tr>\n",
       "    <tr>\n",
       "      <th>8</th>\n",
       "      <td>Bangalore/Bengaluru</td>\n",
       "      <td>Not disclosed</td>\n",
       "      <td>3-5 Yrs</td>\n",
       "      <td>Flipkart Internet Private Limited</td>\n",
       "      <td>Data Analyst</td>\n",
       "    </tr>\n",
       "    <tr>\n",
       "      <th>9</th>\n",
       "      <td>Bangalore/Bengaluru</td>\n",
       "      <td>Not disclosed</td>\n",
       "      <td>1-3 Yrs</td>\n",
       "      <td>Uber</td>\n",
       "      <td>Data Analyst</td>\n",
       "    </tr>\n",
       "    <tr>\n",
       "      <th>10</th>\n",
       "      <td>Mumbai, Bangalore/Bengaluru</td>\n",
       "      <td>Not disclosed</td>\n",
       "      <td>3-8 Yrs</td>\n",
       "      <td>INTERTRUST GROUP</td>\n",
       "      <td>Business Data Analyst - MIS &amp; Reporting</td>\n",
       "    </tr>\n",
       "    <tr>\n",
       "      <th>11</th>\n",
       "      <td>Hyderabad/Secunderabad, Chennai, Bangalore/Ben...</td>\n",
       "      <td>15,00,000 - 30,00,000 PA.</td>\n",
       "      <td>7-12 Yrs</td>\n",
       "      <td>Infoservicesllc</td>\n",
       "      <td>Data Analyst</td>\n",
       "    </tr>\n",
       "    <tr>\n",
       "      <th>12</th>\n",
       "      <td>Bangalore/Bengaluru</td>\n",
       "      <td>Not disclosed</td>\n",
       "      <td>1-2 Yrs</td>\n",
       "      <td>Clarivate Analytics</td>\n",
       "      <td>Data Analyst</td>\n",
       "    </tr>\n",
       "    <tr>\n",
       "      <th>13</th>\n",
       "      <td>Bangalore/Bengaluru</td>\n",
       "      <td>Not disclosed</td>\n",
       "      <td>2-6 Yrs</td>\n",
       "      <td>Luxoft</td>\n",
       "      <td>Market Data Business Analyst,</td>\n",
       "    </tr>\n",
       "    <tr>\n",
       "      <th>14</th>\n",
       "      <td>Coimbatore, Bangalore/Bengaluru, Trivandrum/Th...</td>\n",
       "      <td>90,000 - 2,50,000 PA.</td>\n",
       "      <td>0-2 Yrs</td>\n",
       "      <td>Mind Circus Innovation</td>\n",
       "      <td>Excel VBA Jobs Bangalore | VBA data analyst Jobs</td>\n",
       "    </tr>\n",
       "    <tr>\n",
       "      <th>15</th>\n",
       "      <td>Hyderabad/Secunderabad, Bangalore/Bengaluru</td>\n",
       "      <td>50,000 - 70,000 PA.</td>\n",
       "      <td>0-1 Yrs</td>\n",
       "      <td>Edubridgeindia</td>\n",
       "      <td>Software Developer / Web Developer/data analyst</td>\n",
       "    </tr>\n",
       "    <tr>\n",
       "      <th>16</th>\n",
       "      <td>Bangalore/Bengaluru</td>\n",
       "      <td>Not disclosed</td>\n",
       "      <td>0-5 Yrs</td>\n",
       "      <td>Siemens Limited</td>\n",
       "      <td>Data Analyst</td>\n",
       "    </tr>\n",
       "    <tr>\n",
       "      <th>17</th>\n",
       "      <td>Bangalore/Bengaluru(2nd Phase JP Nagar)</td>\n",
       "      <td>10,00,000 - 20,00,000 PA.</td>\n",
       "      <td>5-8 Yrs</td>\n",
       "      <td>Liventus, Inc.</td>\n",
       "      <td>Senior Data Analyst</td>\n",
       "    </tr>\n",
       "    <tr>\n",
       "      <th>18</th>\n",
       "      <td>Pune, Chennai, Bangalore/Bengaluru</td>\n",
       "      <td>3,25,000 - 4,75,000 PA.</td>\n",
       "      <td>2-4 Yrs</td>\n",
       "      <td>Quantsys</td>\n",
       "      <td>Data Analyst – Financial, Healthcare, Sports B...</td>\n",
       "    </tr>\n",
       "    <tr>\n",
       "      <th>19</th>\n",
       "      <td>Bangalore/Bengaluru</td>\n",
       "      <td>Not disclosed</td>\n",
       "      <td>3-6 Yrs</td>\n",
       "      <td>CONDUENT BUSINESS SERVICES INDIA LLP</td>\n",
       "      <td>Data Analyst Azure</td>\n",
       "    </tr>\n",
       "  </tbody>\n",
       "</table>\n",
       "</div>"
      ],
      "text/plain": [
       "                                            Locations  \\\n",
       "0   Hyderabad/Secunderabad, Chennai, Bangalore/Ben...   \n",
       "1   Bangalore/Bengaluru(Sector 2 HSR Layout)\\n(WFH...   \n",
       "2   Bangalore/Bengaluru(Sector 2 HSR Layout)\\n(WFH...   \n",
       "3                                 Bangalore/Bengaluru   \n",
       "4                                 Bangalore/Bengaluru   \n",
       "5    Lucknow, Bangalore/Bengaluru\\n(WFH during Covid)   \n",
       "6                                 Bangalore/Bengaluru   \n",
       "7                         Mumbai, Bangalore/Bengaluru   \n",
       "8                                 Bangalore/Bengaluru   \n",
       "9                                 Bangalore/Bengaluru   \n",
       "10                        Mumbai, Bangalore/Bengaluru   \n",
       "11  Hyderabad/Secunderabad, Chennai, Bangalore/Ben...   \n",
       "12                                Bangalore/Bengaluru   \n",
       "13                                Bangalore/Bengaluru   \n",
       "14  Coimbatore, Bangalore/Bengaluru, Trivandrum/Th...   \n",
       "15        Hyderabad/Secunderabad, Bangalore/Bengaluru   \n",
       "16                                Bangalore/Bengaluru   \n",
       "17            Bangalore/Bengaluru(2nd Phase JP Nagar)   \n",
       "18                 Pune, Chennai, Bangalore/Bengaluru   \n",
       "19                                Bangalore/Bengaluru   \n",
       "\n",
       "                  SalaryRange Exp-Requirement  \\\n",
       "0     3,50,000 - 4,50,000 PA.         0-3 Yrs   \n",
       "1     3,50,000 - 5,00,000 PA.         0-2 Yrs   \n",
       "2     3,50,000 - 5,00,000 PA.         0-2 Yrs   \n",
       "3               Not disclosed         0-2 Yrs   \n",
       "4               Not disclosed        5-10 Yrs   \n",
       "5               Not disclosed         0-5 Yrs   \n",
       "6               Not disclosed         0-2 Yrs   \n",
       "7               Not disclosed       10-15 Yrs   \n",
       "8               Not disclosed         3-5 Yrs   \n",
       "9               Not disclosed         1-3 Yrs   \n",
       "10              Not disclosed         3-8 Yrs   \n",
       "11  15,00,000 - 30,00,000 PA.        7-12 Yrs   \n",
       "12              Not disclosed         1-2 Yrs   \n",
       "13              Not disclosed         2-6 Yrs   \n",
       "14      90,000 - 2,50,000 PA.         0-2 Yrs   \n",
       "15        50,000 - 70,000 PA.         0-1 Yrs   \n",
       "16              Not disclosed         0-5 Yrs   \n",
       "17  10,00,000 - 20,00,000 PA.         5-8 Yrs   \n",
       "18    3,25,000 - 4,75,000 PA.         2-4 Yrs   \n",
       "19              Not disclosed         3-6 Yrs   \n",
       "\n",
       "                                         CompanyNames  \\\n",
       "0                  Inflexion Analytix Private Limited   \n",
       "1                                         Simplilearn   \n",
       "2                                         Simplilearn   \n",
       "3   Dell International Services India Private Limited   \n",
       "4                              IBM India Pvt. Limited   \n",
       "5                  CARNATION INFOTECH PRIVATE LIMITED   \n",
       "6                   Flipkart Internet Private Limited   \n",
       "7   INTERTRUSTVITEOS CORPORATE AND FUND SERVICES P...   \n",
       "8                   Flipkart Internet Private Limited   \n",
       "9                                                Uber   \n",
       "10                                   INTERTRUST GROUP   \n",
       "11                                    Infoservicesllc   \n",
       "12                                Clarivate Analytics   \n",
       "13                                             Luxoft   \n",
       "14                             Mind Circus Innovation   \n",
       "15                                     Edubridgeindia   \n",
       "16                                    Siemens Limited   \n",
       "17                                     Liventus, Inc.   \n",
       "18                                           Quantsys   \n",
       "19               CONDUENT BUSINESS SERVICES INDIA LLP   \n",
       "\n",
       "                                            JobTitles  \n",
       "0     Data Scientist / Data Analyst -Business Analyst  \n",
       "1                                 Junior Data Analyst  \n",
       "2                                 Junior Data Analyst  \n",
       "3                       Network Design & Data Analyst  \n",
       "4                                       Data analysts  \n",
       "5                                        Data Analyst  \n",
       "6                           Consultant - Data Analyst  \n",
       "7   Assistant Vice President - MIS & Reporting ( B...  \n",
       "8                                        Data Analyst  \n",
       "9                                        Data Analyst  \n",
       "10            Business Data Analyst - MIS & Reporting  \n",
       "11                                       Data Analyst  \n",
       "12                                       Data Analyst  \n",
       "13                      Market Data Business Analyst,  \n",
       "14   Excel VBA Jobs Bangalore | VBA data analyst Jobs  \n",
       "15    Software Developer / Web Developer/data analyst  \n",
       "16                                       Data Analyst  \n",
       "17                                Senior Data Analyst  \n",
       "18  Data Analyst – Financial, Healthcare, Sports B...  \n",
       "19                                 Data Analyst Azure  "
      ]
     },
     "execution_count": 233,
     "metadata": {},
     "output_type": "execute_result"
    }
   ],
   "source": [
    "NaukriData"
   ]
  },
  {
   "cell_type": "code",
   "execution_count": null,
   "metadata": {},
   "outputs": [],
   "source": [
    "#Q6 : Scrape data of first 100 sunglasses listings on flipkart.com. You have to \n",
    "#scrape four attributes:1. Brand 2. Product Description 3. Price 4. Discount %"
   ]
  },
  {
   "cell_type": "code",
   "execution_count": 12,
   "metadata": {},
   "outputs": [],
   "source": [
    "url_n='https://www.flipkart.com/'"
   ]
  },
  {
   "cell_type": "code",
   "execution_count": 13,
   "metadata": {},
   "outputs": [],
   "source": [
    "driver.get(url_n)"
   ]
  },
  {
   "cell_type": "code",
   "execution_count": 14,
   "metadata": {},
   "outputs": [],
   "source": [
    "search_name=driver.find_elements_by_xpath(\"//div[@class='_2WkVRV']\")"
   ]
  },
  {
   "cell_type": "code",
   "execution_count": 15,
   "metadata": {},
   "outputs": [
    {
     "data": {
      "text/plain": [
       "[<selenium.webdriver.remote.webelement.WebElement (session=\"5578cf3dee6f863a6ea8fe7a3b1eccb7\", element=\"853973de-5d53-4c16-8c03-e062dc3b7a9b\")>,\n",
       " <selenium.webdriver.remote.webelement.WebElement (session=\"5578cf3dee6f863a6ea8fe7a3b1eccb7\", element=\"dd980b38-e9b9-4475-adb9-0ef0495bd66e\")>,\n",
       " <selenium.webdriver.remote.webelement.WebElement (session=\"5578cf3dee6f863a6ea8fe7a3b1eccb7\", element=\"e8bec200-55f3-479d-accd-14d3aeba4830\")>,\n",
       " <selenium.webdriver.remote.webelement.WebElement (session=\"5578cf3dee6f863a6ea8fe7a3b1eccb7\", element=\"476e70cf-776f-426d-bbcc-0918cb7f9951\")>,\n",
       " <selenium.webdriver.remote.webelement.WebElement (session=\"5578cf3dee6f863a6ea8fe7a3b1eccb7\", element=\"79607797-65aa-4179-a6cb-71a2ef2b07b5\")>,\n",
       " <selenium.webdriver.remote.webelement.WebElement (session=\"5578cf3dee6f863a6ea8fe7a3b1eccb7\", element=\"71e68966-7282-4902-8341-c4787834be42\")>,\n",
       " <selenium.webdriver.remote.webelement.WebElement (session=\"5578cf3dee6f863a6ea8fe7a3b1eccb7\", element=\"76223877-7fe6-4e4f-a349-6e65f7e39bbf\")>,\n",
       " <selenium.webdriver.remote.webelement.WebElement (session=\"5578cf3dee6f863a6ea8fe7a3b1eccb7\", element=\"66e9f8ba-cb79-45b3-80fb-7dcd363f8afc\")>,\n",
       " <selenium.webdriver.remote.webelement.WebElement (session=\"5578cf3dee6f863a6ea8fe7a3b1eccb7\", element=\"9f0bba82-2367-46fe-b2f2-7c05e39d7e15\")>,\n",
       " <selenium.webdriver.remote.webelement.WebElement (session=\"5578cf3dee6f863a6ea8fe7a3b1eccb7\", element=\"c20f0274-9e92-46cf-85a8-9db6150078fd\")>,\n",
       " <selenium.webdriver.remote.webelement.WebElement (session=\"5578cf3dee6f863a6ea8fe7a3b1eccb7\", element=\"7cae4e3f-439f-4979-a710-9aff3ae78cf8\")>,\n",
       " <selenium.webdriver.remote.webelement.WebElement (session=\"5578cf3dee6f863a6ea8fe7a3b1eccb7\", element=\"0dae955b-737c-435e-a1e7-3061a0e407fc\")>,\n",
       " <selenium.webdriver.remote.webelement.WebElement (session=\"5578cf3dee6f863a6ea8fe7a3b1eccb7\", element=\"6fc17102-8427-440e-9c50-4559f4777557\")>,\n",
       " <selenium.webdriver.remote.webelement.WebElement (session=\"5578cf3dee6f863a6ea8fe7a3b1eccb7\", element=\"a910a50b-dbc0-49e7-8708-93c6b4974546\")>,\n",
       " <selenium.webdriver.remote.webelement.WebElement (session=\"5578cf3dee6f863a6ea8fe7a3b1eccb7\", element=\"cd1b75a1-1295-4905-8dc6-97b71ccd5628\")>,\n",
       " <selenium.webdriver.remote.webelement.WebElement (session=\"5578cf3dee6f863a6ea8fe7a3b1eccb7\", element=\"ffdf14d7-5efd-4fec-8c27-34ba11b98e84\")>,\n",
       " <selenium.webdriver.remote.webelement.WebElement (session=\"5578cf3dee6f863a6ea8fe7a3b1eccb7\", element=\"6b794c92-c248-432d-9d14-f7ab4efd221e\")>,\n",
       " <selenium.webdriver.remote.webelement.WebElement (session=\"5578cf3dee6f863a6ea8fe7a3b1eccb7\", element=\"49106171-a4e7-4f9f-ae4d-2d8b0520be03\")>,\n",
       " <selenium.webdriver.remote.webelement.WebElement (session=\"5578cf3dee6f863a6ea8fe7a3b1eccb7\", element=\"b314c612-75f7-466c-af09-349f1fca6cb1\")>,\n",
       " <selenium.webdriver.remote.webelement.WebElement (session=\"5578cf3dee6f863a6ea8fe7a3b1eccb7\", element=\"021fa2e1-1571-46cf-9a0c-46d92dd40690\")>,\n",
       " <selenium.webdriver.remote.webelement.WebElement (session=\"5578cf3dee6f863a6ea8fe7a3b1eccb7\", element=\"99569478-2ef2-4a62-8952-6baa198ce803\")>,\n",
       " <selenium.webdriver.remote.webelement.WebElement (session=\"5578cf3dee6f863a6ea8fe7a3b1eccb7\", element=\"e64354dd-c4c5-4de7-b819-d88fc7029d36\")>,\n",
       " <selenium.webdriver.remote.webelement.WebElement (session=\"5578cf3dee6f863a6ea8fe7a3b1eccb7\", element=\"8cdb016f-1774-4189-915e-c66745353941\")>,\n",
       " <selenium.webdriver.remote.webelement.WebElement (session=\"5578cf3dee6f863a6ea8fe7a3b1eccb7\", element=\"28cae5e2-1d3a-4ecf-b1ef-503c4112489c\")>,\n",
       " <selenium.webdriver.remote.webelement.WebElement (session=\"5578cf3dee6f863a6ea8fe7a3b1eccb7\", element=\"b8f4270b-173f-42f6-a1d9-cb8319e9c115\")>,\n",
       " <selenium.webdriver.remote.webelement.WebElement (session=\"5578cf3dee6f863a6ea8fe7a3b1eccb7\", element=\"e0f11f78-5adf-4cef-89e8-e866d0576716\")>,\n",
       " <selenium.webdriver.remote.webelement.WebElement (session=\"5578cf3dee6f863a6ea8fe7a3b1eccb7\", element=\"e1977ce3-b2f8-4140-8f23-aa68c574542a\")>,\n",
       " <selenium.webdriver.remote.webelement.WebElement (session=\"5578cf3dee6f863a6ea8fe7a3b1eccb7\", element=\"7fa01fee-4336-45c3-9b22-66098de7b0ba\")>,\n",
       " <selenium.webdriver.remote.webelement.WebElement (session=\"5578cf3dee6f863a6ea8fe7a3b1eccb7\", element=\"e8904286-b0b2-425a-8ca3-9dae191ba49d\")>,\n",
       " <selenium.webdriver.remote.webelement.WebElement (session=\"5578cf3dee6f863a6ea8fe7a3b1eccb7\", element=\"8c665a71-4ca4-4666-a501-3ac931380e72\")>,\n",
       " <selenium.webdriver.remote.webelement.WebElement (session=\"5578cf3dee6f863a6ea8fe7a3b1eccb7\", element=\"b70208ba-b124-4c8c-a200-2cd4f9682131\")>,\n",
       " <selenium.webdriver.remote.webelement.WebElement (session=\"5578cf3dee6f863a6ea8fe7a3b1eccb7\", element=\"75db6cfb-ec81-49e4-a6b1-9fedb5789d68\")>,\n",
       " <selenium.webdriver.remote.webelement.WebElement (session=\"5578cf3dee6f863a6ea8fe7a3b1eccb7\", element=\"1787180d-c771-4e38-889f-6246d2a78c43\")>,\n",
       " <selenium.webdriver.remote.webelement.WebElement (session=\"5578cf3dee6f863a6ea8fe7a3b1eccb7\", element=\"05c019c7-56a1-4aec-b84c-891b90446c3c\")>,\n",
       " <selenium.webdriver.remote.webelement.WebElement (session=\"5578cf3dee6f863a6ea8fe7a3b1eccb7\", element=\"f1a537f3-92ce-4fe4-9a3b-0d569873ac21\")>,\n",
       " <selenium.webdriver.remote.webelement.WebElement (session=\"5578cf3dee6f863a6ea8fe7a3b1eccb7\", element=\"8db01a75-834c-4a5a-b575-a74c39e1457b\")>,\n",
       " <selenium.webdriver.remote.webelement.WebElement (session=\"5578cf3dee6f863a6ea8fe7a3b1eccb7\", element=\"1a675ac1-5975-431a-94f2-31946e3434a7\")>,\n",
       " <selenium.webdriver.remote.webelement.WebElement (session=\"5578cf3dee6f863a6ea8fe7a3b1eccb7\", element=\"b9b4e703-32ca-458c-8c16-588477c0051f\")>,\n",
       " <selenium.webdriver.remote.webelement.WebElement (session=\"5578cf3dee6f863a6ea8fe7a3b1eccb7\", element=\"0cf66be0-59de-4d05-a0fd-29f1e59a2532\")>,\n",
       " <selenium.webdriver.remote.webelement.WebElement (session=\"5578cf3dee6f863a6ea8fe7a3b1eccb7\", element=\"d59ebaf2-ccc4-467e-bc20-6610d7d88d81\")>]"
      ]
     },
     "execution_count": 15,
     "metadata": {},
     "output_type": "execute_result"
    }
   ],
   "source": [
    "search_name"
   ]
  },
  {
   "cell_type": "code",
   "execution_count": 16,
   "metadata": {},
   "outputs": [
    {
     "data": {
      "text/plain": [
       "['Singco India',\n",
       " 'Fastrack',\n",
       " 'PIRASO',\n",
       " 'ROZZETTA CRAFT',\n",
       " 'NuVew',\n",
       " 'Fastrack',\n",
       " 'ROYAL SON',\n",
       " 'hipe',\n",
       " 'Fastrack',\n",
       " 'Singco India',\n",
       " 'PIRASO',\n",
       " 'hipe',\n",
       " 'PHENOMENAL',\n",
       " 'ROYAL SON',\n",
       " 'Singco India',\n",
       " 'kingsunglasses',\n",
       " 'IRUS by IDEE',\n",
       " 'PHENOMENAL',\n",
       " 'Fastrack',\n",
       " 'hipe',\n",
       " 'ROYAL SON',\n",
       " 'kingsunglasses',\n",
       " 'ROZZETTA CRAFT',\n",
       " 'Singco',\n",
       " 'PHENOMENAL',\n",
       " 'Fastrack',\n",
       " 'ROZZETTA CRAFT',\n",
       " 'Fravy',\n",
       " 'hipe',\n",
       " 'Fastrack',\n",
       " 'Fastrack',\n",
       " 'NuVew',\n",
       " 'AISLIN',\n",
       " 'Fastrack',\n",
       " 'GANSTA',\n",
       " 'GANSTA',\n",
       " 'Wrogn',\n",
       " 'Fastrack',\n",
       " 'NuVew',\n",
       " 'Fastrack']"
      ]
     },
     "execution_count": 16,
     "metadata": {},
     "output_type": "execute_result"
    }
   ],
   "source": [
    "Sunglasses_N=[]\n",
    "for k in search_name:\n",
    "    Sunglasses_N.append(k.text)\n",
    "Sunglasses_N"
   ]
  },
  {
   "cell_type": "code",
   "execution_count": 17,
   "metadata": {},
   "outputs": [
    {
     "data": {
      "text/plain": [
       "40"
      ]
     },
     "execution_count": 17,
     "metadata": {},
     "output_type": "execute_result"
    }
   ],
   "source": [
    "len(Sunglasses_N)"
   ]
  },
  {
   "cell_type": "code",
   "execution_count": 18,
   "metadata": {},
   "outputs": [],
   "source": [
    "price_tags=driver.find_elements_by_xpath(\"//div[@class='_30jeq3']\")"
   ]
  },
  {
   "cell_type": "code",
   "execution_count": 19,
   "metadata": {},
   "outputs": [
    {
     "data": {
      "text/plain": [
       "[<selenium.webdriver.remote.webelement.WebElement (session=\"5578cf3dee6f863a6ea8fe7a3b1eccb7\", element=\"38a3c0d8-eb5e-41f6-8690-e1ae63f7776a\")>,\n",
       " <selenium.webdriver.remote.webelement.WebElement (session=\"5578cf3dee6f863a6ea8fe7a3b1eccb7\", element=\"79c44d3a-daf0-4400-8f65-a082c3e579b8\")>,\n",
       " <selenium.webdriver.remote.webelement.WebElement (session=\"5578cf3dee6f863a6ea8fe7a3b1eccb7\", element=\"750f95b2-9900-4d41-b1bf-a6ed05faf363\")>,\n",
       " <selenium.webdriver.remote.webelement.WebElement (session=\"5578cf3dee6f863a6ea8fe7a3b1eccb7\", element=\"108cf4d3-7595-4051-a499-b7ea5983e514\")>,\n",
       " <selenium.webdriver.remote.webelement.WebElement (session=\"5578cf3dee6f863a6ea8fe7a3b1eccb7\", element=\"24c14580-df67-4030-b7d3-7e29053dc293\")>,\n",
       " <selenium.webdriver.remote.webelement.WebElement (session=\"5578cf3dee6f863a6ea8fe7a3b1eccb7\", element=\"c8061141-ae77-4b8c-968d-e1308bd19b62\")>,\n",
       " <selenium.webdriver.remote.webelement.WebElement (session=\"5578cf3dee6f863a6ea8fe7a3b1eccb7\", element=\"888a4bff-011c-45d2-90ac-83f3632a630f\")>,\n",
       " <selenium.webdriver.remote.webelement.WebElement (session=\"5578cf3dee6f863a6ea8fe7a3b1eccb7\", element=\"fe51aca9-26df-4841-a2b1-52301784b570\")>,\n",
       " <selenium.webdriver.remote.webelement.WebElement (session=\"5578cf3dee6f863a6ea8fe7a3b1eccb7\", element=\"4e4b015a-91f1-4ab5-bccb-c3da37f6489f\")>,\n",
       " <selenium.webdriver.remote.webelement.WebElement (session=\"5578cf3dee6f863a6ea8fe7a3b1eccb7\", element=\"07dee194-5f04-4466-8ade-d33b20ece959\")>,\n",
       " <selenium.webdriver.remote.webelement.WebElement (session=\"5578cf3dee6f863a6ea8fe7a3b1eccb7\", element=\"1f684efd-e9f8-4ebd-a39e-1da472a0091a\")>,\n",
       " <selenium.webdriver.remote.webelement.WebElement (session=\"5578cf3dee6f863a6ea8fe7a3b1eccb7\", element=\"6b973014-a831-4637-b328-35166eec9adf\")>,\n",
       " <selenium.webdriver.remote.webelement.WebElement (session=\"5578cf3dee6f863a6ea8fe7a3b1eccb7\", element=\"19686487-d589-4f27-adf4-90c31c2d8f73\")>,\n",
       " <selenium.webdriver.remote.webelement.WebElement (session=\"5578cf3dee6f863a6ea8fe7a3b1eccb7\", element=\"6b592ee6-d2c6-477c-a971-61d03c1ca6a5\")>,\n",
       " <selenium.webdriver.remote.webelement.WebElement (session=\"5578cf3dee6f863a6ea8fe7a3b1eccb7\", element=\"30d4add3-5f7a-42bc-9168-bb4d0ed83366\")>,\n",
       " <selenium.webdriver.remote.webelement.WebElement (session=\"5578cf3dee6f863a6ea8fe7a3b1eccb7\", element=\"1703ff2c-9c91-49c8-b381-5a789d1e0215\")>,\n",
       " <selenium.webdriver.remote.webelement.WebElement (session=\"5578cf3dee6f863a6ea8fe7a3b1eccb7\", element=\"f8326cae-3730-42a3-8de1-23019b5e92e2\")>,\n",
       " <selenium.webdriver.remote.webelement.WebElement (session=\"5578cf3dee6f863a6ea8fe7a3b1eccb7\", element=\"ff090c8e-41d1-4b3c-a70d-1160e0d92e78\")>,\n",
       " <selenium.webdriver.remote.webelement.WebElement (session=\"5578cf3dee6f863a6ea8fe7a3b1eccb7\", element=\"71011432-2bfa-42ec-9e69-bbd65eeef4a3\")>,\n",
       " <selenium.webdriver.remote.webelement.WebElement (session=\"5578cf3dee6f863a6ea8fe7a3b1eccb7\", element=\"f58dfdf6-ff72-4e63-a794-af5cf8e509c5\")>,\n",
       " <selenium.webdriver.remote.webelement.WebElement (session=\"5578cf3dee6f863a6ea8fe7a3b1eccb7\", element=\"efaadec8-1217-43ea-bd48-df6a533cd3d3\")>,\n",
       " <selenium.webdriver.remote.webelement.WebElement (session=\"5578cf3dee6f863a6ea8fe7a3b1eccb7\", element=\"4805f094-3ab2-423e-b0ce-aea5f1eaabac\")>,\n",
       " <selenium.webdriver.remote.webelement.WebElement (session=\"5578cf3dee6f863a6ea8fe7a3b1eccb7\", element=\"471c8b1f-31c5-4c84-aa30-afba673abc08\")>,\n",
       " <selenium.webdriver.remote.webelement.WebElement (session=\"5578cf3dee6f863a6ea8fe7a3b1eccb7\", element=\"87e8c6e0-0ca5-44b4-ab2a-a914b2dfc92e\")>,\n",
       " <selenium.webdriver.remote.webelement.WebElement (session=\"5578cf3dee6f863a6ea8fe7a3b1eccb7\", element=\"fa1ae0f9-98e5-4f54-9952-b60f72b2b301\")>,\n",
       " <selenium.webdriver.remote.webelement.WebElement (session=\"5578cf3dee6f863a6ea8fe7a3b1eccb7\", element=\"4ebedc20-f5da-4bec-86b5-7840666d4081\")>,\n",
       " <selenium.webdriver.remote.webelement.WebElement (session=\"5578cf3dee6f863a6ea8fe7a3b1eccb7\", element=\"ca2e15d0-24f2-44e5-aacc-fa2493623451\")>,\n",
       " <selenium.webdriver.remote.webelement.WebElement (session=\"5578cf3dee6f863a6ea8fe7a3b1eccb7\", element=\"fe278d29-57ab-4253-93de-2edf0f98bbfc\")>,\n",
       " <selenium.webdriver.remote.webelement.WebElement (session=\"5578cf3dee6f863a6ea8fe7a3b1eccb7\", element=\"867a5b2d-34be-4014-bbb5-4f69c2c6085e\")>,\n",
       " <selenium.webdriver.remote.webelement.WebElement (session=\"5578cf3dee6f863a6ea8fe7a3b1eccb7\", element=\"ec3717ae-3cf9-406f-9cd5-b7dc5b99ad9c\")>,\n",
       " <selenium.webdriver.remote.webelement.WebElement (session=\"5578cf3dee6f863a6ea8fe7a3b1eccb7\", element=\"289c33bd-b225-4a2e-96a6-111ee84717e3\")>,\n",
       " <selenium.webdriver.remote.webelement.WebElement (session=\"5578cf3dee6f863a6ea8fe7a3b1eccb7\", element=\"6cc9ddd5-dc18-4866-96d7-dc5c975520b6\")>,\n",
       " <selenium.webdriver.remote.webelement.WebElement (session=\"5578cf3dee6f863a6ea8fe7a3b1eccb7\", element=\"7cc9fd2a-4351-446d-b85c-383ef958c8d9\")>,\n",
       " <selenium.webdriver.remote.webelement.WebElement (session=\"5578cf3dee6f863a6ea8fe7a3b1eccb7\", element=\"8806bfd7-18c9-4800-830f-e8d1352e8d59\")>,\n",
       " <selenium.webdriver.remote.webelement.WebElement (session=\"5578cf3dee6f863a6ea8fe7a3b1eccb7\", element=\"8beb79ab-c589-4960-baf7-06553e4af5d8\")>,\n",
       " <selenium.webdriver.remote.webelement.WebElement (session=\"5578cf3dee6f863a6ea8fe7a3b1eccb7\", element=\"93ff7f11-d1a7-4dba-9c8a-dc582d421e4e\")>,\n",
       " <selenium.webdriver.remote.webelement.WebElement (session=\"5578cf3dee6f863a6ea8fe7a3b1eccb7\", element=\"fccac9c7-124e-435e-95a7-35ac4c2a7095\")>,\n",
       " <selenium.webdriver.remote.webelement.WebElement (session=\"5578cf3dee6f863a6ea8fe7a3b1eccb7\", element=\"4fdfbae3-9a69-46b4-953c-5b753696437f\")>,\n",
       " <selenium.webdriver.remote.webelement.WebElement (session=\"5578cf3dee6f863a6ea8fe7a3b1eccb7\", element=\"fc4c38ab-4533-407a-9ce7-5107878d6c74\")>,\n",
       " <selenium.webdriver.remote.webelement.WebElement (session=\"5578cf3dee6f863a6ea8fe7a3b1eccb7\", element=\"0fdd1569-0730-43de-9c11-57be1aed05ec\")>]"
      ]
     },
     "execution_count": 19,
     "metadata": {},
     "output_type": "execute_result"
    }
   ],
   "source": [
    "price_tags"
   ]
  },
  {
   "cell_type": "code",
   "execution_count": 20,
   "metadata": {},
   "outputs": [
    {
     "data": {
      "text/plain": [
       "['₹236',\n",
       " '₹748',\n",
       " '₹237',\n",
       " '₹449',\n",
       " '₹215',\n",
       " '₹738',\n",
       " '₹215',\n",
       " '₹197',\n",
       " '₹549',\n",
       " '₹352',\n",
       " '₹237',\n",
       " '₹205',\n",
       " '₹399',\n",
       " '₹375',\n",
       " '₹214',\n",
       " '₹210',\n",
       " '₹606',\n",
       " '₹399',\n",
       " '₹758',\n",
       " '₹299',\n",
       " '₹262',\n",
       " '₹249',\n",
       " '₹499',\n",
       " '₹252',\n",
       " '₹319',\n",
       " '₹733',\n",
       " '₹398',\n",
       " '₹299',\n",
       " '₹209',\n",
       " '₹655',\n",
       " '₹782',\n",
       " '₹185',\n",
       " '₹545',\n",
       " '₹828',\n",
       " '₹233',\n",
       " '₹292',\n",
       " '₹711',\n",
       " '₹1,828',\n",
       " '₹235',\n",
       " '₹1,115']"
      ]
     },
     "execution_count": 20,
     "metadata": {},
     "output_type": "execute_result"
    }
   ],
   "source": [
    "Prices=[]\n",
    "for k in price_tags:\n",
    "    Prices.append(k.text)\n",
    "Prices"
   ]
  },
  {
   "cell_type": "code",
   "execution_count": 21,
   "metadata": {},
   "outputs": [],
   "source": [
    "discount_tags=driver.find_elements_by_xpath(\"//div[@class='_3Ay6Sb']\")"
   ]
  },
  {
   "cell_type": "code",
   "execution_count": 22,
   "metadata": {},
   "outputs": [
    {
     "data": {
      "text/plain": [
       "[<selenium.webdriver.remote.webelement.WebElement (session=\"5578cf3dee6f863a6ea8fe7a3b1eccb7\", element=\"e3bdaecb-08d8-469d-b484-5c9078b091fc\")>,\n",
       " <selenium.webdriver.remote.webelement.WebElement (session=\"5578cf3dee6f863a6ea8fe7a3b1eccb7\", element=\"f4df8790-7625-443f-b9a9-04d9120505cc\")>,\n",
       " <selenium.webdriver.remote.webelement.WebElement (session=\"5578cf3dee6f863a6ea8fe7a3b1eccb7\", element=\"c46405d4-ee37-4d55-aa01-59b45be4d267\")>,\n",
       " <selenium.webdriver.remote.webelement.WebElement (session=\"5578cf3dee6f863a6ea8fe7a3b1eccb7\", element=\"532d54e6-8e25-409d-ba48-043adee4a7be\")>,\n",
       " <selenium.webdriver.remote.webelement.WebElement (session=\"5578cf3dee6f863a6ea8fe7a3b1eccb7\", element=\"087f6139-f6be-4fd0-8e22-d24b1a457a54\")>,\n",
       " <selenium.webdriver.remote.webelement.WebElement (session=\"5578cf3dee6f863a6ea8fe7a3b1eccb7\", element=\"9a270b44-c701-47d7-a4ba-e39c5d6a1e81\")>,\n",
       " <selenium.webdriver.remote.webelement.WebElement (session=\"5578cf3dee6f863a6ea8fe7a3b1eccb7\", element=\"08ec00e5-16e6-41b0-80f1-12b8e77940aa\")>,\n",
       " <selenium.webdriver.remote.webelement.WebElement (session=\"5578cf3dee6f863a6ea8fe7a3b1eccb7\", element=\"d480e66d-d72f-43b8-9529-a3659e8b4dfb\")>,\n",
       " <selenium.webdriver.remote.webelement.WebElement (session=\"5578cf3dee6f863a6ea8fe7a3b1eccb7\", element=\"93b7da65-7ce3-4184-b6e5-2b2541987eac\")>,\n",
       " <selenium.webdriver.remote.webelement.WebElement (session=\"5578cf3dee6f863a6ea8fe7a3b1eccb7\", element=\"cd0d4070-4ebc-499e-b36d-5a69aaf72c61\")>,\n",
       " <selenium.webdriver.remote.webelement.WebElement (session=\"5578cf3dee6f863a6ea8fe7a3b1eccb7\", element=\"9ba93f4a-f553-4011-a823-5dca425765e9\")>,\n",
       " <selenium.webdriver.remote.webelement.WebElement (session=\"5578cf3dee6f863a6ea8fe7a3b1eccb7\", element=\"51aa32fa-462c-49a3-b8e1-17963c228765\")>,\n",
       " <selenium.webdriver.remote.webelement.WebElement (session=\"5578cf3dee6f863a6ea8fe7a3b1eccb7\", element=\"85b7f6f3-5807-4087-a3e5-a0230f08e98f\")>,\n",
       " <selenium.webdriver.remote.webelement.WebElement (session=\"5578cf3dee6f863a6ea8fe7a3b1eccb7\", element=\"54572a07-9a0e-451f-9054-2427dff21cd4\")>,\n",
       " <selenium.webdriver.remote.webelement.WebElement (session=\"5578cf3dee6f863a6ea8fe7a3b1eccb7\", element=\"fcdd9fc9-ee15-4092-b056-10665bbece11\")>,\n",
       " <selenium.webdriver.remote.webelement.WebElement (session=\"5578cf3dee6f863a6ea8fe7a3b1eccb7\", element=\"0616bfb6-f663-4e7b-b83a-0cf2c77cf9ec\")>,\n",
       " <selenium.webdriver.remote.webelement.WebElement (session=\"5578cf3dee6f863a6ea8fe7a3b1eccb7\", element=\"ec02cf82-0ec6-41c6-9325-98287ea71979\")>,\n",
       " <selenium.webdriver.remote.webelement.WebElement (session=\"5578cf3dee6f863a6ea8fe7a3b1eccb7\", element=\"48f92abb-2e88-4e4b-86c7-b8ef1120595e\")>,\n",
       " <selenium.webdriver.remote.webelement.WebElement (session=\"5578cf3dee6f863a6ea8fe7a3b1eccb7\", element=\"3d413421-920b-4de1-aa9d-5dba69ac7c2e\")>,\n",
       " <selenium.webdriver.remote.webelement.WebElement (session=\"5578cf3dee6f863a6ea8fe7a3b1eccb7\", element=\"09bf3811-70e0-4ac0-b133-0e9b85afdf9b\")>,\n",
       " <selenium.webdriver.remote.webelement.WebElement (session=\"5578cf3dee6f863a6ea8fe7a3b1eccb7\", element=\"11011b05-0205-447e-8593-9524faf6025c\")>,\n",
       " <selenium.webdriver.remote.webelement.WebElement (session=\"5578cf3dee6f863a6ea8fe7a3b1eccb7\", element=\"ff1fe171-99a8-4321-946b-6b2b9661abd0\")>,\n",
       " <selenium.webdriver.remote.webelement.WebElement (session=\"5578cf3dee6f863a6ea8fe7a3b1eccb7\", element=\"564ee3e0-4d8e-4f1c-b132-587f2acdb9d6\")>,\n",
       " <selenium.webdriver.remote.webelement.WebElement (session=\"5578cf3dee6f863a6ea8fe7a3b1eccb7\", element=\"49aeac71-4d29-41df-887f-b66b6841eaaa\")>,\n",
       " <selenium.webdriver.remote.webelement.WebElement (session=\"5578cf3dee6f863a6ea8fe7a3b1eccb7\", element=\"e8915325-b6cf-48e5-89e2-ca520fdbb852\")>,\n",
       " <selenium.webdriver.remote.webelement.WebElement (session=\"5578cf3dee6f863a6ea8fe7a3b1eccb7\", element=\"933c0ce8-e429-4ecb-9bf0-2ed9441db146\")>,\n",
       " <selenium.webdriver.remote.webelement.WebElement (session=\"5578cf3dee6f863a6ea8fe7a3b1eccb7\", element=\"ef9b0781-0a13-45d3-95a1-999543af5256\")>,\n",
       " <selenium.webdriver.remote.webelement.WebElement (session=\"5578cf3dee6f863a6ea8fe7a3b1eccb7\", element=\"63acd495-14cd-40cd-969e-2a7c4fc9f901\")>,\n",
       " <selenium.webdriver.remote.webelement.WebElement (session=\"5578cf3dee6f863a6ea8fe7a3b1eccb7\", element=\"46001da0-4119-4704-802d-f5989c8ca47d\")>,\n",
       " <selenium.webdriver.remote.webelement.WebElement (session=\"5578cf3dee6f863a6ea8fe7a3b1eccb7\", element=\"652b29a8-b105-410b-a23e-66f47a37758f\")>,\n",
       " <selenium.webdriver.remote.webelement.WebElement (session=\"5578cf3dee6f863a6ea8fe7a3b1eccb7\", element=\"80b986d5-d385-4118-b188-934dfcfdf90d\")>,\n",
       " <selenium.webdriver.remote.webelement.WebElement (session=\"5578cf3dee6f863a6ea8fe7a3b1eccb7\", element=\"4f0477e8-7a29-497d-8a0a-3080c214868b\")>,\n",
       " <selenium.webdriver.remote.webelement.WebElement (session=\"5578cf3dee6f863a6ea8fe7a3b1eccb7\", element=\"ff27188f-69f8-421b-b173-8cc742745853\")>,\n",
       " <selenium.webdriver.remote.webelement.WebElement (session=\"5578cf3dee6f863a6ea8fe7a3b1eccb7\", element=\"3d3f58eb-7f36-4fa4-b2ef-e042725e5d8d\")>,\n",
       " <selenium.webdriver.remote.webelement.WebElement (session=\"5578cf3dee6f863a6ea8fe7a3b1eccb7\", element=\"ff29fd04-88f4-472e-a879-b5b36bca9e9e\")>,\n",
       " <selenium.webdriver.remote.webelement.WebElement (session=\"5578cf3dee6f863a6ea8fe7a3b1eccb7\", element=\"b5015119-c88c-4cec-a7a9-bbcf27f5dfbd\")>,\n",
       " <selenium.webdriver.remote.webelement.WebElement (session=\"5578cf3dee6f863a6ea8fe7a3b1eccb7\", element=\"7e8d72bf-fab8-4f4c-a6ca-31883fbeb8fc\")>,\n",
       " <selenium.webdriver.remote.webelement.WebElement (session=\"5578cf3dee6f863a6ea8fe7a3b1eccb7\", element=\"62fd2907-b51f-4ab3-a65f-a87a97e480f1\")>,\n",
       " <selenium.webdriver.remote.webelement.WebElement (session=\"5578cf3dee6f863a6ea8fe7a3b1eccb7\", element=\"d2deef23-a6ac-4544-b9de-4e96d3ef2a5a\")>,\n",
       " <selenium.webdriver.remote.webelement.WebElement (session=\"5578cf3dee6f863a6ea8fe7a3b1eccb7\", element=\"337f9cb7-d9f0-419e-9c47-367182d2f10d\")>]"
      ]
     },
     "execution_count": 22,
     "metadata": {},
     "output_type": "execute_result"
    }
   ],
   "source": [
    "discount_tags"
   ]
  },
  {
   "cell_type": "code",
   "execution_count": 23,
   "metadata": {},
   "outputs": [
    {
     "data": {
      "text/plain": [
       "['84% off',\n",
       " '6% off',\n",
       " '85% off',\n",
       " '77% off',\n",
       " '72% off',\n",
       " '26% off',\n",
       " '78% off',\n",
       " '80% off',\n",
       " '31% off',\n",
       " '70% off',\n",
       " '85% off',\n",
       " '79% off',\n",
       " '80% off',\n",
       " '74% off',\n",
       " '69% off',\n",
       " '83% off',\n",
       " '52% off',\n",
       " '80% off',\n",
       " '15% off',\n",
       " '76% off',\n",
       " '79% off',\n",
       " '79% off',\n",
       " '77% off',\n",
       " '74% off',\n",
       " '84% off',\n",
       " '18% off',\n",
       " '73% off',\n",
       " '80% off',\n",
       " '79% off',\n",
       " '18% off',\n",
       " '2% off',\n",
       " '75% off',\n",
       " '64% off',\n",
       " '7% off',\n",
       " '82% off',\n",
       " '85% off',\n",
       " '72% off',\n",
       " '8% off',\n",
       " '75% off',\n",
       " '14% off']"
      ]
     },
     "execution_count": 23,
     "metadata": {},
     "output_type": "execute_result"
    }
   ],
   "source": [
    "Discount_list=[]\n",
    "for l in discount_tags:\n",
    "    Discount_list.append(l.text)\n",
    "Discount_list"
   ]
  },
  {
   "cell_type": "code",
   "execution_count": 24,
   "metadata": {},
   "outputs": [],
   "source": [
    "description=driver.find_elements_by_xpath(\"//a[@class='IRpwTa']\")"
   ]
  },
  {
   "cell_type": "code",
   "execution_count": 25,
   "metadata": {},
   "outputs": [
    {
     "data": {
      "text/plain": [
       "[<selenium.webdriver.remote.webelement.WebElement (session=\"5578cf3dee6f863a6ea8fe7a3b1eccb7\", element=\"83eeea07-3ace-43c4-af62-6a94a0c8c6cf\")>,\n",
       " <selenium.webdriver.remote.webelement.WebElement (session=\"5578cf3dee6f863a6ea8fe7a3b1eccb7\", element=\"fa7c8ec4-6a4a-439f-a1d5-8e7643fb4422\")>,\n",
       " <selenium.webdriver.remote.webelement.WebElement (session=\"5578cf3dee6f863a6ea8fe7a3b1eccb7\", element=\"6580a300-eb62-499a-ab87-b2ca8675614a\")>,\n",
       " <selenium.webdriver.remote.webelement.WebElement (session=\"5578cf3dee6f863a6ea8fe7a3b1eccb7\", element=\"335b254b-b1de-4bf7-9d63-9eed73e45b99\")>,\n",
       " <selenium.webdriver.remote.webelement.WebElement (session=\"5578cf3dee6f863a6ea8fe7a3b1eccb7\", element=\"f5df5d4a-fba9-4d0b-b4cd-cae0fb1f49ae\")>,\n",
       " <selenium.webdriver.remote.webelement.WebElement (session=\"5578cf3dee6f863a6ea8fe7a3b1eccb7\", element=\"b6e08c32-d10a-4168-9b18-f95b86dcd8ce\")>,\n",
       " <selenium.webdriver.remote.webelement.WebElement (session=\"5578cf3dee6f863a6ea8fe7a3b1eccb7\", element=\"5fc20370-187e-4ccf-b6a4-3b9f542cabba\")>,\n",
       " <selenium.webdriver.remote.webelement.WebElement (session=\"5578cf3dee6f863a6ea8fe7a3b1eccb7\", element=\"42cd4690-9c34-4a11-b8b7-f86a3f805692\")>,\n",
       " <selenium.webdriver.remote.webelement.WebElement (session=\"5578cf3dee6f863a6ea8fe7a3b1eccb7\", element=\"be250eb5-1197-4a6f-8e3c-3957592d7482\")>,\n",
       " <selenium.webdriver.remote.webelement.WebElement (session=\"5578cf3dee6f863a6ea8fe7a3b1eccb7\", element=\"9e8f5b86-28e5-43ed-adb5-178b58ab96b5\")>,\n",
       " <selenium.webdriver.remote.webelement.WebElement (session=\"5578cf3dee6f863a6ea8fe7a3b1eccb7\", element=\"6fe6f1a1-b695-47c9-a2b7-76d4ef0f6bc2\")>,\n",
       " <selenium.webdriver.remote.webelement.WebElement (session=\"5578cf3dee6f863a6ea8fe7a3b1eccb7\", element=\"d7d0f5d5-abd5-41b5-8118-c5a6549190b2\")>,\n",
       " <selenium.webdriver.remote.webelement.WebElement (session=\"5578cf3dee6f863a6ea8fe7a3b1eccb7\", element=\"dbc25f16-14c2-40bc-8d1d-b3654eec7173\")>,\n",
       " <selenium.webdriver.remote.webelement.WebElement (session=\"5578cf3dee6f863a6ea8fe7a3b1eccb7\", element=\"7bbf70ea-570a-4099-9991-b32c291745d0\")>,\n",
       " <selenium.webdriver.remote.webelement.WebElement (session=\"5578cf3dee6f863a6ea8fe7a3b1eccb7\", element=\"609648e3-d4ad-45c2-b9fa-38032409f6a6\")>,\n",
       " <selenium.webdriver.remote.webelement.WebElement (session=\"5578cf3dee6f863a6ea8fe7a3b1eccb7\", element=\"f4022df5-c2f2-4813-878f-5fef948b01bc\")>,\n",
       " <selenium.webdriver.remote.webelement.WebElement (session=\"5578cf3dee6f863a6ea8fe7a3b1eccb7\", element=\"60aa0148-bce1-4359-81c1-70947f2ea8dc\")>,\n",
       " <selenium.webdriver.remote.webelement.WebElement (session=\"5578cf3dee6f863a6ea8fe7a3b1eccb7\", element=\"df05aa2d-cf14-4fd0-a0c3-283201c86b26\")>,\n",
       " <selenium.webdriver.remote.webelement.WebElement (session=\"5578cf3dee6f863a6ea8fe7a3b1eccb7\", element=\"7570dfca-31d0-415e-9e12-be1ba643243f\")>,\n",
       " <selenium.webdriver.remote.webelement.WebElement (session=\"5578cf3dee6f863a6ea8fe7a3b1eccb7\", element=\"74836a37-72ea-46e3-bbd9-0725ed6713ae\")>,\n",
       " <selenium.webdriver.remote.webelement.WebElement (session=\"5578cf3dee6f863a6ea8fe7a3b1eccb7\", element=\"286f4426-4903-405d-868a-7218b09ce5b6\")>,\n",
       " <selenium.webdriver.remote.webelement.WebElement (session=\"5578cf3dee6f863a6ea8fe7a3b1eccb7\", element=\"10c455dc-9c7b-45b0-9e57-b8a9e16391e8\")>,\n",
       " <selenium.webdriver.remote.webelement.WebElement (session=\"5578cf3dee6f863a6ea8fe7a3b1eccb7\", element=\"e5740817-0ed8-4b02-86ef-5ae3c68f014e\")>,\n",
       " <selenium.webdriver.remote.webelement.WebElement (session=\"5578cf3dee6f863a6ea8fe7a3b1eccb7\", element=\"220a2f7f-c5e7-48bd-94b7-41857cec5c94\")>,\n",
       " <selenium.webdriver.remote.webelement.WebElement (session=\"5578cf3dee6f863a6ea8fe7a3b1eccb7\", element=\"9eed92ff-aab1-485e-b75c-42094ab0a320\")>,\n",
       " <selenium.webdriver.remote.webelement.WebElement (session=\"5578cf3dee6f863a6ea8fe7a3b1eccb7\", element=\"62167f07-3192-46dc-9e47-9a86007c9e36\")>,\n",
       " <selenium.webdriver.remote.webelement.WebElement (session=\"5578cf3dee6f863a6ea8fe7a3b1eccb7\", element=\"57adeb49-80d4-4869-ae50-cf105309d9b8\")>,\n",
       " <selenium.webdriver.remote.webelement.WebElement (session=\"5578cf3dee6f863a6ea8fe7a3b1eccb7\", element=\"faea4d61-7afc-43d8-ab0d-b45575c990b3\")>,\n",
       " <selenium.webdriver.remote.webelement.WebElement (session=\"5578cf3dee6f863a6ea8fe7a3b1eccb7\", element=\"7e10ca31-ced3-4eeb-a791-8c9e2d0cb229\")>,\n",
       " <selenium.webdriver.remote.webelement.WebElement (session=\"5578cf3dee6f863a6ea8fe7a3b1eccb7\", element=\"c71ab518-d200-4056-9ec6-5d4278383db7\")>,\n",
       " <selenium.webdriver.remote.webelement.WebElement (session=\"5578cf3dee6f863a6ea8fe7a3b1eccb7\", element=\"b475a7fd-e58a-4197-87d2-3cfb1079f869\")>,\n",
       " <selenium.webdriver.remote.webelement.WebElement (session=\"5578cf3dee6f863a6ea8fe7a3b1eccb7\", element=\"8b6ce553-8109-4262-af7f-67991f0b6bf2\")>,\n",
       " <selenium.webdriver.remote.webelement.WebElement (session=\"5578cf3dee6f863a6ea8fe7a3b1eccb7\", element=\"e12d6b86-31b3-49df-9baf-2d2ba0a93e02\")>,\n",
       " <selenium.webdriver.remote.webelement.WebElement (session=\"5578cf3dee6f863a6ea8fe7a3b1eccb7\", element=\"a7aec0e6-cc3c-452f-8ac2-cfbfc464ddb9\")>,\n",
       " <selenium.webdriver.remote.webelement.WebElement (session=\"5578cf3dee6f863a6ea8fe7a3b1eccb7\", element=\"7c36f553-623c-4f24-82f0-dd98e2d25160\")>,\n",
       " <selenium.webdriver.remote.webelement.WebElement (session=\"5578cf3dee6f863a6ea8fe7a3b1eccb7\", element=\"41f117fe-140c-4deb-bb26-93da91c73bd5\")>,\n",
       " <selenium.webdriver.remote.webelement.WebElement (session=\"5578cf3dee6f863a6ea8fe7a3b1eccb7\", element=\"41c653f0-81e5-4177-b0c9-739f1664b73a\")>,\n",
       " <selenium.webdriver.remote.webelement.WebElement (session=\"5578cf3dee6f863a6ea8fe7a3b1eccb7\", element=\"9bbd2122-e616-4eb0-9266-dc58bf2fd939\")>,\n",
       " <selenium.webdriver.remote.webelement.WebElement (session=\"5578cf3dee6f863a6ea8fe7a3b1eccb7\", element=\"5034249e-92e9-440c-8f30-0434fb0765e8\")>,\n",
       " <selenium.webdriver.remote.webelement.WebElement (session=\"5578cf3dee6f863a6ea8fe7a3b1eccb7\", element=\"fe451a3f-0483-4b1c-a060-5d7cc16245c7\")>]"
      ]
     },
     "execution_count": 25,
     "metadata": {},
     "output_type": "execute_result"
    }
   ],
   "source": [
    "description"
   ]
  },
  {
   "cell_type": "code",
   "execution_count": 26,
   "metadata": {},
   "outputs": [
    {
     "data": {
      "text/plain": [
       "['Mirrored, Riding Glasses, Others Sports Sunglasses (50)',\n",
       " 'UV Protection Aviator Sunglasses (Free Size)',\n",
       " 'UV Protection Aviator Sunglasses (54)',\n",
       " 'Gradient, UV Protection Round Sunglasses (Free Size)',\n",
       " 'UV Protection Aviator Sunglasses (58)',\n",
       " 'Mirrored, UV Protection Wayfarer Sunglasses (Free Size)',\n",
       " 'UV Protection, Gradient Wayfarer Sunglasses (55)',\n",
       " 'UV Protection, Night Vision, Gradient, Mirrored Round, ...',\n",
       " 'UV Protection Wayfarer Sunglasses (Free Size)',\n",
       " 'UV Protection Aviator Sunglasses (Free Size)',\n",
       " 'UV Protection Aviator Sunglasses (54)',\n",
       " 'Mirrored Wayfarer Sunglasses (55)',\n",
       " 'UV Protection, Mirrored Retro Square Sunglasses (53)',\n",
       " 'Mirrored Aviator Sunglasses (55)',\n",
       " 'UV Protection, Riding Glasses, Others Aviator, Wayfarer...',\n",
       " 'UV Protection Rectangular Sunglasses (55)',\n",
       " 'Gradient Rectangular Sunglasses (56)',\n",
       " 'UV Protection, Mirrored Retro Square Sunglasses (Free S...',\n",
       " 'UV Protection Wayfarer Sunglasses (Free Size)',\n",
       " 'UV Protection, Gradient, Mirrored, Riding Glasses Recta...',\n",
       " 'UV Protection Wayfarer Sunglasses (55)',\n",
       " 'UV Protection, Mirrored Round Sunglasses (54)',\n",
       " 'UV Protection Retro Square Sunglasses (Free Size)',\n",
       " 'Mirrored Aviator Sunglasses (53)',\n",
       " 'UV Protection Clubmaster Sunglasses (Free Size)',\n",
       " 'UV Protection Wayfarer Sunglasses (Free Size)',\n",
       " 'UV Protection Rectangular Sunglasses (Free Size)',\n",
       " 'UV Protection Retro Square Sunglasses (Free Size)',\n",
       " 'UV Protection, Gradient, Mirrored, Riding Glasses Aviat...',\n",
       " 'UV Protection Wayfarer Sunglasses (Free Size)',\n",
       " 'UV Protection Wayfarer Sunglasses (Free Size)',\n",
       " 'UV Protection Aviator Sunglasses (57)',\n",
       " 'UV Protection, Gradient Butterfly, Retro Square Sunglas...',\n",
       " 'UV Protection Wayfarer Sunglasses (Free Size)',\n",
       " 'UV Protection Aviator Sunglasses (57)',\n",
       " 'UV Protection, Night Vision, Riding Glasses Aviator Sun...',\n",
       " 'Mirrored Retro Square Sunglasses (57)',\n",
       " 'Gradient Aviator Sunglasses (Free Size)',\n",
       " 'UV Protection, Riding Glasses Wayfarer Sunglasses (56)',\n",
       " 'UV Protection Aviator Sunglasses (58)']"
      ]
     },
     "execution_count": 26,
     "metadata": {},
     "output_type": "execute_result"
    }
   ],
   "source": [
    "Des_Sunglasses=[]\n",
    "for m in description:\n",
    "    Des_Sunglasses.append(m.text)\n",
    "Des_Sunglasses"
   ]
  },
  {
   "cell_type": "code",
   "execution_count": 33,
   "metadata": {},
   "outputs": [],
   "source": [
    "data=pd.DataFrame({'BrandName':Sunglasses_N,'Price of Glassess':Prices,'Discount of Glasses':Discount_list,'Des of Glassess':Des_Sunglasses})"
   ]
  },
  {
   "cell_type": "code",
   "execution_count": 34,
   "metadata": {},
   "outputs": [
    {
     "data": {
      "text/html": [
       "<div>\n",
       "<style scoped>\n",
       "    .dataframe tbody tr th:only-of-type {\n",
       "        vertical-align: middle;\n",
       "    }\n",
       "\n",
       "    .dataframe tbody tr th {\n",
       "        vertical-align: top;\n",
       "    }\n",
       "\n",
       "    .dataframe thead th {\n",
       "        text-align: right;\n",
       "    }\n",
       "</style>\n",
       "<table border=\"1\" class=\"dataframe\">\n",
       "  <thead>\n",
       "    <tr style=\"text-align: right;\">\n",
       "      <th></th>\n",
       "      <th>BrandName</th>\n",
       "      <th>Price of Glassess</th>\n",
       "      <th>Discount of Glasses</th>\n",
       "      <th>Des of Glassess</th>\n",
       "    </tr>\n",
       "  </thead>\n",
       "  <tbody>\n",
       "    <tr>\n",
       "      <th>0</th>\n",
       "      <td>Singco India</td>\n",
       "      <td>₹236</td>\n",
       "      <td>84% off</td>\n",
       "      <td>Mirrored, Riding Glasses, Others Sports Sungla...</td>\n",
       "    </tr>\n",
       "    <tr>\n",
       "      <th>1</th>\n",
       "      <td>Fastrack</td>\n",
       "      <td>₹748</td>\n",
       "      <td>6% off</td>\n",
       "      <td>UV Protection Aviator Sunglasses (Free Size)</td>\n",
       "    </tr>\n",
       "    <tr>\n",
       "      <th>2</th>\n",
       "      <td>PIRASO</td>\n",
       "      <td>₹237</td>\n",
       "      <td>85% off</td>\n",
       "      <td>UV Protection Aviator Sunglasses (54)</td>\n",
       "    </tr>\n",
       "    <tr>\n",
       "      <th>3</th>\n",
       "      <td>ROZZETTA CRAFT</td>\n",
       "      <td>₹449</td>\n",
       "      <td>77% off</td>\n",
       "      <td>Gradient, UV Protection Round Sunglasses (Free...</td>\n",
       "    </tr>\n",
       "    <tr>\n",
       "      <th>4</th>\n",
       "      <td>NuVew</td>\n",
       "      <td>₹215</td>\n",
       "      <td>72% off</td>\n",
       "      <td>UV Protection Aviator Sunglasses (58)</td>\n",
       "    </tr>\n",
       "    <tr>\n",
       "      <th>5</th>\n",
       "      <td>Fastrack</td>\n",
       "      <td>₹738</td>\n",
       "      <td>26% off</td>\n",
       "      <td>Mirrored, UV Protection Wayfarer Sunglasses (F...</td>\n",
       "    </tr>\n",
       "    <tr>\n",
       "      <th>6</th>\n",
       "      <td>ROYAL SON</td>\n",
       "      <td>₹215</td>\n",
       "      <td>78% off</td>\n",
       "      <td>UV Protection, Gradient Wayfarer Sunglasses (55)</td>\n",
       "    </tr>\n",
       "    <tr>\n",
       "      <th>7</th>\n",
       "      <td>hipe</td>\n",
       "      <td>₹197</td>\n",
       "      <td>80% off</td>\n",
       "      <td>UV Protection, Night Vision, Gradient, Mirrore...</td>\n",
       "    </tr>\n",
       "    <tr>\n",
       "      <th>8</th>\n",
       "      <td>Fastrack</td>\n",
       "      <td>₹549</td>\n",
       "      <td>31% off</td>\n",
       "      <td>UV Protection Wayfarer Sunglasses (Free Size)</td>\n",
       "    </tr>\n",
       "    <tr>\n",
       "      <th>9</th>\n",
       "      <td>Singco India</td>\n",
       "      <td>₹352</td>\n",
       "      <td>70% off</td>\n",
       "      <td>UV Protection Aviator Sunglasses (Free Size)</td>\n",
       "    </tr>\n",
       "    <tr>\n",
       "      <th>10</th>\n",
       "      <td>PIRASO</td>\n",
       "      <td>₹237</td>\n",
       "      <td>85% off</td>\n",
       "      <td>UV Protection Aviator Sunglasses (54)</td>\n",
       "    </tr>\n",
       "    <tr>\n",
       "      <th>11</th>\n",
       "      <td>hipe</td>\n",
       "      <td>₹205</td>\n",
       "      <td>79% off</td>\n",
       "      <td>Mirrored Wayfarer Sunglasses (55)</td>\n",
       "    </tr>\n",
       "    <tr>\n",
       "      <th>12</th>\n",
       "      <td>PHENOMENAL</td>\n",
       "      <td>₹399</td>\n",
       "      <td>80% off</td>\n",
       "      <td>UV Protection, Mirrored Retro Square Sunglasse...</td>\n",
       "    </tr>\n",
       "    <tr>\n",
       "      <th>13</th>\n",
       "      <td>ROYAL SON</td>\n",
       "      <td>₹375</td>\n",
       "      <td>74% off</td>\n",
       "      <td>Mirrored Aviator Sunglasses (55)</td>\n",
       "    </tr>\n",
       "    <tr>\n",
       "      <th>14</th>\n",
       "      <td>Singco India</td>\n",
       "      <td>₹214</td>\n",
       "      <td>69% off</td>\n",
       "      <td>UV Protection, Riding Glasses, Others Aviator,...</td>\n",
       "    </tr>\n",
       "    <tr>\n",
       "      <th>15</th>\n",
       "      <td>kingsunglasses</td>\n",
       "      <td>₹210</td>\n",
       "      <td>83% off</td>\n",
       "      <td>UV Protection Rectangular Sunglasses (55)</td>\n",
       "    </tr>\n",
       "    <tr>\n",
       "      <th>16</th>\n",
       "      <td>IRUS by IDEE</td>\n",
       "      <td>₹606</td>\n",
       "      <td>52% off</td>\n",
       "      <td>Gradient Rectangular Sunglasses (56)</td>\n",
       "    </tr>\n",
       "    <tr>\n",
       "      <th>17</th>\n",
       "      <td>PHENOMENAL</td>\n",
       "      <td>₹399</td>\n",
       "      <td>80% off</td>\n",
       "      <td>UV Protection, Mirrored Retro Square Sunglasse...</td>\n",
       "    </tr>\n",
       "    <tr>\n",
       "      <th>18</th>\n",
       "      <td>Fastrack</td>\n",
       "      <td>₹758</td>\n",
       "      <td>15% off</td>\n",
       "      <td>UV Protection Wayfarer Sunglasses (Free Size)</td>\n",
       "    </tr>\n",
       "    <tr>\n",
       "      <th>19</th>\n",
       "      <td>hipe</td>\n",
       "      <td>₹299</td>\n",
       "      <td>76% off</td>\n",
       "      <td>UV Protection, Gradient, Mirrored, Riding Glas...</td>\n",
       "    </tr>\n",
       "    <tr>\n",
       "      <th>20</th>\n",
       "      <td>ROYAL SON</td>\n",
       "      <td>₹262</td>\n",
       "      <td>79% off</td>\n",
       "      <td>UV Protection Wayfarer Sunglasses (55)</td>\n",
       "    </tr>\n",
       "    <tr>\n",
       "      <th>21</th>\n",
       "      <td>kingsunglasses</td>\n",
       "      <td>₹249</td>\n",
       "      <td>79% off</td>\n",
       "      <td>UV Protection, Mirrored Round Sunglasses (54)</td>\n",
       "    </tr>\n",
       "    <tr>\n",
       "      <th>22</th>\n",
       "      <td>ROZZETTA CRAFT</td>\n",
       "      <td>₹499</td>\n",
       "      <td>77% off</td>\n",
       "      <td>UV Protection Retro Square Sunglasses (Free Size)</td>\n",
       "    </tr>\n",
       "    <tr>\n",
       "      <th>23</th>\n",
       "      <td>Singco</td>\n",
       "      <td>₹252</td>\n",
       "      <td>74% off</td>\n",
       "      <td>Mirrored Aviator Sunglasses (53)</td>\n",
       "    </tr>\n",
       "    <tr>\n",
       "      <th>24</th>\n",
       "      <td>PHENOMENAL</td>\n",
       "      <td>₹319</td>\n",
       "      <td>84% off</td>\n",
       "      <td>UV Protection Clubmaster Sunglasses (Free Size)</td>\n",
       "    </tr>\n",
       "    <tr>\n",
       "      <th>25</th>\n",
       "      <td>Fastrack</td>\n",
       "      <td>₹733</td>\n",
       "      <td>18% off</td>\n",
       "      <td>UV Protection Wayfarer Sunglasses (Free Size)</td>\n",
       "    </tr>\n",
       "    <tr>\n",
       "      <th>26</th>\n",
       "      <td>ROZZETTA CRAFT</td>\n",
       "      <td>₹398</td>\n",
       "      <td>73% off</td>\n",
       "      <td>UV Protection Rectangular Sunglasses (Free Size)</td>\n",
       "    </tr>\n",
       "    <tr>\n",
       "      <th>27</th>\n",
       "      <td>Fravy</td>\n",
       "      <td>₹299</td>\n",
       "      <td>80% off</td>\n",
       "      <td>UV Protection Retro Square Sunglasses (Free Size)</td>\n",
       "    </tr>\n",
       "    <tr>\n",
       "      <th>28</th>\n",
       "      <td>hipe</td>\n",
       "      <td>₹209</td>\n",
       "      <td>79% off</td>\n",
       "      <td>UV Protection, Gradient, Mirrored, Riding Glas...</td>\n",
       "    </tr>\n",
       "    <tr>\n",
       "      <th>29</th>\n",
       "      <td>Fastrack</td>\n",
       "      <td>₹655</td>\n",
       "      <td>18% off</td>\n",
       "      <td>UV Protection Wayfarer Sunglasses (Free Size)</td>\n",
       "    </tr>\n",
       "    <tr>\n",
       "      <th>30</th>\n",
       "      <td>Fastrack</td>\n",
       "      <td>₹782</td>\n",
       "      <td>2% off</td>\n",
       "      <td>UV Protection Wayfarer Sunglasses (Free Size)</td>\n",
       "    </tr>\n",
       "    <tr>\n",
       "      <th>31</th>\n",
       "      <td>NuVew</td>\n",
       "      <td>₹185</td>\n",
       "      <td>75% off</td>\n",
       "      <td>UV Protection Aviator Sunglasses (57)</td>\n",
       "    </tr>\n",
       "    <tr>\n",
       "      <th>32</th>\n",
       "      <td>AISLIN</td>\n",
       "      <td>₹545</td>\n",
       "      <td>64% off</td>\n",
       "      <td>UV Protection, Gradient Butterfly, Retro Squar...</td>\n",
       "    </tr>\n",
       "    <tr>\n",
       "      <th>33</th>\n",
       "      <td>Fastrack</td>\n",
       "      <td>₹828</td>\n",
       "      <td>7% off</td>\n",
       "      <td>UV Protection Wayfarer Sunglasses (Free Size)</td>\n",
       "    </tr>\n",
       "    <tr>\n",
       "      <th>34</th>\n",
       "      <td>GANSTA</td>\n",
       "      <td>₹233</td>\n",
       "      <td>82% off</td>\n",
       "      <td>UV Protection Aviator Sunglasses (57)</td>\n",
       "    </tr>\n",
       "    <tr>\n",
       "      <th>35</th>\n",
       "      <td>GANSTA</td>\n",
       "      <td>₹292</td>\n",
       "      <td>85% off</td>\n",
       "      <td>UV Protection, Night Vision, Riding Glasses Av...</td>\n",
       "    </tr>\n",
       "    <tr>\n",
       "      <th>36</th>\n",
       "      <td>Wrogn</td>\n",
       "      <td>₹711</td>\n",
       "      <td>72% off</td>\n",
       "      <td>Mirrored Retro Square Sunglasses (57)</td>\n",
       "    </tr>\n",
       "    <tr>\n",
       "      <th>37</th>\n",
       "      <td>Fastrack</td>\n",
       "      <td>₹1,828</td>\n",
       "      <td>8% off</td>\n",
       "      <td>Gradient Aviator Sunglasses (Free Size)</td>\n",
       "    </tr>\n",
       "    <tr>\n",
       "      <th>38</th>\n",
       "      <td>NuVew</td>\n",
       "      <td>₹235</td>\n",
       "      <td>75% off</td>\n",
       "      <td>UV Protection, Riding Glasses Wayfarer Sunglas...</td>\n",
       "    </tr>\n",
       "    <tr>\n",
       "      <th>39</th>\n",
       "      <td>Fastrack</td>\n",
       "      <td>₹1,115</td>\n",
       "      <td>14% off</td>\n",
       "      <td>UV Protection Aviator Sunglasses (58)</td>\n",
       "    </tr>\n",
       "  </tbody>\n",
       "</table>\n",
       "</div>"
      ],
      "text/plain": [
       "         BrandName Price of Glassess Discount of Glasses  \\\n",
       "0     Singco India              ₹236             84% off   \n",
       "1         Fastrack              ₹748              6% off   \n",
       "2           PIRASO              ₹237             85% off   \n",
       "3   ROZZETTA CRAFT              ₹449             77% off   \n",
       "4            NuVew              ₹215             72% off   \n",
       "5         Fastrack              ₹738             26% off   \n",
       "6        ROYAL SON              ₹215             78% off   \n",
       "7             hipe              ₹197             80% off   \n",
       "8         Fastrack              ₹549             31% off   \n",
       "9     Singco India              ₹352             70% off   \n",
       "10          PIRASO              ₹237             85% off   \n",
       "11            hipe              ₹205             79% off   \n",
       "12      PHENOMENAL              ₹399             80% off   \n",
       "13       ROYAL SON              ₹375             74% off   \n",
       "14    Singco India              ₹214             69% off   \n",
       "15  kingsunglasses              ₹210             83% off   \n",
       "16    IRUS by IDEE              ₹606             52% off   \n",
       "17      PHENOMENAL              ₹399             80% off   \n",
       "18        Fastrack              ₹758             15% off   \n",
       "19            hipe              ₹299             76% off   \n",
       "20       ROYAL SON              ₹262             79% off   \n",
       "21  kingsunglasses              ₹249             79% off   \n",
       "22  ROZZETTA CRAFT              ₹499             77% off   \n",
       "23          Singco              ₹252             74% off   \n",
       "24      PHENOMENAL              ₹319             84% off   \n",
       "25        Fastrack              ₹733             18% off   \n",
       "26  ROZZETTA CRAFT              ₹398             73% off   \n",
       "27           Fravy              ₹299             80% off   \n",
       "28            hipe              ₹209             79% off   \n",
       "29        Fastrack              ₹655             18% off   \n",
       "30        Fastrack              ₹782              2% off   \n",
       "31           NuVew              ₹185             75% off   \n",
       "32          AISLIN              ₹545             64% off   \n",
       "33        Fastrack              ₹828              7% off   \n",
       "34          GANSTA              ₹233             82% off   \n",
       "35          GANSTA              ₹292             85% off   \n",
       "36           Wrogn              ₹711             72% off   \n",
       "37        Fastrack            ₹1,828              8% off   \n",
       "38           NuVew              ₹235             75% off   \n",
       "39        Fastrack            ₹1,115             14% off   \n",
       "\n",
       "                                      Des of Glassess  \n",
       "0   Mirrored, Riding Glasses, Others Sports Sungla...  \n",
       "1        UV Protection Aviator Sunglasses (Free Size)  \n",
       "2               UV Protection Aviator Sunglasses (54)  \n",
       "3   Gradient, UV Protection Round Sunglasses (Free...  \n",
       "4               UV Protection Aviator Sunglasses (58)  \n",
       "5   Mirrored, UV Protection Wayfarer Sunglasses (F...  \n",
       "6    UV Protection, Gradient Wayfarer Sunglasses (55)  \n",
       "7   UV Protection, Night Vision, Gradient, Mirrore...  \n",
       "8       UV Protection Wayfarer Sunglasses (Free Size)  \n",
       "9        UV Protection Aviator Sunglasses (Free Size)  \n",
       "10              UV Protection Aviator Sunglasses (54)  \n",
       "11                  Mirrored Wayfarer Sunglasses (55)  \n",
       "12  UV Protection, Mirrored Retro Square Sunglasse...  \n",
       "13                   Mirrored Aviator Sunglasses (55)  \n",
       "14  UV Protection, Riding Glasses, Others Aviator,...  \n",
       "15          UV Protection Rectangular Sunglasses (55)  \n",
       "16               Gradient Rectangular Sunglasses (56)  \n",
       "17  UV Protection, Mirrored Retro Square Sunglasse...  \n",
       "18      UV Protection Wayfarer Sunglasses (Free Size)  \n",
       "19  UV Protection, Gradient, Mirrored, Riding Glas...  \n",
       "20             UV Protection Wayfarer Sunglasses (55)  \n",
       "21      UV Protection, Mirrored Round Sunglasses (54)  \n",
       "22  UV Protection Retro Square Sunglasses (Free Size)  \n",
       "23                   Mirrored Aviator Sunglasses (53)  \n",
       "24    UV Protection Clubmaster Sunglasses (Free Size)  \n",
       "25      UV Protection Wayfarer Sunglasses (Free Size)  \n",
       "26   UV Protection Rectangular Sunglasses (Free Size)  \n",
       "27  UV Protection Retro Square Sunglasses (Free Size)  \n",
       "28  UV Protection, Gradient, Mirrored, Riding Glas...  \n",
       "29      UV Protection Wayfarer Sunglasses (Free Size)  \n",
       "30      UV Protection Wayfarer Sunglasses (Free Size)  \n",
       "31              UV Protection Aviator Sunglasses (57)  \n",
       "32  UV Protection, Gradient Butterfly, Retro Squar...  \n",
       "33      UV Protection Wayfarer Sunglasses (Free Size)  \n",
       "34              UV Protection Aviator Sunglasses (57)  \n",
       "35  UV Protection, Night Vision, Riding Glasses Av...  \n",
       "36              Mirrored Retro Square Sunglasses (57)  \n",
       "37            Gradient Aviator Sunglasses (Free Size)  \n",
       "38  UV Protection, Riding Glasses Wayfarer Sunglas...  \n",
       "39              UV Protection Aviator Sunglasses (58)  "
      ]
     },
     "execution_count": 34,
     "metadata": {},
     "output_type": "execute_result"
    }
   ],
   "source": [
    "data"
   ]
  },
  {
   "cell_type": "code",
   "execution_count": 35,
   "metadata": {},
   "outputs": [],
   "source": [
    "##Q10: Go to webpage https://www.amazon.in/ -Enter “Laptop” in the search field and then click the search icon."
   ]
  },
  {
   "cell_type": "code",
   "execution_count": null,
   "metadata": {},
   "outputs": [],
   "source": [
    "url2='https://www.amazon.in/'"
   ]
  },
  {
   "cell_type": "code",
   "execution_count": 36,
   "metadata": {},
   "outputs": [],
   "source": [
    "driver.get(url2)"
   ]
  },
  {
   "cell_type": "code",
   "execution_count": 49,
   "metadata": {},
   "outputs": [],
   "source": [
    "search_lapy=driver.find_element_by_id('twotabsearchtextbox')"
   ]
  },
  {
   "cell_type": "code",
   "execution_count": 50,
   "metadata": {},
   "outputs": [
    {
     "data": {
      "text/plain": [
       "[<selenium.webdriver.remote.webelement.WebElement (session=\"5578cf3dee6f863a6ea8fe7a3b1eccb7\", element=\"b9f9c61c-7d61-41ab-8531-44a966c5d638\")>]"
      ]
     },
     "execution_count": 50,
     "metadata": {},
     "output_type": "execute_result"
    }
   ],
   "source": [
    "search_lapy"
   ]
  },
  {
   "cell_type": "code",
   "execution_count": 51,
   "metadata": {},
   "outputs": [
    {
     "ename": "AttributeError",
     "evalue": "'list' object has no attribute 'send_keys'",
     "output_type": "error",
     "traceback": [
      "\u001b[1;31m---------------------------------------------------------------------------\u001b[0m",
      "\u001b[1;31mAttributeError\u001b[0m                            Traceback (most recent call last)",
      "\u001b[1;32m<ipython-input-51-386efe197a34>\u001b[0m in \u001b[0;36m<module>\u001b[1;34m\u001b[0m\n\u001b[1;32m----> 1\u001b[1;33m \u001b[0msearch_lapy\u001b[0m\u001b[1;33m.\u001b[0m\u001b[0msend_keys\u001b[0m\u001b[1;33m(\u001b[0m\u001b[1;34m'laptop'\u001b[0m\u001b[1;33m)\u001b[0m\u001b[1;33m\u001b[0m\u001b[1;33m\u001b[0m\u001b[0m\n\u001b[0m",
      "\u001b[1;31mAttributeError\u001b[0m: 'list' object has no attribute 'send_keys'"
     ]
    }
   ],
   "source": [
    "search_lapy.send_keys('laptop')"
   ]
  },
  {
   "cell_type": "code",
   "execution_count": 54,
   "metadata": {},
   "outputs": [],
   "source": [
    "search_title=driver.find_elements_by_xpath(\"//span[@class='a-size-medium a-color-base a-text-normal']\")"
   ]
  },
  {
   "cell_type": "code",
   "execution_count": 55,
   "metadata": {},
   "outputs": [
    {
     "data": {
      "text/plain": [
       "[<selenium.webdriver.remote.webelement.WebElement (session=\"5578cf3dee6f863a6ea8fe7a3b1eccb7\", element=\"117a490e-49a2-412b-be04-7113839856fa\")>,\n",
       " <selenium.webdriver.remote.webelement.WebElement (session=\"5578cf3dee6f863a6ea8fe7a3b1eccb7\", element=\"9505648b-2281-4296-b5c0-56ea049dbfb2\")>,\n",
       " <selenium.webdriver.remote.webelement.WebElement (session=\"5578cf3dee6f863a6ea8fe7a3b1eccb7\", element=\"ddc4244b-14bc-4fd2-a687-47773ca1c1d4\")>,\n",
       " <selenium.webdriver.remote.webelement.WebElement (session=\"5578cf3dee6f863a6ea8fe7a3b1eccb7\", element=\"05f0fc7c-003c-4c19-a338-2547421c93f4\")>,\n",
       " <selenium.webdriver.remote.webelement.WebElement (session=\"5578cf3dee6f863a6ea8fe7a3b1eccb7\", element=\"43c3bafa-8690-4047-a61a-d0a1a9e43525\")>,\n",
       " <selenium.webdriver.remote.webelement.WebElement (session=\"5578cf3dee6f863a6ea8fe7a3b1eccb7\", element=\"767aff2e-0376-44f2-ae7c-1302b729d747\")>,\n",
       " <selenium.webdriver.remote.webelement.WebElement (session=\"5578cf3dee6f863a6ea8fe7a3b1eccb7\", element=\"370a3037-f693-4f34-9c1a-ef60ad3f6f6c\")>,\n",
       " <selenium.webdriver.remote.webelement.WebElement (session=\"5578cf3dee6f863a6ea8fe7a3b1eccb7\", element=\"60ea1706-4971-4002-8581-877a9bf5093e\")>,\n",
       " <selenium.webdriver.remote.webelement.WebElement (session=\"5578cf3dee6f863a6ea8fe7a3b1eccb7\", element=\"f74af866-45c6-4b7e-8322-f9c833df5297\")>,\n",
       " <selenium.webdriver.remote.webelement.WebElement (session=\"5578cf3dee6f863a6ea8fe7a3b1eccb7\", element=\"8bcb90ca-6b1d-4c7f-82c9-7968e3b90dac\")>,\n",
       " <selenium.webdriver.remote.webelement.WebElement (session=\"5578cf3dee6f863a6ea8fe7a3b1eccb7\", element=\"fd685cbd-bfab-41fd-8084-b67c0c0cc0f3\")>,\n",
       " <selenium.webdriver.remote.webelement.WebElement (session=\"5578cf3dee6f863a6ea8fe7a3b1eccb7\", element=\"35f02737-b993-49ce-94c5-97cf60718d43\")>,\n",
       " <selenium.webdriver.remote.webelement.WebElement (session=\"5578cf3dee6f863a6ea8fe7a3b1eccb7\", element=\"3d31dfa1-c918-468a-957f-1ce09b493b67\")>,\n",
       " <selenium.webdriver.remote.webelement.WebElement (session=\"5578cf3dee6f863a6ea8fe7a3b1eccb7\", element=\"a6060b2f-40f1-43cd-a5ab-d35d7e790b34\")>,\n",
       " <selenium.webdriver.remote.webelement.WebElement (session=\"5578cf3dee6f863a6ea8fe7a3b1eccb7\", element=\"1943f26a-765e-4789-ac46-9d5c1049fdcf\")>,\n",
       " <selenium.webdriver.remote.webelement.WebElement (session=\"5578cf3dee6f863a6ea8fe7a3b1eccb7\", element=\"b2485d18-2477-42be-ae40-068109f2d568\")>,\n",
       " <selenium.webdriver.remote.webelement.WebElement (session=\"5578cf3dee6f863a6ea8fe7a3b1eccb7\", element=\"392417f9-7cac-4fb5-98da-428bd75548a8\")>,\n",
       " <selenium.webdriver.remote.webelement.WebElement (session=\"5578cf3dee6f863a6ea8fe7a3b1eccb7\", element=\"24da1694-0244-42d2-8e89-64b1d9eb1177\")>,\n",
       " <selenium.webdriver.remote.webelement.WebElement (session=\"5578cf3dee6f863a6ea8fe7a3b1eccb7\", element=\"97f11e5b-b2ed-485c-b909-9eee9f86056f\")>,\n",
       " <selenium.webdriver.remote.webelement.WebElement (session=\"5578cf3dee6f863a6ea8fe7a3b1eccb7\", element=\"fc7d5bcf-fdc4-4fba-bbca-cd067473f0b1\")>,\n",
       " <selenium.webdriver.remote.webelement.WebElement (session=\"5578cf3dee6f863a6ea8fe7a3b1eccb7\", element=\"1b7f548d-5961-4308-bbd1-b51b619ab8ef\")>,\n",
       " <selenium.webdriver.remote.webelement.WebElement (session=\"5578cf3dee6f863a6ea8fe7a3b1eccb7\", element=\"93d6ce86-83aa-4061-a7d9-dd782bf85da1\")>,\n",
       " <selenium.webdriver.remote.webelement.WebElement (session=\"5578cf3dee6f863a6ea8fe7a3b1eccb7\", element=\"e03f22fb-61ee-47e6-a833-17b3d7ef3c16\")>,\n",
       " <selenium.webdriver.remote.webelement.WebElement (session=\"5578cf3dee6f863a6ea8fe7a3b1eccb7\", element=\"c6a26deb-2665-41a7-a05f-e8f0bd362730\")>,\n",
       " <selenium.webdriver.remote.webelement.WebElement (session=\"5578cf3dee6f863a6ea8fe7a3b1eccb7\", element=\"d4e5e28e-94d8-4715-92a7-edbda0b8915b\")>]"
      ]
     },
     "execution_count": 55,
     "metadata": {},
     "output_type": "execute_result"
    }
   ],
   "source": [
    "search_title"
   ]
  },
  {
   "cell_type": "code",
   "execution_count": 56,
   "metadata": {},
   "outputs": [
    {
     "data": {
      "text/plain": [
       "['HP Pavilion (2021) Thin & Light 11th Gen Core i7 Laptop, 16 GB RAM, 1TB SSD, Iris Xe Graphics, 14\" (35.56cms) FHD Screen, Windows 10, MS Office, Backlit Keyboard (14-dv0058TU)',\n",
       " 'Mi Notebook Horizon Edition 14 Intel Core i7-10510U 10th Gen 14-inch (35.56 cms) Thin and Light Laptop(8GB/512GB SSD/Windows 10/Nvidia MX350 2GB Graphics/Grey/1.35Kg), XMA1904-AF+Webcam',\n",
       " 'HP 14 Thin & Light 14\" (35.56cms) FHD Laptop (11th Gen Intel i7-1165G7/8GB/512GB SSD/Windows 10/MS Office 2019/Alexa Built-in/Pale Gold/1.47 kg), 14s-dr2007TU',\n",
       " 'HP Pavilion Gaming 10th Gen Intel Core i7 Processor 15.6-inch FHD Gaming Laptop (16GB/512GB SSD + 32GB Intel Optane/Windows 10/NVIDIA 1650Ti 4GB/Shadow Black), 15-dk1509TX',\n",
       " 'HP Pavilion x360 (2021) 14\" (35.56cms) FHD Touchscreen Laptop, 11th Gen Core i7, 8 GB RAM, 512GB SSD, 2-in-1 Convertible, Windows 10, MS Office, Finger Print Reader (14-dw1040TU)',\n",
       " 'ASUS VivoBook S S14 Intel Core i7-1165G7 11th Gen 14-inch FHD Thin and Light Laptop (8GB RAM/512GB SSD + 32GB Optane Memory/Windows 10/Office 2019/Iris X Graphics ;Dreamy White;1.4 Kg), S433EA-AM702TS',\n",
       " '(Renewed) Dell Intel Core i7 4th Gen 14 Inch(35.56 cms) 1366x768 HD Laptop (16GB RAM /1TB SSD/Windows 10 Pro/MS Office 2019/Intel Integrated HD Graphics 4600/2.1Kg,Silver) Latitude E6440',\n",
       " 'Dell 14 (2021) i7-1165G7 2in1 Touch Screen Laptop, 16Gb RAM, 512Gb SSD, 14” (35.56 cms) FHD Display, Win 10 + MSO, Backlit KB + FPR + Active Pen, Silver Metal Color (Inspiron 5410, D560469WIN9S)',\n",
       " '(Renewed) Dell Intel Core i7 4th Gen 14 Inch(35.56 cms) 1366x768 HD Laptop (8GB RAM/1TB HDD/Windows 10 Pro/MS Office 2019/Intel Integrated HD Graphics 4600/2.1Kg,Silver) Latitude E6440',\n",
       " '(Renewed) Dell XPS 9370 13.3-inch UHD Thin & Light Laptop(8th Gen i7-8550U/16GB/512GB SSD/Win 10 + MS Office/Integrated Graphics), Gold',\n",
       " 'MSI GF63 Thin 10SCSR-019IN Intel Core i7-10750H 10th Gen 15.6-inch 120Hz Laptop(8GB/512GB NVMe SSD /Windows 10 Home/Nvidia GeForce GTX 1650Ti Max-Q 4GB/Black/1.8Kg ) 9S7-16R412-019',\n",
       " 'Lenovo IdeaPad Flex 5 11th Gen Intel Core i7 14-inch FHD IPS 2-in-1 Touchscreen Laptop (16GB/512GB SSD/Win 10/Office 2019/Lenovo Digital Pen Stylus/Fingerprint Reader/Graphite Grey/1.5Kg), 82HS0092IN',\n",
       " 'Mi Notebook Horizon Edition 14 Intel Core i5-10210U 10th Gen 14-inch (35.56 cms) Thin and Light Laptop(8GB/512GB SSD/Windows 10/Nvidia MX350 2GB Graphics/Grey/1.35Kg), XMA1904-AR+Webcam',\n",
       " 'Dell Inspiron 15 Gaming 7567 15.6-inch Laptop (7th Gen Core i7-7700HQ/8GB/1TB/Windows 10 with Microsoft Office Home & Student 2016/4GB Graphics)',\n",
       " 'Lenovo Legion Y540 Intel Core i7 9th Gen 15.6” FHD Gaming (8GB/256SSD + 1TBHDD/Win10/NVIDIA GeForce GTX 1650 4GB/Raven Black/2.3kg), 81SY00U7IN',\n",
       " '(Renewed) HP Intel Core i7 6700HQ 15.6-Inch (39.62 cms) 1920 X 1080 Laptop (64 GB/2.5 TB SSD/Windows/Intel HD Graphics & Nvidia 1000m/Grey/2.7 Kg), Zbook 15',\n",
       " '(Renewed) Dell Intel Core i7 7th Gen12.5 Inch(31.75 cms) (1920 x 1080)FHD TOUCHSCREEN Laptop (16GB RAM/512GB SSD/Windows 10 Pro/MS Office/Intel Integrated HD Graphics /1.18Kg,Black) Latitude E7280',\n",
       " 'MSI GF65 Thin, Intel i7-10750H, 15.6\" FHD (39.6 cm) IPS-Level 144Hz Panel Laptop (16GB/512GB NVMe SSD/Windows 10 Home/Nvidia GTX1660 Ti 6GB GDDR6/Black/1.86Kg), 10SDR-1280IN',\n",
       " 'MSI GF75 Thin, Intel i7-10750H, 17.3\" (43.9 cm) FHD IPS-Level 144Hz Panel Laptop (8GB/512GB NVMe SSD/Windows 10 Home/Nvidia GTX1650 4GB GDDR6/Black/2.2Kg), 10SCXR-654IN',\n",
       " '(Renewed) Dell Intel Core i7 4th Gen 14 Inch(35.56 cms) 1366x768 HD Laptop (4GB RAM/320GB HDD/Windows 10 Pro/MS Office 2019/Intel Integrated HD Graphics 4600/2.1Kg,Silver) Latitude E6440',\n",
       " 'Dell Inspiron 5406 14\" FHD Touch Display 2in1 Laptop (11th Gen i7-1165G7 / 8Gb / 512Gb SSD / Integrated Graphics / Win 10 + MSO / Titan Grey Color / FPR/ Active Pen) D560414WIN9S',\n",
       " 'ASUS ROG G703GI-E5148T 17.3\" (43.94 cms) FHD 144Hz/3ms Gaming Laptop (8th Gen Intel Core i9-8950HK/64GB/2TB SSHD + 1.5TB NVMe SSD/Windows 10/GTX 1080 8GB Graphics/4.70 Kg), Aluminum',\n",
       " '(Renewed) Lenovo Yoga 900 Laptop 80UE00BLIH (Core i7 (6th Gen)/512 GB/8 GB/33.78 cm (13.3)/Windows 10) (Champagne Gold)',\n",
       " 'NEXSTGO Primus NX201 NP15N1IN008P 15.6-inch Laptop (Core i7-8550U/8GB/256GBSSD/Windows 10 Pro/Full HD + IR/Finger Print/Integrated Graphics/Thin & Light/1.88KG), Dark Gray',\n",
       " 'Lenovo IdeaPad Gaming 3 10th Gen Intel Core i7 15.6-inch FHD IPS Gaming Laptop (8GB/1TB HDD + 256 GB SSD/Windows 10/NVIDIA GTX 1650 4GB GDDR6/with M100 RGB Gaming Mouse/Onyx Black/2.2Kg), 81Y400VAIN']"
      ]
     },
     "execution_count": 56,
     "metadata": {},
     "output_type": "execute_result"
    }
   ],
   "source": [
    "Laptop_List=[]\n",
    "for m in search_title:\n",
    "    Laptop_List.append(m.text)\n",
    "Laptop_List"
   ]
  },
  {
   "cell_type": "code",
   "execution_count": 57,
   "metadata": {},
   "outputs": [
    {
     "data": {
      "text/plain": [
       "25"
      ]
     },
     "execution_count": 57,
     "metadata": {},
     "output_type": "execute_result"
    }
   ],
   "source": [
    "len(Laptop_List)"
   ]
  },
  {
   "cell_type": "code",
   "execution_count": 77,
   "metadata": {},
   "outputs": [],
   "source": [
    "search_ratings=driver.find_elements_by_id(\"acrPopover\")"
   ]
  },
  {
   "cell_type": "code",
   "execution_count": 78,
   "metadata": {},
   "outputs": [
    {
     "data": {
      "text/plain": [
       "[]"
      ]
     },
     "execution_count": 78,
     "metadata": {},
     "output_type": "execute_result"
    }
   ],
   "source": [
    "search_ratings\n",
    "##Tried Multiple Times not able to Scrap Ratings"
   ]
  },
  {
   "cell_type": "code",
   "execution_count": 80,
   "metadata": {},
   "outputs": [],
   "source": [
    "Price_lapy=driver.find_elements_by_xpath(\"//span[@class='a-price-whole']\")"
   ]
  },
  {
   "cell_type": "code",
   "execution_count": 81,
   "metadata": {},
   "outputs": [
    {
     "data": {
      "text/plain": [
       "[<selenium.webdriver.remote.webelement.WebElement (session=\"5578cf3dee6f863a6ea8fe7a3b1eccb7\", element=\"a93154d4-f1af-4238-b95c-38e9e51076ed\")>,\n",
       " <selenium.webdriver.remote.webelement.WebElement (session=\"5578cf3dee6f863a6ea8fe7a3b1eccb7\", element=\"70003288-c3a0-49be-b002-68595c48b3b1\")>,\n",
       " <selenium.webdriver.remote.webelement.WebElement (session=\"5578cf3dee6f863a6ea8fe7a3b1eccb7\", element=\"70a01c25-61d5-4452-89d3-aacedc971f1f\")>,\n",
       " <selenium.webdriver.remote.webelement.WebElement (session=\"5578cf3dee6f863a6ea8fe7a3b1eccb7\", element=\"74e04418-a523-4b8a-a4bf-752432343501\")>,\n",
       " <selenium.webdriver.remote.webelement.WebElement (session=\"5578cf3dee6f863a6ea8fe7a3b1eccb7\", element=\"47618929-6d32-46cf-8c21-9025483b544b\")>,\n",
       " <selenium.webdriver.remote.webelement.WebElement (session=\"5578cf3dee6f863a6ea8fe7a3b1eccb7\", element=\"ae1b53fb-271f-4cbb-840f-9d6fd8da7e04\")>,\n",
       " <selenium.webdriver.remote.webelement.WebElement (session=\"5578cf3dee6f863a6ea8fe7a3b1eccb7\", element=\"e41d41ad-a9e5-46ef-bdcf-d6ad95f46634\")>,\n",
       " <selenium.webdriver.remote.webelement.WebElement (session=\"5578cf3dee6f863a6ea8fe7a3b1eccb7\", element=\"52304938-6117-467a-be4f-6e0735b104e0\")>,\n",
       " <selenium.webdriver.remote.webelement.WebElement (session=\"5578cf3dee6f863a6ea8fe7a3b1eccb7\", element=\"28cbd1eb-92a7-41b9-873b-08ac40b8a483\")>,\n",
       " <selenium.webdriver.remote.webelement.WebElement (session=\"5578cf3dee6f863a6ea8fe7a3b1eccb7\", element=\"7690faf7-5c52-4966-a898-3a4d230d1330\")>,\n",
       " <selenium.webdriver.remote.webelement.WebElement (session=\"5578cf3dee6f863a6ea8fe7a3b1eccb7\", element=\"a3e605d0-1427-457a-9da9-00d47cd34a8f\")>,\n",
       " <selenium.webdriver.remote.webelement.WebElement (session=\"5578cf3dee6f863a6ea8fe7a3b1eccb7\", element=\"8c80976e-7988-49bf-815b-73fc89a3fb68\")>,\n",
       " <selenium.webdriver.remote.webelement.WebElement (session=\"5578cf3dee6f863a6ea8fe7a3b1eccb7\", element=\"67579f08-1fea-4909-9cfa-5875b325d5af\")>,\n",
       " <selenium.webdriver.remote.webelement.WebElement (session=\"5578cf3dee6f863a6ea8fe7a3b1eccb7\", element=\"e1002109-5bcb-46c9-a0d9-1624bd60042f\")>,\n",
       " <selenium.webdriver.remote.webelement.WebElement (session=\"5578cf3dee6f863a6ea8fe7a3b1eccb7\", element=\"5611f071-12e4-436a-88f7-ec90edb9afbd\")>,\n",
       " <selenium.webdriver.remote.webelement.WebElement (session=\"5578cf3dee6f863a6ea8fe7a3b1eccb7\", element=\"95398a0b-56a0-4ff5-8092-c9708705bf71\")>,\n",
       " <selenium.webdriver.remote.webelement.WebElement (session=\"5578cf3dee6f863a6ea8fe7a3b1eccb7\", element=\"1e1733ab-feae-4f9c-b367-f3fa17a5a0bf\")>,\n",
       " <selenium.webdriver.remote.webelement.WebElement (session=\"5578cf3dee6f863a6ea8fe7a3b1eccb7\", element=\"c02277c0-c660-415e-bbb6-f1d8eeb53c8a\")>,\n",
       " <selenium.webdriver.remote.webelement.WebElement (session=\"5578cf3dee6f863a6ea8fe7a3b1eccb7\", element=\"e268d0b1-09de-4b3d-954d-639ea7b2cc69\")>,\n",
       " <selenium.webdriver.remote.webelement.WebElement (session=\"5578cf3dee6f863a6ea8fe7a3b1eccb7\", element=\"89bcc48e-5e48-41c5-a205-4cd0dd630e01\")>,\n",
       " <selenium.webdriver.remote.webelement.WebElement (session=\"5578cf3dee6f863a6ea8fe7a3b1eccb7\", element=\"82e25c5f-d09f-46e4-99a1-1d2f812d0ec6\")>,\n",
       " <selenium.webdriver.remote.webelement.WebElement (session=\"5578cf3dee6f863a6ea8fe7a3b1eccb7\", element=\"9ddb044e-76d1-40df-87c2-4c39bd4bde61\")>,\n",
       " <selenium.webdriver.remote.webelement.WebElement (session=\"5578cf3dee6f863a6ea8fe7a3b1eccb7\", element=\"a07080e1-e02c-4257-9478-8bdfabd52710\")>,\n",
       " <selenium.webdriver.remote.webelement.WebElement (session=\"5578cf3dee6f863a6ea8fe7a3b1eccb7\", element=\"a449df8b-7f99-43aa-a5d0-93ad50d95836\")>,\n",
       " <selenium.webdriver.remote.webelement.WebElement (session=\"5578cf3dee6f863a6ea8fe7a3b1eccb7\", element=\"60cbd370-4125-49b7-a779-785f2dd3b0e7\")>,\n",
       " <selenium.webdriver.remote.webelement.WebElement (session=\"5578cf3dee6f863a6ea8fe7a3b1eccb7\", element=\"8b1bef13-6803-4197-9fea-9af5fb0b5498\")>,\n",
       " <selenium.webdriver.remote.webelement.WebElement (session=\"5578cf3dee6f863a6ea8fe7a3b1eccb7\", element=\"8b83e983-4e75-4793-a944-955e8d24d641\")>,\n",
       " <selenium.webdriver.remote.webelement.WebElement (session=\"5578cf3dee6f863a6ea8fe7a3b1eccb7\", element=\"1c06cc2e-4543-445f-94a4-72351b9cb024\")>,\n",
       " <selenium.webdriver.remote.webelement.WebElement (session=\"5578cf3dee6f863a6ea8fe7a3b1eccb7\", element=\"dec8eb4c-84b1-4fb5-bcc2-8ce953a95cd4\")>,\n",
       " <selenium.webdriver.remote.webelement.WebElement (session=\"5578cf3dee6f863a6ea8fe7a3b1eccb7\", element=\"d945bb24-b8b7-4265-853f-88d52891f657\")>,\n",
       " <selenium.webdriver.remote.webelement.WebElement (session=\"5578cf3dee6f863a6ea8fe7a3b1eccb7\", element=\"e741b18a-a246-4b09-a696-2c0940d2dd0c\")>]"
      ]
     },
     "execution_count": 81,
     "metadata": {},
     "output_type": "execute_result"
    }
   ],
   "source": [
    "Price_lapy"
   ]
  },
  {
   "cell_type": "code",
   "execution_count": 82,
   "metadata": {},
   "outputs": [
    {
     "data": {
      "text/plain": [
       "['84,990',\n",
       " '59,999',\n",
       " '88,990',\n",
       " '96,555',\n",
       " '78,993',\n",
       " '76,990',\n",
       " '49,999',\n",
       " '91,450',\n",
       " '43,999',\n",
       " '88,423',\n",
       " '84,990',\n",
       " '83,990',\n",
       " '54,999',\n",
       " '78,990',\n",
       " '69,990',\n",
       " '1,25,990',\n",
       " '59,999',\n",
       " '94,089',\n",
       " '81,770',\n",
       " '39,999',\n",
       " '92,100',\n",
       " '5,39,322',\n",
       " '55,990',\n",
       " '56,155',\n",
       " '84,490',\n",
       " '8,199.',\n",
       " '653.',\n",
       " '1,099.',\n",
       " '10,299.',\n",
       " '429.',\n",
       " '']"
      ]
     },
     "execution_count": 82,
     "metadata": {},
     "output_type": "execute_result"
    }
   ],
   "source": [
    "Priceslapylist=[]\n",
    "for y in Price_lapy:\n",
    "    Priceslapylist.append(y.text)\n",
    "Priceslapylist"
   ]
  },
  {
   "cell_type": "code",
   "execution_count": 84,
   "metadata": {},
   "outputs": [
    {
     "data": {
      "text/plain": [
       "31"
      ]
     },
     "execution_count": 84,
     "metadata": {},
     "output_type": "execute_result"
    }
   ],
   "source": [
    "len(Priceslapylist)"
   ]
  },
  {
   "cell_type": "code",
   "execution_count": 88,
   "metadata": {},
   "outputs": [],
   "source": [
    "dataoflaptops=pd.DataFrame({'Descrp of Laptop':Laptop_List[0:11],'Prices':Priceslapylist[0:11]})"
   ]
  },
  {
   "cell_type": "code",
   "execution_count": 89,
   "metadata": {},
   "outputs": [
    {
     "data": {
      "text/html": [
       "<div>\n",
       "<style scoped>\n",
       "    .dataframe tbody tr th:only-of-type {\n",
       "        vertical-align: middle;\n",
       "    }\n",
       "\n",
       "    .dataframe tbody tr th {\n",
       "        vertical-align: top;\n",
       "    }\n",
       "\n",
       "    .dataframe thead th {\n",
       "        text-align: right;\n",
       "    }\n",
       "</style>\n",
       "<table border=\"1\" class=\"dataframe\">\n",
       "  <thead>\n",
       "    <tr style=\"text-align: right;\">\n",
       "      <th></th>\n",
       "      <th>Descrp of Laptop</th>\n",
       "      <th>Prices</th>\n",
       "    </tr>\n",
       "  </thead>\n",
       "  <tbody>\n",
       "    <tr>\n",
       "      <th>0</th>\n",
       "      <td>HP Pavilion (2021) Thin &amp; Light 11th Gen Core ...</td>\n",
       "      <td>84,990</td>\n",
       "    </tr>\n",
       "    <tr>\n",
       "      <th>1</th>\n",
       "      <td>Mi Notebook Horizon Edition 14 Intel Core i7-1...</td>\n",
       "      <td>59,999</td>\n",
       "    </tr>\n",
       "    <tr>\n",
       "      <th>2</th>\n",
       "      <td>HP 14 Thin &amp; Light 14\" (35.56cms) FHD Laptop (...</td>\n",
       "      <td>88,990</td>\n",
       "    </tr>\n",
       "    <tr>\n",
       "      <th>3</th>\n",
       "      <td>HP Pavilion Gaming 10th Gen Intel Core i7 Proc...</td>\n",
       "      <td>96,555</td>\n",
       "    </tr>\n",
       "    <tr>\n",
       "      <th>4</th>\n",
       "      <td>HP Pavilion x360 (2021) 14\" (35.56cms) FHD Tou...</td>\n",
       "      <td>78,993</td>\n",
       "    </tr>\n",
       "    <tr>\n",
       "      <th>5</th>\n",
       "      <td>ASUS VivoBook S S14 Intel Core i7-1165G7 11th ...</td>\n",
       "      <td>76,990</td>\n",
       "    </tr>\n",
       "    <tr>\n",
       "      <th>6</th>\n",
       "      <td>(Renewed) Dell Intel Core i7 4th Gen 14 Inch(3...</td>\n",
       "      <td>49,999</td>\n",
       "    </tr>\n",
       "    <tr>\n",
       "      <th>7</th>\n",
       "      <td>Dell 14 (2021) i7-1165G7 2in1 Touch Screen Lap...</td>\n",
       "      <td>91,450</td>\n",
       "    </tr>\n",
       "    <tr>\n",
       "      <th>8</th>\n",
       "      <td>(Renewed) Dell Intel Core i7 4th Gen 14 Inch(3...</td>\n",
       "      <td>43,999</td>\n",
       "    </tr>\n",
       "    <tr>\n",
       "      <th>9</th>\n",
       "      <td>(Renewed) Dell XPS 9370 13.3-inch UHD Thin &amp; L...</td>\n",
       "      <td>88,423</td>\n",
       "    </tr>\n",
       "    <tr>\n",
       "      <th>10</th>\n",
       "      <td>MSI GF63 Thin 10SCSR-019IN Intel Core i7-10750...</td>\n",
       "      <td>84,990</td>\n",
       "    </tr>\n",
       "  </tbody>\n",
       "</table>\n",
       "</div>"
      ],
      "text/plain": [
       "                                     Descrp of Laptop  Prices\n",
       "0   HP Pavilion (2021) Thin & Light 11th Gen Core ...  84,990\n",
       "1   Mi Notebook Horizon Edition 14 Intel Core i7-1...  59,999\n",
       "2   HP 14 Thin & Light 14\" (35.56cms) FHD Laptop (...  88,990\n",
       "3   HP Pavilion Gaming 10th Gen Intel Core i7 Proc...  96,555\n",
       "4   HP Pavilion x360 (2021) 14\" (35.56cms) FHD Tou...  78,993\n",
       "5   ASUS VivoBook S S14 Intel Core i7-1165G7 11th ...  76,990\n",
       "6   (Renewed) Dell Intel Core i7 4th Gen 14 Inch(3...  49,999\n",
       "7   Dell 14 (2021) i7-1165G7 2in1 Touch Screen Lap...  91,450\n",
       "8   (Renewed) Dell Intel Core i7 4th Gen 14 Inch(3...  43,999\n",
       "9   (Renewed) Dell XPS 9370 13.3-inch UHD Thin & L...  88,423\n",
       "10  MSI GF63 Thin 10SCSR-019IN Intel Core i7-10750...  84,990"
      ]
     },
     "execution_count": 89,
     "metadata": {},
     "output_type": "execute_result"
    }
   ],
   "source": [
    "dataoflaptops"
   ]
  },
  {
   "cell_type": "code",
   "execution_count": null,
   "metadata": {},
   "outputs": [],
   "source": [
    "#Go to the link - https://www.myntra.com/shoes #Set Price filter to “Rs. 6649 to Rs. 13099” , Color filter to “Black”, as \n",
    "#shown in #the below image The data should include\n",
    "#“Brand” of #the shoes , Short Shoe description, price of the shoe as shown in the below image"
   ]
  },
  {
   "cell_type": "code",
   "execution_count": 90,
   "metadata": {},
   "outputs": [],
   "source": [
    "url3='https://www.myntra.com/shoes'"
   ]
  },
  {
   "cell_type": "code",
   "execution_count": 91,
   "metadata": {},
   "outputs": [],
   "source": [
    "driver.get(url3)"
   ]
  },
  {
   "cell_type": "code",
   "execution_count": 92,
   "metadata": {},
   "outputs": [],
   "source": [
    "Shoe_brand=driver.find_elements_by_xpath(\"//h3[@class='product-brand']\")"
   ]
  },
  {
   "cell_type": "code",
   "execution_count": 93,
   "metadata": {},
   "outputs": [
    {
     "data": {
      "text/plain": [
       "[<selenium.webdriver.remote.webelement.WebElement (session=\"5578cf3dee6f863a6ea8fe7a3b1eccb7\", element=\"95f869e8-fb30-461a-b3cd-c66599b089e7\")>,\n",
       " <selenium.webdriver.remote.webelement.WebElement (session=\"5578cf3dee6f863a6ea8fe7a3b1eccb7\", element=\"a5332aba-3a9f-413f-9eee-64834172c5b3\")>,\n",
       " <selenium.webdriver.remote.webelement.WebElement (session=\"5578cf3dee6f863a6ea8fe7a3b1eccb7\", element=\"4948b437-1296-45f5-913f-7536d198d6d8\")>,\n",
       " <selenium.webdriver.remote.webelement.WebElement (session=\"5578cf3dee6f863a6ea8fe7a3b1eccb7\", element=\"6fc036b8-ce6e-4e8d-974f-444841cbb58e\")>,\n",
       " <selenium.webdriver.remote.webelement.WebElement (session=\"5578cf3dee6f863a6ea8fe7a3b1eccb7\", element=\"1a06cb54-7e4c-4514-b1b2-76337dd09a8b\")>,\n",
       " <selenium.webdriver.remote.webelement.WebElement (session=\"5578cf3dee6f863a6ea8fe7a3b1eccb7\", element=\"21410fc0-aec4-4d1f-af80-413f7e6823e4\")>,\n",
       " <selenium.webdriver.remote.webelement.WebElement (session=\"5578cf3dee6f863a6ea8fe7a3b1eccb7\", element=\"cca241b0-d599-488b-80c4-2188fa541555\")>,\n",
       " <selenium.webdriver.remote.webelement.WebElement (session=\"5578cf3dee6f863a6ea8fe7a3b1eccb7\", element=\"17fb516b-e078-49f9-9146-e43b9204f94a\")>,\n",
       " <selenium.webdriver.remote.webelement.WebElement (session=\"5578cf3dee6f863a6ea8fe7a3b1eccb7\", element=\"f8cff334-4d93-4f99-a53e-7cbddcf19f84\")>,\n",
       " <selenium.webdriver.remote.webelement.WebElement (session=\"5578cf3dee6f863a6ea8fe7a3b1eccb7\", element=\"6393b7ab-7add-4a32-a7cc-838aa8b17d30\")>,\n",
       " <selenium.webdriver.remote.webelement.WebElement (session=\"5578cf3dee6f863a6ea8fe7a3b1eccb7\", element=\"da054243-61bc-41d3-9bd0-a1fb7ee88eaf\")>,\n",
       " <selenium.webdriver.remote.webelement.WebElement (session=\"5578cf3dee6f863a6ea8fe7a3b1eccb7\", element=\"0c11c56a-f6de-4e9c-9fb0-9098b88f43ce\")>,\n",
       " <selenium.webdriver.remote.webelement.WebElement (session=\"5578cf3dee6f863a6ea8fe7a3b1eccb7\", element=\"011048c1-7a1a-40e0-bd0e-aeac213a9579\")>,\n",
       " <selenium.webdriver.remote.webelement.WebElement (session=\"5578cf3dee6f863a6ea8fe7a3b1eccb7\", element=\"7d634a73-0e6b-423d-a795-f343169542d8\")>,\n",
       " <selenium.webdriver.remote.webelement.WebElement (session=\"5578cf3dee6f863a6ea8fe7a3b1eccb7\", element=\"77580351-ecc1-4029-92b0-e9bd8785c997\")>,\n",
       " <selenium.webdriver.remote.webelement.WebElement (session=\"5578cf3dee6f863a6ea8fe7a3b1eccb7\", element=\"db329304-7422-4571-8c29-b4703246a625\")>,\n",
       " <selenium.webdriver.remote.webelement.WebElement (session=\"5578cf3dee6f863a6ea8fe7a3b1eccb7\", element=\"fc2c3eec-257e-42ce-8c38-ef0842382433\")>,\n",
       " <selenium.webdriver.remote.webelement.WebElement (session=\"5578cf3dee6f863a6ea8fe7a3b1eccb7\", element=\"3e8d143d-784a-4df9-87e0-384567b9b0b1\")>,\n",
       " <selenium.webdriver.remote.webelement.WebElement (session=\"5578cf3dee6f863a6ea8fe7a3b1eccb7\", element=\"3b3ca6d1-1215-4b6e-b18a-fe14b4bec2a7\")>,\n",
       " <selenium.webdriver.remote.webelement.WebElement (session=\"5578cf3dee6f863a6ea8fe7a3b1eccb7\", element=\"e5102f4c-199c-4127-b2aa-a311720c33f3\")>,\n",
       " <selenium.webdriver.remote.webelement.WebElement (session=\"5578cf3dee6f863a6ea8fe7a3b1eccb7\", element=\"c72310b5-922e-4ea9-bcc3-432b11e6c1af\")>,\n",
       " <selenium.webdriver.remote.webelement.WebElement (session=\"5578cf3dee6f863a6ea8fe7a3b1eccb7\", element=\"102e7928-f286-405c-be85-3376b429b7ce\")>,\n",
       " <selenium.webdriver.remote.webelement.WebElement (session=\"5578cf3dee6f863a6ea8fe7a3b1eccb7\", element=\"60c5a9ce-983a-4295-a3ff-69f4e85ef36d\")>,\n",
       " <selenium.webdriver.remote.webelement.WebElement (session=\"5578cf3dee6f863a6ea8fe7a3b1eccb7\", element=\"210f43ec-f3aa-4bd4-a3f8-726fae34ed78\")>,\n",
       " <selenium.webdriver.remote.webelement.WebElement (session=\"5578cf3dee6f863a6ea8fe7a3b1eccb7\", element=\"9a489562-6467-4304-aa80-5b1bb310450b\")>,\n",
       " <selenium.webdriver.remote.webelement.WebElement (session=\"5578cf3dee6f863a6ea8fe7a3b1eccb7\", element=\"9983cc5d-2040-4e90-9ea0-995d024a963d\")>,\n",
       " <selenium.webdriver.remote.webelement.WebElement (session=\"5578cf3dee6f863a6ea8fe7a3b1eccb7\", element=\"2fd93fad-b9ba-460e-bcc8-07a842b8c6d8\")>,\n",
       " <selenium.webdriver.remote.webelement.WebElement (session=\"5578cf3dee6f863a6ea8fe7a3b1eccb7\", element=\"eb0a1be7-1a8b-4787-a2bb-4387c02f521b\")>,\n",
       " <selenium.webdriver.remote.webelement.WebElement (session=\"5578cf3dee6f863a6ea8fe7a3b1eccb7\", element=\"b547acb6-040b-431a-bb34-4ff188846805\")>,\n",
       " <selenium.webdriver.remote.webelement.WebElement (session=\"5578cf3dee6f863a6ea8fe7a3b1eccb7\", element=\"57e7f080-585a-4960-8013-1f30f7c62f39\")>,\n",
       " <selenium.webdriver.remote.webelement.WebElement (session=\"5578cf3dee6f863a6ea8fe7a3b1eccb7\", element=\"1f3b7269-08e1-4384-a1c9-dcf1de852802\")>,\n",
       " <selenium.webdriver.remote.webelement.WebElement (session=\"5578cf3dee6f863a6ea8fe7a3b1eccb7\", element=\"f3656c14-d749-4c3b-9635-e4c2d36dca5c\")>,\n",
       " <selenium.webdriver.remote.webelement.WebElement (session=\"5578cf3dee6f863a6ea8fe7a3b1eccb7\", element=\"3781a12c-782a-4a8c-ab63-9f22003e574c\")>,\n",
       " <selenium.webdriver.remote.webelement.WebElement (session=\"5578cf3dee6f863a6ea8fe7a3b1eccb7\", element=\"1a90ced0-bc21-42af-8a80-e6a797912c5d\")>,\n",
       " <selenium.webdriver.remote.webelement.WebElement (session=\"5578cf3dee6f863a6ea8fe7a3b1eccb7\", element=\"bc9b7aa7-0743-4454-9b3a-2618836ed9ba\")>,\n",
       " <selenium.webdriver.remote.webelement.WebElement (session=\"5578cf3dee6f863a6ea8fe7a3b1eccb7\", element=\"b33d09ee-2479-4c4e-b861-ebd30eeb7a97\")>,\n",
       " <selenium.webdriver.remote.webelement.WebElement (session=\"5578cf3dee6f863a6ea8fe7a3b1eccb7\", element=\"07d82bfb-8991-4c5b-896c-70ded74134eb\")>,\n",
       " <selenium.webdriver.remote.webelement.WebElement (session=\"5578cf3dee6f863a6ea8fe7a3b1eccb7\", element=\"e6c97f68-89d5-4a53-b144-11467ffd718e\")>,\n",
       " <selenium.webdriver.remote.webelement.WebElement (session=\"5578cf3dee6f863a6ea8fe7a3b1eccb7\", element=\"5ebb00bb-d2c3-418c-887c-75b798f0d371\")>,\n",
       " <selenium.webdriver.remote.webelement.WebElement (session=\"5578cf3dee6f863a6ea8fe7a3b1eccb7\", element=\"70a29875-1ca8-4ce4-9284-96a12d0c7faa\")>,\n",
       " <selenium.webdriver.remote.webelement.WebElement (session=\"5578cf3dee6f863a6ea8fe7a3b1eccb7\", element=\"ff15f595-f32a-44e9-963a-2651889a48ff\")>,\n",
       " <selenium.webdriver.remote.webelement.WebElement (session=\"5578cf3dee6f863a6ea8fe7a3b1eccb7\", element=\"bf69f034-8e5f-4dd2-aa5f-6ed05c17044f\")>,\n",
       " <selenium.webdriver.remote.webelement.WebElement (session=\"5578cf3dee6f863a6ea8fe7a3b1eccb7\", element=\"c57fb7d0-460a-46d9-883b-77ee65f4ef3a\")>,\n",
       " <selenium.webdriver.remote.webelement.WebElement (session=\"5578cf3dee6f863a6ea8fe7a3b1eccb7\", element=\"90d50ed8-216e-432b-9ad7-6550c8701b5a\")>,\n",
       " <selenium.webdriver.remote.webelement.WebElement (session=\"5578cf3dee6f863a6ea8fe7a3b1eccb7\", element=\"20fe7cf8-7ff4-4452-9d0e-edec93785a82\")>,\n",
       " <selenium.webdriver.remote.webelement.WebElement (session=\"5578cf3dee6f863a6ea8fe7a3b1eccb7\", element=\"8918f020-060c-4439-aa63-e4cee9f1fca4\")>,\n",
       " <selenium.webdriver.remote.webelement.WebElement (session=\"5578cf3dee6f863a6ea8fe7a3b1eccb7\", element=\"a734350b-de09-4f3e-86a6-1770a65c5894\")>,\n",
       " <selenium.webdriver.remote.webelement.WebElement (session=\"5578cf3dee6f863a6ea8fe7a3b1eccb7\", element=\"7ba346db-dbcf-4be0-8c73-61fdbb0c125d\")>,\n",
       " <selenium.webdriver.remote.webelement.WebElement (session=\"5578cf3dee6f863a6ea8fe7a3b1eccb7\", element=\"5e710017-7011-4b6b-b8ad-f91a60553651\")>,\n",
       " <selenium.webdriver.remote.webelement.WebElement (session=\"5578cf3dee6f863a6ea8fe7a3b1eccb7\", element=\"15f2d374-d725-47a0-b835-7faaa1f91aa5\")>]"
      ]
     },
     "execution_count": 93,
     "metadata": {},
     "output_type": "execute_result"
    }
   ],
   "source": [
    "Shoe_brand"
   ]
  },
  {
   "cell_type": "code",
   "execution_count": 94,
   "metadata": {},
   "outputs": [
    {
     "data": {
      "text/plain": [
       "['ALDO',\n",
       " 'ALDO',\n",
       " 'Nike',\n",
       " 'Nike',\n",
       " 'ALDO',\n",
       " 'Nike',\n",
       " 'ALDO',\n",
       " 'Nike',\n",
       " 'ALDO',\n",
       " 'ALDO',\n",
       " 'ALDO',\n",
       " 'Nike',\n",
       " 'ALDO',\n",
       " 'Nike',\n",
       " 'Puma',\n",
       " 'Nike',\n",
       " 'Puma',\n",
       " 'Puma',\n",
       " 'Puma',\n",
       " 'UNDER ARMOUR',\n",
       " 'ADIDAS Originals',\n",
       " 'Hush Puppies',\n",
       " 'Nike',\n",
       " 'UNDER ARMOUR',\n",
       " 'UNDER ARMOUR',\n",
       " 'Skechers',\n",
       " 'UNDER ARMOUR',\n",
       " 'Puma',\n",
       " 'Nike',\n",
       " 'FILA',\n",
       " 'ADIDAS',\n",
       " 'Skechers',\n",
       " 'Skechers',\n",
       " 'PUMA Hoops',\n",
       " 'UNDER ARMOUR',\n",
       " 'UNDER ARMOUR',\n",
       " 'FORCLAZ By Decathlon',\n",
       " 'Hush Puppies',\n",
       " 'Hush Puppies',\n",
       " 'Hush Puppies',\n",
       " 'Puma',\n",
       " 'FORCLAZ By Decathlon',\n",
       " 'Nike',\n",
       " 'ADIDAS',\n",
       " 'Skechers',\n",
       " 'FORCLAZ By Decathlon',\n",
       " 'Ruosh',\n",
       " 'Puma',\n",
       " 'Hush Puppies',\n",
       " 'ASICS']"
      ]
     },
     "execution_count": 94,
     "metadata": {},
     "output_type": "execute_result"
    }
   ],
   "source": [
    "ShoesBrandList=[]\n",
    "for z in Shoe_brand:\n",
    "    ShoesBrandList.append(z.text)\n",
    "ShoesBrandList"
   ]
  },
  {
   "cell_type": "code",
   "execution_count": 95,
   "metadata": {},
   "outputs": [
    {
     "data": {
      "text/plain": [
       "50"
      ]
     },
     "execution_count": 95,
     "metadata": {},
     "output_type": "execute_result"
    }
   ],
   "source": [
    "len(ShoesBrandList)"
   ]
  },
  {
   "cell_type": "code",
   "execution_count": 96,
   "metadata": {},
   "outputs": [],
   "source": [
    "Shoe_price=driver.find_elements_by_xpath(\"//div[@class='product-price']\")"
   ]
  },
  {
   "cell_type": "code",
   "execution_count": 97,
   "metadata": {},
   "outputs": [
    {
     "data": {
      "text/plain": [
       "[<selenium.webdriver.remote.webelement.WebElement (session=\"5578cf3dee6f863a6ea8fe7a3b1eccb7\", element=\"76f81477-54ef-4297-a08d-ee3e1036c039\")>,\n",
       " <selenium.webdriver.remote.webelement.WebElement (session=\"5578cf3dee6f863a6ea8fe7a3b1eccb7\", element=\"61e7b851-e619-4097-97bc-cbc676897f34\")>,\n",
       " <selenium.webdriver.remote.webelement.WebElement (session=\"5578cf3dee6f863a6ea8fe7a3b1eccb7\", element=\"bdb80c06-e78c-41d3-b862-b9d15f8276bc\")>,\n",
       " <selenium.webdriver.remote.webelement.WebElement (session=\"5578cf3dee6f863a6ea8fe7a3b1eccb7\", element=\"8ca27544-667a-4942-84eb-a2af3b2c39a0\")>,\n",
       " <selenium.webdriver.remote.webelement.WebElement (session=\"5578cf3dee6f863a6ea8fe7a3b1eccb7\", element=\"dc9deacd-1366-4669-9712-4e0f5e438f1b\")>,\n",
       " <selenium.webdriver.remote.webelement.WebElement (session=\"5578cf3dee6f863a6ea8fe7a3b1eccb7\", element=\"40d3b172-5c29-41e4-88dd-b5727d0305a0\")>,\n",
       " <selenium.webdriver.remote.webelement.WebElement (session=\"5578cf3dee6f863a6ea8fe7a3b1eccb7\", element=\"0be24dc3-9d3a-4c6c-b39d-aa1c60c9ebd7\")>,\n",
       " <selenium.webdriver.remote.webelement.WebElement (session=\"5578cf3dee6f863a6ea8fe7a3b1eccb7\", element=\"89ccce53-ab46-484a-a167-d52d070ed3f7\")>,\n",
       " <selenium.webdriver.remote.webelement.WebElement (session=\"5578cf3dee6f863a6ea8fe7a3b1eccb7\", element=\"32c57378-980f-4309-bbe4-f27548f7225c\")>,\n",
       " <selenium.webdriver.remote.webelement.WebElement (session=\"5578cf3dee6f863a6ea8fe7a3b1eccb7\", element=\"397b3c1d-f0b5-4815-93a4-65d8afcc20d3\")>,\n",
       " <selenium.webdriver.remote.webelement.WebElement (session=\"5578cf3dee6f863a6ea8fe7a3b1eccb7\", element=\"1c91ac04-fe47-47f2-860b-9ffd13a3cd10\")>,\n",
       " <selenium.webdriver.remote.webelement.WebElement (session=\"5578cf3dee6f863a6ea8fe7a3b1eccb7\", element=\"cfb2f25c-a4f9-4494-a61f-9c5fdbc70a25\")>,\n",
       " <selenium.webdriver.remote.webelement.WebElement (session=\"5578cf3dee6f863a6ea8fe7a3b1eccb7\", element=\"aad5c8fa-38a5-4482-8eb7-83ebf9551cf3\")>,\n",
       " <selenium.webdriver.remote.webelement.WebElement (session=\"5578cf3dee6f863a6ea8fe7a3b1eccb7\", element=\"1597a4bf-6828-4617-8953-a427fe54d279\")>,\n",
       " <selenium.webdriver.remote.webelement.WebElement (session=\"5578cf3dee6f863a6ea8fe7a3b1eccb7\", element=\"ceea3c15-bcf8-4137-a2fe-ab18fcb97cd2\")>,\n",
       " <selenium.webdriver.remote.webelement.WebElement (session=\"5578cf3dee6f863a6ea8fe7a3b1eccb7\", element=\"3b8308f1-aaa6-400a-a42f-434c8c75ec7d\")>,\n",
       " <selenium.webdriver.remote.webelement.WebElement (session=\"5578cf3dee6f863a6ea8fe7a3b1eccb7\", element=\"1877d68e-28ff-42b1-b1b0-f9c653c3caa5\")>,\n",
       " <selenium.webdriver.remote.webelement.WebElement (session=\"5578cf3dee6f863a6ea8fe7a3b1eccb7\", element=\"d801b2fe-a9e8-4beb-a417-a50a8c05a13d\")>,\n",
       " <selenium.webdriver.remote.webelement.WebElement (session=\"5578cf3dee6f863a6ea8fe7a3b1eccb7\", element=\"a66c4d22-2aa1-4462-bc2d-b49e09979f1c\")>,\n",
       " <selenium.webdriver.remote.webelement.WebElement (session=\"5578cf3dee6f863a6ea8fe7a3b1eccb7\", element=\"fb0647d3-9c07-47f9-b865-f00d5fa55d17\")>,\n",
       " <selenium.webdriver.remote.webelement.WebElement (session=\"5578cf3dee6f863a6ea8fe7a3b1eccb7\", element=\"dbd3cba1-7ab9-4b91-9f1c-daaab425eba8\")>,\n",
       " <selenium.webdriver.remote.webelement.WebElement (session=\"5578cf3dee6f863a6ea8fe7a3b1eccb7\", element=\"7ea137b8-a32e-4ec0-a08a-784f11201c1f\")>,\n",
       " <selenium.webdriver.remote.webelement.WebElement (session=\"5578cf3dee6f863a6ea8fe7a3b1eccb7\", element=\"605b3479-0f4c-43de-a91f-ac1013d3d580\")>,\n",
       " <selenium.webdriver.remote.webelement.WebElement (session=\"5578cf3dee6f863a6ea8fe7a3b1eccb7\", element=\"24778bdd-0ddb-42f3-8861-9f05278089dd\")>,\n",
       " <selenium.webdriver.remote.webelement.WebElement (session=\"5578cf3dee6f863a6ea8fe7a3b1eccb7\", element=\"bbcf8151-20d0-4e17-a669-6a3a63168383\")>,\n",
       " <selenium.webdriver.remote.webelement.WebElement (session=\"5578cf3dee6f863a6ea8fe7a3b1eccb7\", element=\"3ef0dab6-8357-4f0a-9dc8-70ebc4ac43a8\")>,\n",
       " <selenium.webdriver.remote.webelement.WebElement (session=\"5578cf3dee6f863a6ea8fe7a3b1eccb7\", element=\"4c8a78ba-74c9-483e-886a-4f39c1edd363\")>,\n",
       " <selenium.webdriver.remote.webelement.WebElement (session=\"5578cf3dee6f863a6ea8fe7a3b1eccb7\", element=\"b1e3aab7-9966-487f-a5f9-6ae340024466\")>,\n",
       " <selenium.webdriver.remote.webelement.WebElement (session=\"5578cf3dee6f863a6ea8fe7a3b1eccb7\", element=\"736ba906-4380-463f-af2e-97eb34ddb5ae\")>,\n",
       " <selenium.webdriver.remote.webelement.WebElement (session=\"5578cf3dee6f863a6ea8fe7a3b1eccb7\", element=\"dd39e3b9-a1ca-4cf6-94b2-421bdee67573\")>,\n",
       " <selenium.webdriver.remote.webelement.WebElement (session=\"5578cf3dee6f863a6ea8fe7a3b1eccb7\", element=\"a4299868-f76c-49f2-816f-fa76e80147dd\")>,\n",
       " <selenium.webdriver.remote.webelement.WebElement (session=\"5578cf3dee6f863a6ea8fe7a3b1eccb7\", element=\"520221b6-afbe-41fe-a93d-1e7955b03042\")>,\n",
       " <selenium.webdriver.remote.webelement.WebElement (session=\"5578cf3dee6f863a6ea8fe7a3b1eccb7\", element=\"ff71f133-df98-4e4a-9469-c11ae0440557\")>,\n",
       " <selenium.webdriver.remote.webelement.WebElement (session=\"5578cf3dee6f863a6ea8fe7a3b1eccb7\", element=\"b896d435-7d12-4ace-a4d4-6f7e739b34f6\")>,\n",
       " <selenium.webdriver.remote.webelement.WebElement (session=\"5578cf3dee6f863a6ea8fe7a3b1eccb7\", element=\"0d3d62b8-7d04-46c0-9bc4-7163d8ad0a03\")>,\n",
       " <selenium.webdriver.remote.webelement.WebElement (session=\"5578cf3dee6f863a6ea8fe7a3b1eccb7\", element=\"c35c89ea-60b5-4591-abaf-da0a16e48641\")>,\n",
       " <selenium.webdriver.remote.webelement.WebElement (session=\"5578cf3dee6f863a6ea8fe7a3b1eccb7\", element=\"cf568109-e77d-4a4a-a974-1787c6ed3eba\")>,\n",
       " <selenium.webdriver.remote.webelement.WebElement (session=\"5578cf3dee6f863a6ea8fe7a3b1eccb7\", element=\"6f2ad9b5-8677-48d8-80c0-374ce0f10897\")>,\n",
       " <selenium.webdriver.remote.webelement.WebElement (session=\"5578cf3dee6f863a6ea8fe7a3b1eccb7\", element=\"97f6451b-69d1-4958-ab5a-367a3a67e5c1\")>,\n",
       " <selenium.webdriver.remote.webelement.WebElement (session=\"5578cf3dee6f863a6ea8fe7a3b1eccb7\", element=\"c920c5e9-ec6e-43a9-88a7-c14983abc36b\")>,\n",
       " <selenium.webdriver.remote.webelement.WebElement (session=\"5578cf3dee6f863a6ea8fe7a3b1eccb7\", element=\"9cbfb3bd-96af-46db-9493-7653bedb0272\")>,\n",
       " <selenium.webdriver.remote.webelement.WebElement (session=\"5578cf3dee6f863a6ea8fe7a3b1eccb7\", element=\"e036ac0d-1f64-4d78-89c7-69482ea931ef\")>,\n",
       " <selenium.webdriver.remote.webelement.WebElement (session=\"5578cf3dee6f863a6ea8fe7a3b1eccb7\", element=\"4425f40d-d0bb-4f5f-a21c-03b7e33c53bd\")>,\n",
       " <selenium.webdriver.remote.webelement.WebElement (session=\"5578cf3dee6f863a6ea8fe7a3b1eccb7\", element=\"a9e28a30-5400-4224-952d-135fc8608a43\")>,\n",
       " <selenium.webdriver.remote.webelement.WebElement (session=\"5578cf3dee6f863a6ea8fe7a3b1eccb7\", element=\"176e9cb8-e5fc-4037-b3f2-517bd936792a\")>,\n",
       " <selenium.webdriver.remote.webelement.WebElement (session=\"5578cf3dee6f863a6ea8fe7a3b1eccb7\", element=\"179fa426-72f6-413f-936a-1cf488b20121\")>,\n",
       " <selenium.webdriver.remote.webelement.WebElement (session=\"5578cf3dee6f863a6ea8fe7a3b1eccb7\", element=\"412cdee1-bc24-4b25-9a67-3bab26c8e21c\")>,\n",
       " <selenium.webdriver.remote.webelement.WebElement (session=\"5578cf3dee6f863a6ea8fe7a3b1eccb7\", element=\"e2e2b7ef-80c7-4cb0-b634-b89ce793049b\")>,\n",
       " <selenium.webdriver.remote.webelement.WebElement (session=\"5578cf3dee6f863a6ea8fe7a3b1eccb7\", element=\"770eb6e5-11af-4be8-a939-2a8d5d54b8ec\")>,\n",
       " <selenium.webdriver.remote.webelement.WebElement (session=\"5578cf3dee6f863a6ea8fe7a3b1eccb7\", element=\"963815d4-e803-43ac-a488-00b12ee98422\")>]"
      ]
     },
     "execution_count": 97,
     "metadata": {},
     "output_type": "execute_result"
    }
   ],
   "source": [
    "Shoe_price"
   ]
  },
  {
   "cell_type": "code",
   "execution_count": 101,
   "metadata": {},
   "outputs": [
    {
     "data": {
      "text/plain": [
       "['Rs. 9999',\n",
       " 'Rs. 9599Rs. 15999(40% OFF)',\n",
       " 'Rs. 12316Rs. 17595(30% OFF)',\n",
       " 'Rs. 7721Rs. 10295(25% OFF)',\n",
       " 'Rs. 12999',\n",
       " 'Rs. 7220Rs. 8495(15% OFF)',\n",
       " 'Rs. 11999',\n",
       " 'Rs. 11495',\n",
       " 'Rs. 9999',\n",
       " 'Rs. 12999',\n",
       " 'Rs. 7799Rs. 12999(40% OFF)',\n",
       " 'Rs. 12316Rs. 17595(30% OFF)',\n",
       " 'Rs. 11999',\n",
       " 'Rs. 8295',\n",
       " 'Rs. 6999',\n",
       " 'Rs. 6795Rs. 7995(15% OFF)',\n",
       " 'Rs. 7999Rs. 9999(20% OFF)',\n",
       " 'Rs. 7599Rs. 7999(5% OFF)',\n",
       " 'Rs. 10399Rs. 12999(20% OFF)',\n",
       " 'Rs. 8999',\n",
       " 'Rs. 7149Rs. 10999(35% OFF)',\n",
       " 'Rs. 9999',\n",
       " 'Rs. 6965Rs. 8195(15% OFF)',\n",
       " 'Rs. 9999',\n",
       " 'Rs. 11999',\n",
       " 'Rs. 7499',\n",
       " 'Rs. 9999',\n",
       " 'Rs. 7499Rs. 9999(25% OFF)',\n",
       " 'Rs. 6971Rs. 9295(25% OFF)',\n",
       " 'Rs. 6999',\n",
       " 'Rs. 6999Rs. 9999(30% OFF)',\n",
       " 'Rs. 6999',\n",
       " 'Rs. 7499',\n",
       " 'Rs. 7699Rs. 10999(30% OFF)',\n",
       " 'Rs. 8999',\n",
       " 'Rs. 10999',\n",
       " 'Rs. 6999',\n",
       " 'Rs. 9999',\n",
       " 'Rs. 6999',\n",
       " 'Rs. 8999',\n",
       " 'Rs. 10999',\n",
       " 'Rs. 6929Rs. 6999(1% OFF)',\n",
       " 'Rs. 6965Rs. 8195(15% OFF)',\n",
       " 'Rs. 12349Rs. 18999(35% OFF)',\n",
       " 'Rs. 7999',\n",
       " 'Rs. 6999',\n",
       " 'Rs. 6990',\n",
       " 'Rs. 7499Rs. 9999(25% OFF)',\n",
       " 'Rs. 8999',\n",
       " 'Rs. 9659Rs. 13999(31% OFF)']"
      ]
     },
     "execution_count": 101,
     "metadata": {},
     "output_type": "execute_result"
    }
   ],
   "source": [
    "Shoe_pricelist=[]\n",
    "for Q in Shoe_price:\n",
    "    Shoe_pricelist.append(Q.text)\n",
    "Shoe_pricelist"
   ]
  },
  {
   "cell_type": "code",
   "execution_count": 102,
   "metadata": {},
   "outputs": [],
   "source": [
    "Shoe_descp=driver.find_elements_by_xpath(\"//h4[@class='product-product']\")"
   ]
  },
  {
   "cell_type": "code",
   "execution_count": 103,
   "metadata": {},
   "outputs": [
    {
     "data": {
      "text/plain": [
       "['Men Sneakers',\n",
       " 'Men Leather Oxfords',\n",
       " 'LEBRON XVIII Basketball Shoes',\n",
       " 'Men AIR ZOOM Running Shoes',\n",
       " 'Men Solid Leather Loafers',\n",
       " 'SUPERFLY 7 Football Shoes',\n",
       " 'Men Driving Shoes',\n",
       " 'Jordan Delta 2 Basketball',\n",
       " 'Men Sneakers',\n",
       " 'Men Solid Loafers',\n",
       " 'Men Solid Leather Loafers',\n",
       " 'Unisex LEBRON XVIII Basketball',\n",
       " 'Men Driving Shoes',\n",
       " 'Zoom Winflo 8 Running Shoes',\n",
       " 'Mesh Hybrid Fuego Running',\n",
       " 'Women FREE RN 5.0 Shoes',\n",
       " 'Unisex RS-Fast Running Shoes',\n",
       " 'Men LQDCELL Tension Gym Shoes',\n",
       " 'Men Eternity Nitro Running Sports Shoes',\n",
       " 'Women Liquify Rebel Running',\n",
       " 'Men Ozweego Sneakers',\n",
       " 'Men Leather Slip-On Sneakers',\n",
       " 'Men CHALLENGER OG Sneakers',\n",
       " 'Men HOVR Rise Training Shoes',\n",
       " 'Women TriBase Reign 2 Training',\n",
       " 'Women LUV STORY Sneakers',\n",
       " 'Women HOVR Rise 2 Training',\n",
       " 'Men Liberate Nitro Running',\n",
       " \"Women BLAZER MID '77 Sneakers\",\n",
       " 'Women Printed Sneakers',\n",
       " 'Women SUPERNOVA Running Shoes',\n",
       " 'Men Flex Advantage 4.0Upstream',\n",
       " 'Women LUV STORY Sneakers',\n",
       " 'Unisex Clyde Basketball Shoes',\n",
       " 'Women Liquify Rebel Running',\n",
       " 'HOVR Sonic 3 Running Shoes',\n",
       " 'TREKKING 100 Boots',\n",
       " 'Solid Leather Slip-On Sneakers',\n",
       " 'Men Leather Slip-On Shoes',\n",
       " 'Men Colourblocked Driving Shoes',\n",
       " 'Men Spike 19.1 Cricket Shoes',\n",
       " 'TREKKING 100 Waterproof Boots',\n",
       " 'Women Air Max Siren Sneakers',\n",
       " 'Women ULTRABOOST Running',\n",
       " 'Women AIR ELEMENT 2 Sneakers',\n",
       " 'Men Trekking Shoes',\n",
       " 'Men Solid Leather Formal Slip-Ons',\n",
       " 'Unisex RS-FAST TECH Sneakers',\n",
       " 'Men Leather Slip-On Sneakers',\n",
       " 'Women Running Shoes']"
      ]
     },
     "execution_count": 103,
     "metadata": {},
     "output_type": "execute_result"
    }
   ],
   "source": [
    "Shoe_descplist=[]\n",
    "for K in Shoe_descp:\n",
    "    Shoe_descplist.append(K.text)\n",
    "Shoe_descplist"
   ]
  },
  {
   "cell_type": "code",
   "execution_count": 107,
   "metadata": {},
   "outputs": [
    {
     "name": "stdout",
     "output_type": "stream",
     "text": [
      "50\n",
      "50\n",
      "50\n"
     ]
    }
   ],
   "source": [
    "print (len(Shoe_descplist))\n",
    "print (len(Shoe_pricelist))\n",
    "print (len(ShoesBrandList))"
   ]
  },
  {
   "cell_type": "code",
   "execution_count": 108,
   "metadata": {},
   "outputs": [],
   "source": [
    "dataofShoes=pd.DataFrame({'Descrp of Shoes':Shoe_descplist,'Prices':Shoe_pricelist,'BrandShoes':ShoesBrandList})"
   ]
  },
  {
   "cell_type": "code",
   "execution_count": 109,
   "metadata": {},
   "outputs": [
    {
     "data": {
      "text/html": [
       "<div>\n",
       "<style scoped>\n",
       "    .dataframe tbody tr th:only-of-type {\n",
       "        vertical-align: middle;\n",
       "    }\n",
       "\n",
       "    .dataframe tbody tr th {\n",
       "        vertical-align: top;\n",
       "    }\n",
       "\n",
       "    .dataframe thead th {\n",
       "        text-align: right;\n",
       "    }\n",
       "</style>\n",
       "<table border=\"1\" class=\"dataframe\">\n",
       "  <thead>\n",
       "    <tr style=\"text-align: right;\">\n",
       "      <th></th>\n",
       "      <th>Descrp of Shoes</th>\n",
       "      <th>Prices</th>\n",
       "      <th>BrandShoes</th>\n",
       "    </tr>\n",
       "  </thead>\n",
       "  <tbody>\n",
       "    <tr>\n",
       "      <th>0</th>\n",
       "      <td>Men Sneakers</td>\n",
       "      <td>Rs. 9999</td>\n",
       "      <td>ALDO</td>\n",
       "    </tr>\n",
       "    <tr>\n",
       "      <th>1</th>\n",
       "      <td>Men Leather Oxfords</td>\n",
       "      <td>Rs. 9599Rs. 15999(40% OFF)</td>\n",
       "      <td>ALDO</td>\n",
       "    </tr>\n",
       "    <tr>\n",
       "      <th>2</th>\n",
       "      <td>LEBRON XVIII Basketball Shoes</td>\n",
       "      <td>Rs. 12316Rs. 17595(30% OFF)</td>\n",
       "      <td>Nike</td>\n",
       "    </tr>\n",
       "    <tr>\n",
       "      <th>3</th>\n",
       "      <td>Men AIR ZOOM Running Shoes</td>\n",
       "      <td>Rs. 7721Rs. 10295(25% OFF)</td>\n",
       "      <td>Nike</td>\n",
       "    </tr>\n",
       "    <tr>\n",
       "      <th>4</th>\n",
       "      <td>Men Solid Leather Loafers</td>\n",
       "      <td>Rs. 12999</td>\n",
       "      <td>ALDO</td>\n",
       "    </tr>\n",
       "    <tr>\n",
       "      <th>5</th>\n",
       "      <td>SUPERFLY 7 Football Shoes</td>\n",
       "      <td>Rs. 7220Rs. 8495(15% OFF)</td>\n",
       "      <td>Nike</td>\n",
       "    </tr>\n",
       "    <tr>\n",
       "      <th>6</th>\n",
       "      <td>Men Driving Shoes</td>\n",
       "      <td>Rs. 11999</td>\n",
       "      <td>ALDO</td>\n",
       "    </tr>\n",
       "    <tr>\n",
       "      <th>7</th>\n",
       "      <td>Jordan Delta 2 Basketball</td>\n",
       "      <td>Rs. 11495</td>\n",
       "      <td>Nike</td>\n",
       "    </tr>\n",
       "    <tr>\n",
       "      <th>8</th>\n",
       "      <td>Men Sneakers</td>\n",
       "      <td>Rs. 9999</td>\n",
       "      <td>ALDO</td>\n",
       "    </tr>\n",
       "    <tr>\n",
       "      <th>9</th>\n",
       "      <td>Men Solid Loafers</td>\n",
       "      <td>Rs. 12999</td>\n",
       "      <td>ALDO</td>\n",
       "    </tr>\n",
       "    <tr>\n",
       "      <th>10</th>\n",
       "      <td>Men Solid Leather Loafers</td>\n",
       "      <td>Rs. 7799Rs. 12999(40% OFF)</td>\n",
       "      <td>ALDO</td>\n",
       "    </tr>\n",
       "    <tr>\n",
       "      <th>11</th>\n",
       "      <td>Unisex LEBRON XVIII Basketball</td>\n",
       "      <td>Rs. 12316Rs. 17595(30% OFF)</td>\n",
       "      <td>Nike</td>\n",
       "    </tr>\n",
       "    <tr>\n",
       "      <th>12</th>\n",
       "      <td>Men Driving Shoes</td>\n",
       "      <td>Rs. 11999</td>\n",
       "      <td>ALDO</td>\n",
       "    </tr>\n",
       "    <tr>\n",
       "      <th>13</th>\n",
       "      <td>Zoom Winflo 8 Running Shoes</td>\n",
       "      <td>Rs. 8295</td>\n",
       "      <td>Nike</td>\n",
       "    </tr>\n",
       "    <tr>\n",
       "      <th>14</th>\n",
       "      <td>Mesh Hybrid Fuego Running</td>\n",
       "      <td>Rs. 6999</td>\n",
       "      <td>Puma</td>\n",
       "    </tr>\n",
       "    <tr>\n",
       "      <th>15</th>\n",
       "      <td>Women FREE RN 5.0 Shoes</td>\n",
       "      <td>Rs. 6795Rs. 7995(15% OFF)</td>\n",
       "      <td>Nike</td>\n",
       "    </tr>\n",
       "    <tr>\n",
       "      <th>16</th>\n",
       "      <td>Unisex RS-Fast Running Shoes</td>\n",
       "      <td>Rs. 7999Rs. 9999(20% OFF)</td>\n",
       "      <td>Puma</td>\n",
       "    </tr>\n",
       "    <tr>\n",
       "      <th>17</th>\n",
       "      <td>Men LQDCELL Tension Gym Shoes</td>\n",
       "      <td>Rs. 7599Rs. 7999(5% OFF)</td>\n",
       "      <td>Puma</td>\n",
       "    </tr>\n",
       "    <tr>\n",
       "      <th>18</th>\n",
       "      <td>Men Eternity Nitro Running Sports Shoes</td>\n",
       "      <td>Rs. 10399Rs. 12999(20% OFF)</td>\n",
       "      <td>Puma</td>\n",
       "    </tr>\n",
       "    <tr>\n",
       "      <th>19</th>\n",
       "      <td>Women Liquify Rebel Running</td>\n",
       "      <td>Rs. 8999</td>\n",
       "      <td>UNDER ARMOUR</td>\n",
       "    </tr>\n",
       "    <tr>\n",
       "      <th>20</th>\n",
       "      <td>Men Ozweego Sneakers</td>\n",
       "      <td>Rs. 7149Rs. 10999(35% OFF)</td>\n",
       "      <td>ADIDAS Originals</td>\n",
       "    </tr>\n",
       "    <tr>\n",
       "      <th>21</th>\n",
       "      <td>Men Leather Slip-On Sneakers</td>\n",
       "      <td>Rs. 9999</td>\n",
       "      <td>Hush Puppies</td>\n",
       "    </tr>\n",
       "    <tr>\n",
       "      <th>22</th>\n",
       "      <td>Men CHALLENGER OG Sneakers</td>\n",
       "      <td>Rs. 6965Rs. 8195(15% OFF)</td>\n",
       "      <td>Nike</td>\n",
       "    </tr>\n",
       "    <tr>\n",
       "      <th>23</th>\n",
       "      <td>Men HOVR Rise Training Shoes</td>\n",
       "      <td>Rs. 9999</td>\n",
       "      <td>UNDER ARMOUR</td>\n",
       "    </tr>\n",
       "    <tr>\n",
       "      <th>24</th>\n",
       "      <td>Women TriBase Reign 2 Training</td>\n",
       "      <td>Rs. 11999</td>\n",
       "      <td>UNDER ARMOUR</td>\n",
       "    </tr>\n",
       "    <tr>\n",
       "      <th>25</th>\n",
       "      <td>Women LUV STORY Sneakers</td>\n",
       "      <td>Rs. 7499</td>\n",
       "      <td>Skechers</td>\n",
       "    </tr>\n",
       "    <tr>\n",
       "      <th>26</th>\n",
       "      <td>Women HOVR Rise 2 Training</td>\n",
       "      <td>Rs. 9999</td>\n",
       "      <td>UNDER ARMOUR</td>\n",
       "    </tr>\n",
       "    <tr>\n",
       "      <th>27</th>\n",
       "      <td>Men Liberate Nitro Running</td>\n",
       "      <td>Rs. 7499Rs. 9999(25% OFF)</td>\n",
       "      <td>Puma</td>\n",
       "    </tr>\n",
       "    <tr>\n",
       "      <th>28</th>\n",
       "      <td>Women BLAZER MID '77 Sneakers</td>\n",
       "      <td>Rs. 6971Rs. 9295(25% OFF)</td>\n",
       "      <td>Nike</td>\n",
       "    </tr>\n",
       "    <tr>\n",
       "      <th>29</th>\n",
       "      <td>Women Printed Sneakers</td>\n",
       "      <td>Rs. 6999</td>\n",
       "      <td>FILA</td>\n",
       "    </tr>\n",
       "    <tr>\n",
       "      <th>30</th>\n",
       "      <td>Women SUPERNOVA Running Shoes</td>\n",
       "      <td>Rs. 6999Rs. 9999(30% OFF)</td>\n",
       "      <td>ADIDAS</td>\n",
       "    </tr>\n",
       "    <tr>\n",
       "      <th>31</th>\n",
       "      <td>Men Flex Advantage 4.0Upstream</td>\n",
       "      <td>Rs. 6999</td>\n",
       "      <td>Skechers</td>\n",
       "    </tr>\n",
       "    <tr>\n",
       "      <th>32</th>\n",
       "      <td>Women LUV STORY Sneakers</td>\n",
       "      <td>Rs. 7499</td>\n",
       "      <td>Skechers</td>\n",
       "    </tr>\n",
       "    <tr>\n",
       "      <th>33</th>\n",
       "      <td>Unisex Clyde Basketball Shoes</td>\n",
       "      <td>Rs. 7699Rs. 10999(30% OFF)</td>\n",
       "      <td>PUMA Hoops</td>\n",
       "    </tr>\n",
       "    <tr>\n",
       "      <th>34</th>\n",
       "      <td>Women Liquify Rebel Running</td>\n",
       "      <td>Rs. 8999</td>\n",
       "      <td>UNDER ARMOUR</td>\n",
       "    </tr>\n",
       "    <tr>\n",
       "      <th>35</th>\n",
       "      <td>HOVR Sonic 3 Running Shoes</td>\n",
       "      <td>Rs. 10999</td>\n",
       "      <td>UNDER ARMOUR</td>\n",
       "    </tr>\n",
       "    <tr>\n",
       "      <th>36</th>\n",
       "      <td>TREKKING 100 Boots</td>\n",
       "      <td>Rs. 6999</td>\n",
       "      <td>FORCLAZ By Decathlon</td>\n",
       "    </tr>\n",
       "    <tr>\n",
       "      <th>37</th>\n",
       "      <td>Solid Leather Slip-On Sneakers</td>\n",
       "      <td>Rs. 9999</td>\n",
       "      <td>Hush Puppies</td>\n",
       "    </tr>\n",
       "    <tr>\n",
       "      <th>38</th>\n",
       "      <td>Men Leather Slip-On Shoes</td>\n",
       "      <td>Rs. 6999</td>\n",
       "      <td>Hush Puppies</td>\n",
       "    </tr>\n",
       "    <tr>\n",
       "      <th>39</th>\n",
       "      <td>Men Colourblocked Driving Shoes</td>\n",
       "      <td>Rs. 8999</td>\n",
       "      <td>Hush Puppies</td>\n",
       "    </tr>\n",
       "    <tr>\n",
       "      <th>40</th>\n",
       "      <td>Men Spike 19.1 Cricket Shoes</td>\n",
       "      <td>Rs. 10999</td>\n",
       "      <td>Puma</td>\n",
       "    </tr>\n",
       "    <tr>\n",
       "      <th>41</th>\n",
       "      <td>TREKKING 100 Waterproof Boots</td>\n",
       "      <td>Rs. 6929Rs. 6999(1% OFF)</td>\n",
       "      <td>FORCLAZ By Decathlon</td>\n",
       "    </tr>\n",
       "    <tr>\n",
       "      <th>42</th>\n",
       "      <td>Women Air Max Siren Sneakers</td>\n",
       "      <td>Rs. 6965Rs. 8195(15% OFF)</td>\n",
       "      <td>Nike</td>\n",
       "    </tr>\n",
       "    <tr>\n",
       "      <th>43</th>\n",
       "      <td>Women ULTRABOOST Running</td>\n",
       "      <td>Rs. 12349Rs. 18999(35% OFF)</td>\n",
       "      <td>ADIDAS</td>\n",
       "    </tr>\n",
       "    <tr>\n",
       "      <th>44</th>\n",
       "      <td>Women AIR ELEMENT 2 Sneakers</td>\n",
       "      <td>Rs. 7999</td>\n",
       "      <td>Skechers</td>\n",
       "    </tr>\n",
       "    <tr>\n",
       "      <th>45</th>\n",
       "      <td>Men Trekking Shoes</td>\n",
       "      <td>Rs. 6999</td>\n",
       "      <td>FORCLAZ By Decathlon</td>\n",
       "    </tr>\n",
       "    <tr>\n",
       "      <th>46</th>\n",
       "      <td>Men Solid Leather Formal Slip-Ons</td>\n",
       "      <td>Rs. 6990</td>\n",
       "      <td>Ruosh</td>\n",
       "    </tr>\n",
       "    <tr>\n",
       "      <th>47</th>\n",
       "      <td>Unisex RS-FAST TECH Sneakers</td>\n",
       "      <td>Rs. 7499Rs. 9999(25% OFF)</td>\n",
       "      <td>Puma</td>\n",
       "    </tr>\n",
       "    <tr>\n",
       "      <th>48</th>\n",
       "      <td>Men Leather Slip-On Sneakers</td>\n",
       "      <td>Rs. 8999</td>\n",
       "      <td>Hush Puppies</td>\n",
       "    </tr>\n",
       "    <tr>\n",
       "      <th>49</th>\n",
       "      <td>Women Running Shoes</td>\n",
       "      <td>Rs. 9659Rs. 13999(31% OFF)</td>\n",
       "      <td>ASICS</td>\n",
       "    </tr>\n",
       "  </tbody>\n",
       "</table>\n",
       "</div>"
      ],
      "text/plain": [
       "                            Descrp of Shoes                       Prices  \\\n",
       "0                              Men Sneakers                     Rs. 9999   \n",
       "1                       Men Leather Oxfords   Rs. 9599Rs. 15999(40% OFF)   \n",
       "2             LEBRON XVIII Basketball Shoes  Rs. 12316Rs. 17595(30% OFF)   \n",
       "3                Men AIR ZOOM Running Shoes   Rs. 7721Rs. 10295(25% OFF)   \n",
       "4                 Men Solid Leather Loafers                    Rs. 12999   \n",
       "5                 SUPERFLY 7 Football Shoes    Rs. 7220Rs. 8495(15% OFF)   \n",
       "6                         Men Driving Shoes                    Rs. 11999   \n",
       "7                 Jordan Delta 2 Basketball                    Rs. 11495   \n",
       "8                              Men Sneakers                     Rs. 9999   \n",
       "9                         Men Solid Loafers                    Rs. 12999   \n",
       "10                Men Solid Leather Loafers   Rs. 7799Rs. 12999(40% OFF)   \n",
       "11           Unisex LEBRON XVIII Basketball  Rs. 12316Rs. 17595(30% OFF)   \n",
       "12                        Men Driving Shoes                    Rs. 11999   \n",
       "13              Zoom Winflo 8 Running Shoes                     Rs. 8295   \n",
       "14                Mesh Hybrid Fuego Running                     Rs. 6999   \n",
       "15                  Women FREE RN 5.0 Shoes    Rs. 6795Rs. 7995(15% OFF)   \n",
       "16             Unisex RS-Fast Running Shoes    Rs. 7999Rs. 9999(20% OFF)   \n",
       "17            Men LQDCELL Tension Gym Shoes     Rs. 7599Rs. 7999(5% OFF)   \n",
       "18  Men Eternity Nitro Running Sports Shoes  Rs. 10399Rs. 12999(20% OFF)   \n",
       "19              Women Liquify Rebel Running                     Rs. 8999   \n",
       "20                     Men Ozweego Sneakers   Rs. 7149Rs. 10999(35% OFF)   \n",
       "21             Men Leather Slip-On Sneakers                     Rs. 9999   \n",
       "22               Men CHALLENGER OG Sneakers    Rs. 6965Rs. 8195(15% OFF)   \n",
       "23             Men HOVR Rise Training Shoes                     Rs. 9999   \n",
       "24           Women TriBase Reign 2 Training                    Rs. 11999   \n",
       "25                 Women LUV STORY Sneakers                     Rs. 7499   \n",
       "26               Women HOVR Rise 2 Training                     Rs. 9999   \n",
       "27               Men Liberate Nitro Running    Rs. 7499Rs. 9999(25% OFF)   \n",
       "28            Women BLAZER MID '77 Sneakers    Rs. 6971Rs. 9295(25% OFF)   \n",
       "29                   Women Printed Sneakers                     Rs. 6999   \n",
       "30            Women SUPERNOVA Running Shoes    Rs. 6999Rs. 9999(30% OFF)   \n",
       "31           Men Flex Advantage 4.0Upstream                     Rs. 6999   \n",
       "32                 Women LUV STORY Sneakers                     Rs. 7499   \n",
       "33            Unisex Clyde Basketball Shoes   Rs. 7699Rs. 10999(30% OFF)   \n",
       "34              Women Liquify Rebel Running                     Rs. 8999   \n",
       "35               HOVR Sonic 3 Running Shoes                    Rs. 10999   \n",
       "36                       TREKKING 100 Boots                     Rs. 6999   \n",
       "37           Solid Leather Slip-On Sneakers                     Rs. 9999   \n",
       "38                Men Leather Slip-On Shoes                     Rs. 6999   \n",
       "39          Men Colourblocked Driving Shoes                     Rs. 8999   \n",
       "40             Men Spike 19.1 Cricket Shoes                    Rs. 10999   \n",
       "41            TREKKING 100 Waterproof Boots     Rs. 6929Rs. 6999(1% OFF)   \n",
       "42             Women Air Max Siren Sneakers    Rs. 6965Rs. 8195(15% OFF)   \n",
       "43                 Women ULTRABOOST Running  Rs. 12349Rs. 18999(35% OFF)   \n",
       "44             Women AIR ELEMENT 2 Sneakers                     Rs. 7999   \n",
       "45                       Men Trekking Shoes                     Rs. 6999   \n",
       "46        Men Solid Leather Formal Slip-Ons                     Rs. 6990   \n",
       "47             Unisex RS-FAST TECH Sneakers    Rs. 7499Rs. 9999(25% OFF)   \n",
       "48             Men Leather Slip-On Sneakers                     Rs. 8999   \n",
       "49                      Women Running Shoes   Rs. 9659Rs. 13999(31% OFF)   \n",
       "\n",
       "              BrandShoes  \n",
       "0                   ALDO  \n",
       "1                   ALDO  \n",
       "2                   Nike  \n",
       "3                   Nike  \n",
       "4                   ALDO  \n",
       "5                   Nike  \n",
       "6                   ALDO  \n",
       "7                   Nike  \n",
       "8                   ALDO  \n",
       "9                   ALDO  \n",
       "10                  ALDO  \n",
       "11                  Nike  \n",
       "12                  ALDO  \n",
       "13                  Nike  \n",
       "14                  Puma  \n",
       "15                  Nike  \n",
       "16                  Puma  \n",
       "17                  Puma  \n",
       "18                  Puma  \n",
       "19          UNDER ARMOUR  \n",
       "20      ADIDAS Originals  \n",
       "21          Hush Puppies  \n",
       "22                  Nike  \n",
       "23          UNDER ARMOUR  \n",
       "24          UNDER ARMOUR  \n",
       "25              Skechers  \n",
       "26          UNDER ARMOUR  \n",
       "27                  Puma  \n",
       "28                  Nike  \n",
       "29                  FILA  \n",
       "30                ADIDAS  \n",
       "31              Skechers  \n",
       "32              Skechers  \n",
       "33            PUMA Hoops  \n",
       "34          UNDER ARMOUR  \n",
       "35          UNDER ARMOUR  \n",
       "36  FORCLAZ By Decathlon  \n",
       "37          Hush Puppies  \n",
       "38          Hush Puppies  \n",
       "39          Hush Puppies  \n",
       "40                  Puma  \n",
       "41  FORCLAZ By Decathlon  \n",
       "42                  Nike  \n",
       "43                ADIDAS  \n",
       "44              Skechers  \n",
       "45  FORCLAZ By Decathlon  \n",
       "46                 Ruosh  \n",
       "47                  Puma  \n",
       "48          Hush Puppies  \n",
       "49                 ASICS  "
      ]
     },
     "execution_count": 109,
     "metadata": {},
     "output_type": "execute_result"
    }
   ],
   "source": [
    "dataofShoes"
   ]
  },
  {
   "cell_type": "code",
   "execution_count": 110,
   "metadata": {},
   "outputs": [],
   "source": [
    "##Scrape 100 reviews data from flipkart.com for iphone11 phone. You have to go the link:\n",
    "##These are 1. Rating 2. Review_summary 3. Full review"
   ]
  },
  {
   "cell_type": "code",
   "execution_count": 112,
   "metadata": {},
   "outputs": [],
   "source": [
    "url4='https://www.flipkart.com/apple-iphone-11-black-64-gb-includesearpods-poweradapter/p/itm0f37c2240b217?pid=MOBFKCTSVZAXUHGR&lid=LSTMOBFKCTSVZAXUHGREPBFGI&marketplace'"
   ]
  },
  {
   "cell_type": "code",
   "execution_count": 113,
   "metadata": {},
   "outputs": [],
   "source": [
    "driver.get(url4)"
   ]
  },
  {
   "cell_type": "code",
   "execution_count": 148,
   "metadata": {},
   "outputs": [],
   "source": [
    "Ratings=driver.find_elements_by_xpath(\"//img[@class='_1wB99o']\")\n",
    "##_3LWZ1K _1BLPMq"
   ]
  },
  {
   "cell_type": "code",
   "execution_count": 149,
   "metadata": {},
   "outputs": [
    {
     "data": {
      "text/plain": [
       "[<selenium.webdriver.remote.webelement.WebElement (session=\"5578cf3dee6f863a6ea8fe7a3b1eccb7\", element=\"44322765-53a9-4524-83a6-92749b31e8e0\")>,\n",
       " <selenium.webdriver.remote.webelement.WebElement (session=\"5578cf3dee6f863a6ea8fe7a3b1eccb7\", element=\"d10b22b6-8e34-4fcf-b36b-99f1ea06734e\")>,\n",
       " <selenium.webdriver.remote.webelement.WebElement (session=\"5578cf3dee6f863a6ea8fe7a3b1eccb7\", element=\"71f53cac-4c74-481b-9fc4-6ece99811391\")>,\n",
       " <selenium.webdriver.remote.webelement.WebElement (session=\"5578cf3dee6f863a6ea8fe7a3b1eccb7\", element=\"dc31c42e-bfc7-4461-9316-555f775e8fff\")>,\n",
       " <selenium.webdriver.remote.webelement.WebElement (session=\"5578cf3dee6f863a6ea8fe7a3b1eccb7\", element=\"82889b56-d99a-415e-9735-d9eea586cfdb\")>,\n",
       " <selenium.webdriver.remote.webelement.WebElement (session=\"5578cf3dee6f863a6ea8fe7a3b1eccb7\", element=\"a6edc24a-4ed2-4e78-9c46-9311075d0209\")>,\n",
       " <selenium.webdriver.remote.webelement.WebElement (session=\"5578cf3dee6f863a6ea8fe7a3b1eccb7\", element=\"50c575e1-97f9-464f-b622-d161b23b3146\")>,\n",
       " <selenium.webdriver.remote.webelement.WebElement (session=\"5578cf3dee6f863a6ea8fe7a3b1eccb7\", element=\"cf134db1-697f-46c1-a41c-595e91f9fb70\")>,\n",
       " <selenium.webdriver.remote.webelement.WebElement (session=\"5578cf3dee6f863a6ea8fe7a3b1eccb7\", element=\"34ec0cb1-186b-4c2e-8d8b-4104dcc4a8ff\")>,\n",
       " <selenium.webdriver.remote.webelement.WebElement (session=\"5578cf3dee6f863a6ea8fe7a3b1eccb7\", element=\"a42710b8-cf61-407a-83fd-c49fe10c2a52\")>,\n",
       " <selenium.webdriver.remote.webelement.WebElement (session=\"5578cf3dee6f863a6ea8fe7a3b1eccb7\", element=\"28f0edc7-d5a7-4086-abfe-25e50e5262f3\")>]"
      ]
     },
     "execution_count": 149,
     "metadata": {},
     "output_type": "execute_result"
    }
   ],
   "source": [
    "Ratings"
   ]
  },
  {
   "cell_type": "code",
   "execution_count": 154,
   "metadata": {},
   "outputs": [
    {
     "data": {
      "text/plain": [
       "['', '', '', '', '', '', '', '', '', '', '']"
      ]
     },
     "execution_count": 154,
     "metadata": {},
     "output_type": "execute_result"
    }
   ],
   "source": [
    "RatingsList=[]\n",
    "for M in Ratings:\n",
    "    RatingsList.append(M.text)\n",
    "RatingsList"
   ]
  },
  {
   "cell_type": "code",
   "execution_count": 131,
   "metadata": {},
   "outputs": [],
   "source": [
    "Reviews=driver.find_elements_by_xpath(\"//p[@class='_2-N8zT']\")"
   ]
  },
  {
   "cell_type": "code",
   "execution_count": 132,
   "metadata": {},
   "outputs": [
    {
     "data": {
      "text/plain": [
       "[<selenium.webdriver.remote.webelement.WebElement (session=\"5578cf3dee6f863a6ea8fe7a3b1eccb7\", element=\"a7420db1-97e8-4559-b8e7-2353acafc976\")>,\n",
       " <selenium.webdriver.remote.webelement.WebElement (session=\"5578cf3dee6f863a6ea8fe7a3b1eccb7\", element=\"c3be5822-ae47-4cdf-b1bb-7907a5205f73\")>,\n",
       " <selenium.webdriver.remote.webelement.WebElement (session=\"5578cf3dee6f863a6ea8fe7a3b1eccb7\", element=\"6af7be50-2ee6-4a2d-826f-ca390368da1d\")>,\n",
       " <selenium.webdriver.remote.webelement.WebElement (session=\"5578cf3dee6f863a6ea8fe7a3b1eccb7\", element=\"711d3f6e-d3e5-47ef-a63e-c334f8b32a4e\")>,\n",
       " <selenium.webdriver.remote.webelement.WebElement (session=\"5578cf3dee6f863a6ea8fe7a3b1eccb7\", element=\"2060be52-8f6e-4235-8249-1c17f156d843\")>,\n",
       " <selenium.webdriver.remote.webelement.WebElement (session=\"5578cf3dee6f863a6ea8fe7a3b1eccb7\", element=\"aded712f-eaed-4593-80fb-e5a5766c8452\")>,\n",
       " <selenium.webdriver.remote.webelement.WebElement (session=\"5578cf3dee6f863a6ea8fe7a3b1eccb7\", element=\"a4c11416-2e2c-43a2-94ba-249115218927\")>,\n",
       " <selenium.webdriver.remote.webelement.WebElement (session=\"5578cf3dee6f863a6ea8fe7a3b1eccb7\", element=\"0f20ecb6-ce96-451e-836c-ab0470d526f5\")>,\n",
       " <selenium.webdriver.remote.webelement.WebElement (session=\"5578cf3dee6f863a6ea8fe7a3b1eccb7\", element=\"cf94b995-5297-4b9a-b06d-43620430daa3\")>,\n",
       " <selenium.webdriver.remote.webelement.WebElement (session=\"5578cf3dee6f863a6ea8fe7a3b1eccb7\", element=\"65814ff4-43e4-4262-b239-dc6db3b502f4\")>]"
      ]
     },
     "execution_count": 132,
     "metadata": {},
     "output_type": "execute_result"
    }
   ],
   "source": [
    "Reviews"
   ]
  },
  {
   "cell_type": "code",
   "execution_count": 135,
   "metadata": {},
   "outputs": [
    {
     "data": {
      "text/plain": [
       "['Brilliant',\n",
       " 'Simply awesome',\n",
       " 'Perfect product!',\n",
       " 'Fabulous!',\n",
       " 'Worth every penny',\n",
       " 'Great product',\n",
       " 'Worth every penny',\n",
       " 'Good choice',\n",
       " 'Highly recommended',\n",
       " 'Perfect product!']"
      ]
     },
     "execution_count": 135,
     "metadata": {},
     "output_type": "execute_result"
    }
   ],
   "source": [
    "ReviewsSummary=[]\n",
    "for Z in Reviews:\n",
    "    ReviewsSummary.append(Z.text)\n",
    "ReviewsSummary"
   ]
  },
  {
   "cell_type": "code",
   "execution_count": 142,
   "metadata": {},
   "outputs": [],
   "source": [
    "FullReviews=driver.find_elements_by_xpath(\"//div[@class='row']\")"
   ]
  },
  {
   "cell_type": "code",
   "execution_count": 143,
   "metadata": {},
   "outputs": [
    {
     "data": {
      "text/plain": [
       "[<selenium.webdriver.remote.webelement.WebElement (session=\"5578cf3dee6f863a6ea8fe7a3b1eccb7\", element=\"089f7591-98f6-4e40-b27d-39ef35e9f21b\")>,\n",
       " <selenium.webdriver.remote.webelement.WebElement (session=\"5578cf3dee6f863a6ea8fe7a3b1eccb7\", element=\"1c5c52a1-1983-4256-a505-1fb482e252ca\")>,\n",
       " <selenium.webdriver.remote.webelement.WebElement (session=\"5578cf3dee6f863a6ea8fe7a3b1eccb7\", element=\"ad168134-e6a1-4462-8633-c1c1d9970ca0\")>,\n",
       " <selenium.webdriver.remote.webelement.WebElement (session=\"5578cf3dee6f863a6ea8fe7a3b1eccb7\", element=\"f73acbaf-8227-4476-8ca0-e9165dfb3181\")>,\n",
       " <selenium.webdriver.remote.webelement.WebElement (session=\"5578cf3dee6f863a6ea8fe7a3b1eccb7\", element=\"54fd1a74-7c1f-44e1-8291-621447e7f85c\")>,\n",
       " <selenium.webdriver.remote.webelement.WebElement (session=\"5578cf3dee6f863a6ea8fe7a3b1eccb7\", element=\"f2fa0fc7-9f83-47f2-a2a2-10b93bfbe327\")>,\n",
       " <selenium.webdriver.remote.webelement.WebElement (session=\"5578cf3dee6f863a6ea8fe7a3b1eccb7\", element=\"1970a131-0f9f-4158-855d-6ade54e9def3\")>,\n",
       " <selenium.webdriver.remote.webelement.WebElement (session=\"5578cf3dee6f863a6ea8fe7a3b1eccb7\", element=\"30e990f2-fca0-4886-8eb9-857a58611899\")>,\n",
       " <selenium.webdriver.remote.webelement.WebElement (session=\"5578cf3dee6f863a6ea8fe7a3b1eccb7\", element=\"fddb2162-4b20-40a8-a8f8-532cbd2916a2\")>,\n",
       " <selenium.webdriver.remote.webelement.WebElement (session=\"5578cf3dee6f863a6ea8fe7a3b1eccb7\", element=\"9b6b066f-2609-4f7b-8174-fd87c5b97d6c\")>,\n",
       " <selenium.webdriver.remote.webelement.WebElement (session=\"5578cf3dee6f863a6ea8fe7a3b1eccb7\", element=\"06d9dcc7-1f1e-4b05-9761-b828354f5435\")>,\n",
       " <selenium.webdriver.remote.webelement.WebElement (session=\"5578cf3dee6f863a6ea8fe7a3b1eccb7\", element=\"63b6f1bd-406e-41d0-9a7c-dbff5df81b08\")>,\n",
       " <selenium.webdriver.remote.webelement.WebElement (session=\"5578cf3dee6f863a6ea8fe7a3b1eccb7\", element=\"6a31f318-7838-457b-aba7-6120f3417e12\")>,\n",
       " <selenium.webdriver.remote.webelement.WebElement (session=\"5578cf3dee6f863a6ea8fe7a3b1eccb7\", element=\"e98ce5a6-ef09-452d-9305-51f1f3ff3f27\")>,\n",
       " <selenium.webdriver.remote.webelement.WebElement (session=\"5578cf3dee6f863a6ea8fe7a3b1eccb7\", element=\"d6cc5193-1eb8-488c-8cd5-9c3fa372747a\")>,\n",
       " <selenium.webdriver.remote.webelement.WebElement (session=\"5578cf3dee6f863a6ea8fe7a3b1eccb7\", element=\"957a6e77-41ef-4295-ba6b-f31bec28e1c7\")>,\n",
       " <selenium.webdriver.remote.webelement.WebElement (session=\"5578cf3dee6f863a6ea8fe7a3b1eccb7\", element=\"9856704e-88d6-4c63-aab4-8f16d47a4fb6\")>,\n",
       " <selenium.webdriver.remote.webelement.WebElement (session=\"5578cf3dee6f863a6ea8fe7a3b1eccb7\", element=\"97360bc0-c36b-462d-b2c6-5e55f5cd9b80\")>,\n",
       " <selenium.webdriver.remote.webelement.WebElement (session=\"5578cf3dee6f863a6ea8fe7a3b1eccb7\", element=\"f992d0e2-46db-474a-a3bc-3baff0238229\")>,\n",
       " <selenium.webdriver.remote.webelement.WebElement (session=\"5578cf3dee6f863a6ea8fe7a3b1eccb7\", element=\"07fc82db-28fa-43c5-be10-1d39305919b0\")>,\n",
       " <selenium.webdriver.remote.webelement.WebElement (session=\"5578cf3dee6f863a6ea8fe7a3b1eccb7\", element=\"66c049ea-248f-4ee8-9a3f-a4e260a38e43\")>,\n",
       " <selenium.webdriver.remote.webelement.WebElement (session=\"5578cf3dee6f863a6ea8fe7a3b1eccb7\", element=\"9619d5b7-fd7e-45fc-954f-47d696eeb82e\")>,\n",
       " <selenium.webdriver.remote.webelement.WebElement (session=\"5578cf3dee6f863a6ea8fe7a3b1eccb7\", element=\"fd1a5405-a05a-4ea1-8e09-4701c16edea3\")>,\n",
       " <selenium.webdriver.remote.webelement.WebElement (session=\"5578cf3dee6f863a6ea8fe7a3b1eccb7\", element=\"a5506e80-343c-4ed7-b7a5-8afedde8c819\")>,\n",
       " <selenium.webdriver.remote.webelement.WebElement (session=\"5578cf3dee6f863a6ea8fe7a3b1eccb7\", element=\"8f138726-801e-487e-92c8-5f58033a0f2d\")>,\n",
       " <selenium.webdriver.remote.webelement.WebElement (session=\"5578cf3dee6f863a6ea8fe7a3b1eccb7\", element=\"a14f79ab-2d31-4a30-94f9-fcefc225a25e\")>,\n",
       " <selenium.webdriver.remote.webelement.WebElement (session=\"5578cf3dee6f863a6ea8fe7a3b1eccb7\", element=\"6e21a6ba-7516-47f2-a21e-5a44e077687c\")>,\n",
       " <selenium.webdriver.remote.webelement.WebElement (session=\"5578cf3dee6f863a6ea8fe7a3b1eccb7\", element=\"3bbcfaa6-7ecc-4929-a6c0-67a97a46a18b\")>,\n",
       " <selenium.webdriver.remote.webelement.WebElement (session=\"5578cf3dee6f863a6ea8fe7a3b1eccb7\", element=\"35c7693d-77c7-4635-bc90-3cba5c90fbea\")>,\n",
       " <selenium.webdriver.remote.webelement.WebElement (session=\"5578cf3dee6f863a6ea8fe7a3b1eccb7\", element=\"bdf75b97-854d-4404-9395-1077f755fd0a\")>,\n",
       " <selenium.webdriver.remote.webelement.WebElement (session=\"5578cf3dee6f863a6ea8fe7a3b1eccb7\", element=\"8bfe83a4-871a-47d4-a387-dfb4cab672c6\")>,\n",
       " <selenium.webdriver.remote.webelement.WebElement (session=\"5578cf3dee6f863a6ea8fe7a3b1eccb7\", element=\"d167f78f-2f83-42f6-82e2-f481720614b6\")>,\n",
       " <selenium.webdriver.remote.webelement.WebElement (session=\"5578cf3dee6f863a6ea8fe7a3b1eccb7\", element=\"d82f4909-d38d-4cbe-9c12-7b9dc190adc6\")>,\n",
       " <selenium.webdriver.remote.webelement.WebElement (session=\"5578cf3dee6f863a6ea8fe7a3b1eccb7\", element=\"9bb791ad-a0db-44b4-9dd3-9d3d1930c46b\")>,\n",
       " <selenium.webdriver.remote.webelement.WebElement (session=\"5578cf3dee6f863a6ea8fe7a3b1eccb7\", element=\"6adbe254-185f-4c9d-a857-9d91c0a21271\")>,\n",
       " <selenium.webdriver.remote.webelement.WebElement (session=\"5578cf3dee6f863a6ea8fe7a3b1eccb7\", element=\"4dd26aaa-332c-4fdf-8f28-0fafeb4b72eb\")>,\n",
       " <selenium.webdriver.remote.webelement.WebElement (session=\"5578cf3dee6f863a6ea8fe7a3b1eccb7\", element=\"fbfa9902-a624-42e1-a249-083acb8dec96\")>,\n",
       " <selenium.webdriver.remote.webelement.WebElement (session=\"5578cf3dee6f863a6ea8fe7a3b1eccb7\", element=\"8026baa2-e89e-4890-af64-ac14cc89e690\")>,\n",
       " <selenium.webdriver.remote.webelement.WebElement (session=\"5578cf3dee6f863a6ea8fe7a3b1eccb7\", element=\"50ff8084-5b86-442c-bbb5-b13027bb2017\")>,\n",
       " <selenium.webdriver.remote.webelement.WebElement (session=\"5578cf3dee6f863a6ea8fe7a3b1eccb7\", element=\"bf97b66b-6975-4795-8006-7827f31ad4fd\")>,\n",
       " <selenium.webdriver.remote.webelement.WebElement (session=\"5578cf3dee6f863a6ea8fe7a3b1eccb7\", element=\"13838243-c49f-4384-8423-a6c5f58bf2ea\")>,\n",
       " <selenium.webdriver.remote.webelement.WebElement (session=\"5578cf3dee6f863a6ea8fe7a3b1eccb7\", element=\"a0b126a7-867f-41e1-b7cd-9c29aee1bf81\")>]"
      ]
     },
     "execution_count": 143,
     "metadata": {},
     "output_type": "execute_result"
    }
   ],
   "source": [
    "FullReviewsc"
   ]
  },
  {
   "cell_type": "code",
   "execution_count": 158,
   "metadata": {},
   "outputs": [
    {
     "data": {
      "text/plain": [
       "['4.6★',\n",
       " '5\\nBrilliant',\n",
       " 'The Best Phone for the Money\\n\\nThe iPhone 11 offers superb cameras, a more durable design and excellent battery life for an affordable price.\\n\\nCompelling ultra-wide camera\\nNew Night mode is excellent\\nLong battery life',\n",
       " 'Ankit\\nCertified Buyer, Gurgaon\\nSep, 2019',\n",
       " '103791426',\n",
       " '5\\nSimply awesome',\n",
       " 'Really satisfied with the Product I received... It’s totally genuine and the packaging was also really good so if ur planning to buy just go for it.',\n",
       " 'Flipkart Customer\\nCertified Buyer, Mokokchung\\n8 months ago',\n",
       " '21524',\n",
       " '5\\nPerfect product!',\n",
       " 'Amazing phone with great cameras and better battery which gives you the best performance. I just love the camera .',\n",
       " 'Flipkart Customer\\nCertified Buyer, Hyderabad\\nJun, 2020',\n",
       " '75461225',\n",
       " '5\\nFabulous!',\n",
       " 'This is my first iOS phone. I am very happy with this product. Very much satisfied with this. I love this phone.',\n",
       " 'Naveen Boopathi\\nCertified Buyer, Chennai\\nMar, 2020',\n",
       " '1296199',\n",
       " '5\\nWorth every penny',\n",
       " 'Previously I was using one plus 3t it was a great phone\\nAnd then I decided to upgrade I am stuck between Samsung s10 plus or iPhone 11\\nI have seen the specs and everything were good except the display it’s somewhere between 720-1080 and it’s not even an amoled it’s an LCD display\\nBut I decided to go with iPhone because I have never used an IOS device I have Been an android user from the past 9 years I ordered IPhone 11 (128gb) product red\\nMy experience after using 3 weeks\\n1. The delivery ...\\nREAD MORE',\n",
       " 'Vamshi Chakrala\\nCertified Buyer, Huzurnagar\\nJan, 2020',\n",
       " '3415561',\n",
       " '5\\nGreat product',\n",
       " 'Amazing Powerful and Durable Gadget.\\n\\nI’m am very happy with the camera picture quality, Amazing face id unlocked in dark room, Strong battery with perfect screen size as you can carry easily in pocket. This is my third iPhone.\\n\\nI shifted from android Samsung Note series to iPhone because of the strong build quality and peace of mind for next 3-4 years.\\n\\nDon’t think to much just go for it and I suggest you to go for minimum 128gb variant or more 256gb.\\n\\nI’ve attached my puppy pics and no fi...\\nREAD MORE',\n",
       " 'Rahul Verma\\nCertified Buyer, Noida\\nMar, 2020',\n",
       " '5237895',\n",
       " '5\\nWorth every penny',\n",
       " 'i11 is worthy to buy, too much happy with the product. Thank u flipkart I received the item on time..loved it..',\n",
       " 'Flipkart Customer\\nCertified Buyer, Agartala\\n9 months ago',\n",
       " '17923',\n",
       " '4\\nGood choice',\n",
       " 'So far it’s been an AMAZING experience coming back to iOS after nearly a decade but it’s not as versatile as android though phone is sturdy dropped it accidentally a couple of times and nothing happened fortunately camera is awesome',\n",
       " 'Bharat Sv\\nCertified Buyer, Bengaluru\\nJun, 2020',\n",
       " '691113',\n",
       " '5\\nHighly recommended',\n",
       " 'iphone 11 is a very good phone to buy only if you can compromise for the display. The display on this is device is pretty good but you can get other options with better displays in this price segment.\\nIf you can survive with an HD+ LCD panel with thicker bezels and a notch up top then this is a very good phone for you.\\nCameras are awesome, battery backup excellent, great performance and a decent premium look. Good job Apple !',\n",
       " 'muddassar shaikh\\nCertified Buyer, Pune\\nNov, 2019',\n",
       " '4551910',\n",
       " '5\\nPerfect product!',\n",
       " 'It’s a must buy who is looking for an upgrade from previous generation of iPhones. If you are using XR then still you can hold on for sometime and upgrade to 2020 model else this phone is a must buy . Camera quality is amazing and wide angle is something to count upon. Performance wise it’s amazing and feels premium while holding in hand. So a big YES for this device. Go for 128 GB variant as the 4K videos will occupy lots of space and the storage can get over very quickly. Try to buy it with...\\nREAD MORE',\n",
       " 'tushar srivastava\\nCertified Buyer, Lucknow\\nMar, 2020',\n",
       " '2846594',\n",
       " '']"
      ]
     },
     "execution_count": 158,
     "metadata": {},
     "output_type": "execute_result"
    }
   ],
   "source": [
    "FullReviewsList=[]\n",
    "for Y in FullReviews:\n",
    "    FullReviewsList.append(Y.text)\n",
    "FullReviewsList"
   ]
  },
  {
   "cell_type": "code",
   "execution_count": 162,
   "metadata": {},
   "outputs": [],
   "source": [
    "dataofApple=pd.DataFrame({'FullReviews':FullReviewsList[0:10],'ReviewsSummary':ReviewsSummary[0:10],'Ratingsdescp':RatingsList[0:10]})"
   ]
  },
  {
   "cell_type": "code",
   "execution_count": 159,
   "metadata": {},
   "outputs": [
    {
     "name": "stdout",
     "output_type": "stream",
     "text": [
      "42\n",
      "10\n",
      "11\n"
     ]
    }
   ],
   "source": [
    "print (len(FullReviewsList))\n",
    "print (len(ReviewsSummary))\n",
    "print(len(RatingsList))"
   ]
  },
  {
   "cell_type": "code",
   "execution_count": 163,
   "metadata": {},
   "outputs": [
    {
     "data": {
      "text/html": [
       "<div>\n",
       "<style scoped>\n",
       "    .dataframe tbody tr th:only-of-type {\n",
       "        vertical-align: middle;\n",
       "    }\n",
       "\n",
       "    .dataframe tbody tr th {\n",
       "        vertical-align: top;\n",
       "    }\n",
       "\n",
       "    .dataframe thead th {\n",
       "        text-align: right;\n",
       "    }\n",
       "</style>\n",
       "<table border=\"1\" class=\"dataframe\">\n",
       "  <thead>\n",
       "    <tr style=\"text-align: right;\">\n",
       "      <th></th>\n",
       "      <th>FullReviews</th>\n",
       "      <th>ReviewsSummary</th>\n",
       "      <th>Ratingsdescp</th>\n",
       "    </tr>\n",
       "  </thead>\n",
       "  <tbody>\n",
       "    <tr>\n",
       "      <th>0</th>\n",
       "      <td>4.6★</td>\n",
       "      <td>Brilliant</td>\n",
       "      <td></td>\n",
       "    </tr>\n",
       "    <tr>\n",
       "      <th>1</th>\n",
       "      <td>5\\nBrilliant</td>\n",
       "      <td>Simply awesome</td>\n",
       "      <td></td>\n",
       "    </tr>\n",
       "    <tr>\n",
       "      <th>2</th>\n",
       "      <td>The Best Phone for the Money\\n\\nThe iPhone 11 ...</td>\n",
       "      <td>Perfect product!</td>\n",
       "      <td></td>\n",
       "    </tr>\n",
       "    <tr>\n",
       "      <th>3</th>\n",
       "      <td>Ankit\\nCertified Buyer, Gurgaon\\nSep, 2019</td>\n",
       "      <td>Fabulous!</td>\n",
       "      <td></td>\n",
       "    </tr>\n",
       "    <tr>\n",
       "      <th>4</th>\n",
       "      <td>103791426</td>\n",
       "      <td>Worth every penny</td>\n",
       "      <td></td>\n",
       "    </tr>\n",
       "    <tr>\n",
       "      <th>5</th>\n",
       "      <td>5\\nSimply awesome</td>\n",
       "      <td>Great product</td>\n",
       "      <td></td>\n",
       "    </tr>\n",
       "    <tr>\n",
       "      <th>6</th>\n",
       "      <td>Really satisfied with the Product I received.....</td>\n",
       "      <td>Worth every penny</td>\n",
       "      <td></td>\n",
       "    </tr>\n",
       "    <tr>\n",
       "      <th>7</th>\n",
       "      <td>Flipkart Customer\\nCertified Buyer, Mokokchung...</td>\n",
       "      <td>Good choice</td>\n",
       "      <td></td>\n",
       "    </tr>\n",
       "    <tr>\n",
       "      <th>8</th>\n",
       "      <td>21524</td>\n",
       "      <td>Highly recommended</td>\n",
       "      <td></td>\n",
       "    </tr>\n",
       "    <tr>\n",
       "      <th>9</th>\n",
       "      <td>5\\nPerfect product!</td>\n",
       "      <td>Perfect product!</td>\n",
       "      <td></td>\n",
       "    </tr>\n",
       "  </tbody>\n",
       "</table>\n",
       "</div>"
      ],
      "text/plain": [
       "                                         FullReviews      ReviewsSummary  \\\n",
       "0                                               4.6★           Brilliant   \n",
       "1                                       5\\nBrilliant      Simply awesome   \n",
       "2  The Best Phone for the Money\\n\\nThe iPhone 11 ...    Perfect product!   \n",
       "3         Ankit\\nCertified Buyer, Gurgaon\\nSep, 2019           Fabulous!   \n",
       "4                                          103791426   Worth every penny   \n",
       "5                                  5\\nSimply awesome       Great product   \n",
       "6  Really satisfied with the Product I received.....   Worth every penny   \n",
       "7  Flipkart Customer\\nCertified Buyer, Mokokchung...         Good choice   \n",
       "8                                              21524  Highly recommended   \n",
       "9                                5\\nPerfect product!    Perfect product!   \n",
       "\n",
       "  Ratingsdescp  \n",
       "0               \n",
       "1               \n",
       "2               \n",
       "3               \n",
       "4               \n",
       "5               \n",
       "6               \n",
       "7               \n",
       "8               \n",
       "9               "
      ]
     },
     "execution_count": 163,
     "metadata": {},
     "output_type": "execute_result"
    }
   ],
   "source": [
    "### Without going on next page how can i extract data? only able to extract this below:\n",
    "dataofApple"
   ]
  },
  {
   "cell_type": "code",
   "execution_count": 164,
   "metadata": {},
   "outputs": [],
   "source": [
    "##Q5: Write a python program to scrape the salary data for Data Scientist designation in \n",
    "##Noida location.You have to scrape Company name, Number of salaries, Average salary, Minsalary, Max Salary."
   ]
  },
  {
   "cell_type": "code",
   "execution_count": 166,
   "metadata": {},
   "outputs": [],
   "source": [
    "Url5='https://www.glassdoor.co.in/Salaries/index.htm'"
   ]
  },
  {
   "cell_type": "code",
   "execution_count": 167,
   "metadata": {},
   "outputs": [],
   "source": [
    "driver.get(Url5)"
   ]
  },
  {
   "cell_type": "code",
   "execution_count": 169,
   "metadata": {},
   "outputs": [],
   "source": [
    "Keyword=driver.find_element_by_id(\"KeywordSearch\")"
   ]
  },
  {
   "cell_type": "code",
   "execution_count": 170,
   "metadata": {},
   "outputs": [],
   "source": [
    "Keyword.send_keys('Data Scientist')"
   ]
  },
  {
   "cell_type": "code",
   "execution_count": 171,
   "metadata": {},
   "outputs": [],
   "source": [
    "Location=driver.find_element_by_id(\"LocationSearch\")"
   ]
  },
  {
   "cell_type": "code",
   "execution_count": 172,
   "metadata": {},
   "outputs": [],
   "source": [
    "Location.send_keys('Noida')"
   ]
  },
  {
   "cell_type": "code",
   "execution_count": 173,
   "metadata": {},
   "outputs": [],
   "source": [
    "##Scrape the min salary, max salary, company name, Average salary and rating of the company."
   ]
  },
  {
   "cell_type": "code",
   "execution_count": 174,
   "metadata": {},
   "outputs": [],
   "source": [
    "Companyname=driver.find_elements_by_xpath(\"//a[@class='css-f3vw95 e1aj7ssy3']\")"
   ]
  },
  {
   "cell_type": "code",
   "execution_count": 175,
   "metadata": {},
   "outputs": [
    {
     "data": {
      "text/plain": [
       "[<selenium.webdriver.remote.webelement.WebElement (session=\"5578cf3dee6f863a6ea8fe7a3b1eccb7\", element=\"d33094c1-2d61-404f-a1d8-b64ed2ac471b\")>,\n",
       " <selenium.webdriver.remote.webelement.WebElement (session=\"5578cf3dee6f863a6ea8fe7a3b1eccb7\", element=\"4c7c7bcd-f9f4-4ec2-916a-70ddfed69eba\")>,\n",
       " <selenium.webdriver.remote.webelement.WebElement (session=\"5578cf3dee6f863a6ea8fe7a3b1eccb7\", element=\"c2c78b1d-1d2b-478e-a0e6-3ce3028f402a\")>,\n",
       " <selenium.webdriver.remote.webelement.WebElement (session=\"5578cf3dee6f863a6ea8fe7a3b1eccb7\", element=\"b4a9a8f8-016a-4fef-ad86-8bf27af64dfd\")>,\n",
       " <selenium.webdriver.remote.webelement.WebElement (session=\"5578cf3dee6f863a6ea8fe7a3b1eccb7\", element=\"c4df3b2f-cb01-4209-b565-e3291eae9c2a\")>,\n",
       " <selenium.webdriver.remote.webelement.WebElement (session=\"5578cf3dee6f863a6ea8fe7a3b1eccb7\", element=\"a99e493c-a1a0-4bc6-bc76-fd0441f498fc\")>,\n",
       " <selenium.webdriver.remote.webelement.WebElement (session=\"5578cf3dee6f863a6ea8fe7a3b1eccb7\", element=\"4f26f0cb-425c-4abd-9424-c95a51d4d77f\")>,\n",
       " <selenium.webdriver.remote.webelement.WebElement (session=\"5578cf3dee6f863a6ea8fe7a3b1eccb7\", element=\"24503b78-e3d5-4053-85a6-a66fefc1f09c\")>,\n",
       " <selenium.webdriver.remote.webelement.WebElement (session=\"5578cf3dee6f863a6ea8fe7a3b1eccb7\", element=\"31aef677-08b5-4929-848e-d51b25a87ca0\")>,\n",
       " <selenium.webdriver.remote.webelement.WebElement (session=\"5578cf3dee6f863a6ea8fe7a3b1eccb7\", element=\"5ef5ca82-0ba2-480f-bd7f-7e9b783666c2\")>,\n",
       " <selenium.webdriver.remote.webelement.WebElement (session=\"5578cf3dee6f863a6ea8fe7a3b1eccb7\", element=\"daf85001-2c5f-4923-a960-f068198177f0\")>,\n",
       " <selenium.webdriver.remote.webelement.WebElement (session=\"5578cf3dee6f863a6ea8fe7a3b1eccb7\", element=\"8feeb8de-ef0d-4bf5-b32d-04998ad86273\")>,\n",
       " <selenium.webdriver.remote.webelement.WebElement (session=\"5578cf3dee6f863a6ea8fe7a3b1eccb7\", element=\"fafff99a-93bd-4902-8f24-9013b6d4425e\")>,\n",
       " <selenium.webdriver.remote.webelement.WebElement (session=\"5578cf3dee6f863a6ea8fe7a3b1eccb7\", element=\"3fa1e86b-8948-473e-8513-f3c69a0e7695\")>,\n",
       " <selenium.webdriver.remote.webelement.WebElement (session=\"5578cf3dee6f863a6ea8fe7a3b1eccb7\", element=\"06d45b67-c21c-4c57-aefc-3f9f6f909ea9\")>,\n",
       " <selenium.webdriver.remote.webelement.WebElement (session=\"5578cf3dee6f863a6ea8fe7a3b1eccb7\", element=\"4b39ae26-308c-4852-8f28-085741659610\")>,\n",
       " <selenium.webdriver.remote.webelement.WebElement (session=\"5578cf3dee6f863a6ea8fe7a3b1eccb7\", element=\"346f0eaa-ad08-447a-ad30-3231d927a0c0\")>,\n",
       " <selenium.webdriver.remote.webelement.WebElement (session=\"5578cf3dee6f863a6ea8fe7a3b1eccb7\", element=\"2017432d-ae26-45f1-a260-af4a1dc25d09\")>,\n",
       " <selenium.webdriver.remote.webelement.WebElement (session=\"5578cf3dee6f863a6ea8fe7a3b1eccb7\", element=\"ed9c444a-7f49-489d-9296-fb9f3b2c4533\")>,\n",
       " <selenium.webdriver.remote.webelement.WebElement (session=\"5578cf3dee6f863a6ea8fe7a3b1eccb7\", element=\"3f2abf05-84d8-4889-a931-82995ec5294b\")>]"
      ]
     },
     "execution_count": 175,
     "metadata": {},
     "output_type": "execute_result"
    }
   ],
   "source": [
    "Companyname"
   ]
  },
  {
   "cell_type": "code",
   "execution_count": 176,
   "metadata": {},
   "outputs": [
    {
     "data": {
      "text/plain": [
       "['IBM',\n",
       " 'Tata Consultancy Services',\n",
       " 'Accenture',\n",
       " 'Delhivery',\n",
       " 'Ericsson-Worldwide',\n",
       " 'UnitedHealth Group',\n",
       " 'Valiance Solutions',\n",
       " 'EXL Service',\n",
       " 'Optum',\n",
       " 'Optum Global Solutions',\n",
       " 'ZS Associates',\n",
       " 'Innovaccer',\n",
       " 'Cognizant Technology Solutions',\n",
       " 'OYO',\n",
       " 'Nagarro',\n",
       " 'dunnhumby',\n",
       " 'Vidooly Media Tech',\n",
       " 'Tech Mahindra',\n",
       " 'R Systems',\n",
       " 'CARS24.com']"
      ]
     },
     "execution_count": 176,
     "metadata": {},
     "output_type": "execute_result"
    }
   ],
   "source": [
    "CompanynameList=[]\n",
    "for Z in Companyname:\n",
    "    CompanynameList.append(Z.text)\n",
    "CompanynameList"
   ]
  },
  {
   "cell_type": "code",
   "execution_count": 177,
   "metadata": {},
   "outputs": [],
   "source": [
    "##Min and Max Salary Range"
   ]
  },
  {
   "cell_type": "code",
   "execution_count": 178,
   "metadata": {},
   "outputs": [],
   "source": [
    "SalaryRange=driver.find_elements_by_xpath(\"//span[@class='d-block d-lg-none m-0 css-1b6bxoo']\")"
   ]
  },
  {
   "cell_type": "code",
   "execution_count": 179,
   "metadata": {},
   "outputs": [
    {
     "data": {
      "text/plain": [
       "[<selenium.webdriver.remote.webelement.WebElement (session=\"5578cf3dee6f863a6ea8fe7a3b1eccb7\", element=\"83b66d7f-38ee-4861-a219-2401e102542a\")>,\n",
       " <selenium.webdriver.remote.webelement.WebElement (session=\"5578cf3dee6f863a6ea8fe7a3b1eccb7\", element=\"1be5b217-9781-4ace-90d8-ff4cf561f7b5\")>,\n",
       " <selenium.webdriver.remote.webelement.WebElement (session=\"5578cf3dee6f863a6ea8fe7a3b1eccb7\", element=\"fc7a39f5-f509-43ee-abb5-df03adb92d9b\")>,\n",
       " <selenium.webdriver.remote.webelement.WebElement (session=\"5578cf3dee6f863a6ea8fe7a3b1eccb7\", element=\"225293e8-35a2-4c9f-b33d-a599a07187e7\")>,\n",
       " <selenium.webdriver.remote.webelement.WebElement (session=\"5578cf3dee6f863a6ea8fe7a3b1eccb7\", element=\"88a847a4-de8f-465c-84b7-764aec71bf28\")>,\n",
       " <selenium.webdriver.remote.webelement.WebElement (session=\"5578cf3dee6f863a6ea8fe7a3b1eccb7\", element=\"a1127f6f-7ca7-42ec-ae8f-c20d550f118b\")>,\n",
       " <selenium.webdriver.remote.webelement.WebElement (session=\"5578cf3dee6f863a6ea8fe7a3b1eccb7\", element=\"79343df0-2666-4e8f-9b8c-31122e5c138b\")>,\n",
       " <selenium.webdriver.remote.webelement.WebElement (session=\"5578cf3dee6f863a6ea8fe7a3b1eccb7\", element=\"d8f6b2d3-117a-4118-8e37-064824fa1b95\")>,\n",
       " <selenium.webdriver.remote.webelement.WebElement (session=\"5578cf3dee6f863a6ea8fe7a3b1eccb7\", element=\"b90c58b4-08da-49df-90cb-290897176e3a\")>,\n",
       " <selenium.webdriver.remote.webelement.WebElement (session=\"5578cf3dee6f863a6ea8fe7a3b1eccb7\", element=\"419b7770-b4b2-46a4-97a7-61cd34f629b0\")>,\n",
       " <selenium.webdriver.remote.webelement.WebElement (session=\"5578cf3dee6f863a6ea8fe7a3b1eccb7\", element=\"6c0652c5-8060-4136-a19f-33a15c1b43be\")>,\n",
       " <selenium.webdriver.remote.webelement.WebElement (session=\"5578cf3dee6f863a6ea8fe7a3b1eccb7\", element=\"77121edd-87f6-4cbe-85e5-2f4af48a18c6\")>,\n",
       " <selenium.webdriver.remote.webelement.WebElement (session=\"5578cf3dee6f863a6ea8fe7a3b1eccb7\", element=\"593b8550-0475-4128-ba6b-02284d3ceb79\")>,\n",
       " <selenium.webdriver.remote.webelement.WebElement (session=\"5578cf3dee6f863a6ea8fe7a3b1eccb7\", element=\"d7378426-3432-49b4-b978-b5e99cad8eae\")>,\n",
       " <selenium.webdriver.remote.webelement.WebElement (session=\"5578cf3dee6f863a6ea8fe7a3b1eccb7\", element=\"df02796a-a7ab-4b49-9ef5-5994560f6b72\")>,\n",
       " <selenium.webdriver.remote.webelement.WebElement (session=\"5578cf3dee6f863a6ea8fe7a3b1eccb7\", element=\"6862e33c-ba6d-4f1f-8963-943cef542e41\")>,\n",
       " <selenium.webdriver.remote.webelement.WebElement (session=\"5578cf3dee6f863a6ea8fe7a3b1eccb7\", element=\"640bb02a-a008-4343-b7f8-dc49f22c1177\")>,\n",
       " <selenium.webdriver.remote.webelement.WebElement (session=\"5578cf3dee6f863a6ea8fe7a3b1eccb7\", element=\"5d9bedfd-55b6-4013-99b7-954e839babe7\")>,\n",
       " <selenium.webdriver.remote.webelement.WebElement (session=\"5578cf3dee6f863a6ea8fe7a3b1eccb7\", element=\"25788c91-bf5b-459f-b4cb-cceb8cd9fdd4\")>,\n",
       " <selenium.webdriver.remote.webelement.WebElement (session=\"5578cf3dee6f863a6ea8fe7a3b1eccb7\", element=\"f4ce84f6-7661-4cdc-b45c-dd4ba80e87cd\")>]"
      ]
     },
     "execution_count": 179,
     "metadata": {},
     "output_type": "execute_result"
    }
   ],
   "source": [
    "SalaryRange"
   ]
  },
  {
   "cell_type": "code",
   "execution_count": 180,
   "metadata": {},
   "outputs": [
    {
     "data": {
      "text/plain": [
       "['Range: ₹6L - ₹27L',\n",
       " 'Range: ₹3L - ₹13L',\n",
       " 'Range: ₹6L - ₹22L',\n",
       " 'Range: ₹5L - ₹1Cr',\n",
       " 'Range: ₹4L - ₹16L',\n",
       " 'Range: ₹8L - ₹15L',\n",
       " 'Range: ₹5L - ₹15L',\n",
       " 'Range: ₹6L - ₹15L',\n",
       " 'Range: ₹8L - ₹20L',\n",
       " 'Range: ₹4L - ₹22L',\n",
       " 'Range: ₹2L - ₹18L',\n",
       " 'Range: ₹6L - ₹17L',\n",
       " 'Range: ₹8L - ₹13L',\n",
       " 'Range: ₹10L - ₹19L',\n",
       " 'Range: ₹4L - ₹16L',\n",
       " 'Range: ₹8L - ₹20L',\n",
       " 'Range: ₹12T - ₹63T',\n",
       " 'Range: ₹4L - ₹17L',\n",
       " 'Range: ₹8L - ₹30L',\n",
       " 'Range: ₹9L - ₹15L']"
      ]
     },
     "execution_count": 180,
     "metadata": {},
     "output_type": "execute_result"
    }
   ],
   "source": [
    "SalaryRangeList=[]\n",
    "for Y in SalaryRange:\n",
    "    SalaryRangeList.append(Y.text)\n",
    "SalaryRangeList"
   ]
  },
  {
   "cell_type": "code",
   "execution_count": 184,
   "metadata": {},
   "outputs": [],
   "source": [
    "AverageSalary=driver.find_elements_by_xpath(\"//h3[@class='m-0 css-g261rn']\")"
   ]
  },
  {
   "cell_type": "code",
   "execution_count": 185,
   "metadata": {},
   "outputs": [
    {
     "data": {
      "text/plain": [
       "[<selenium.webdriver.remote.webelement.WebElement (session=\"5578cf3dee6f863a6ea8fe7a3b1eccb7\", element=\"2a7a13ec-7884-4506-ac9e-ab599d3b23d1\")>,\n",
       " <selenium.webdriver.remote.webelement.WebElement (session=\"5578cf3dee6f863a6ea8fe7a3b1eccb7\", element=\"8e15e8a5-14af-490d-a086-6ae4597d2885\")>,\n",
       " <selenium.webdriver.remote.webelement.WebElement (session=\"5578cf3dee6f863a6ea8fe7a3b1eccb7\", element=\"03dd3bc1-0b7b-4bba-8fc5-34e56b7c181b\")>,\n",
       " <selenium.webdriver.remote.webelement.WebElement (session=\"5578cf3dee6f863a6ea8fe7a3b1eccb7\", element=\"8a92e755-68af-43fc-8805-1f70ea72d154\")>,\n",
       " <selenium.webdriver.remote.webelement.WebElement (session=\"5578cf3dee6f863a6ea8fe7a3b1eccb7\", element=\"57b8839b-0f89-4b7a-a8d3-7131751eca0e\")>,\n",
       " <selenium.webdriver.remote.webelement.WebElement (session=\"5578cf3dee6f863a6ea8fe7a3b1eccb7\", element=\"bb8cdfab-940f-4d7d-a692-a528b938e68a\")>,\n",
       " <selenium.webdriver.remote.webelement.WebElement (session=\"5578cf3dee6f863a6ea8fe7a3b1eccb7\", element=\"f0b7fbf6-9238-4372-89ff-27903fa28671\")>,\n",
       " <selenium.webdriver.remote.webelement.WebElement (session=\"5578cf3dee6f863a6ea8fe7a3b1eccb7\", element=\"4b9a3e4a-e371-4fbe-a818-ae842c27d7b2\")>,\n",
       " <selenium.webdriver.remote.webelement.WebElement (session=\"5578cf3dee6f863a6ea8fe7a3b1eccb7\", element=\"707aa07e-2b38-4983-bf88-b7b18e4559ab\")>,\n",
       " <selenium.webdriver.remote.webelement.WebElement (session=\"5578cf3dee6f863a6ea8fe7a3b1eccb7\", element=\"07876ac6-2615-4bb9-bf86-e7c060cf6821\")>,\n",
       " <selenium.webdriver.remote.webelement.WebElement (session=\"5578cf3dee6f863a6ea8fe7a3b1eccb7\", element=\"423eff0e-02fd-400a-8171-a534ed992663\")>,\n",
       " <selenium.webdriver.remote.webelement.WebElement (session=\"5578cf3dee6f863a6ea8fe7a3b1eccb7\", element=\"8e55baf5-a9c8-4bfc-82c0-b04bdfc91886\")>,\n",
       " <selenium.webdriver.remote.webelement.WebElement (session=\"5578cf3dee6f863a6ea8fe7a3b1eccb7\", element=\"720701c5-02d7-4f3a-9f14-7e6daed555ff\")>,\n",
       " <selenium.webdriver.remote.webelement.WebElement (session=\"5578cf3dee6f863a6ea8fe7a3b1eccb7\", element=\"445769a5-d19c-4170-91b2-07c34eee6095\")>,\n",
       " <selenium.webdriver.remote.webelement.WebElement (session=\"5578cf3dee6f863a6ea8fe7a3b1eccb7\", element=\"2f931ec6-626e-4025-a0a0-43906b4c2b15\")>,\n",
       " <selenium.webdriver.remote.webelement.WebElement (session=\"5578cf3dee6f863a6ea8fe7a3b1eccb7\", element=\"2b9e593c-b143-49f6-8258-53a9606aa77e\")>,\n",
       " <selenium.webdriver.remote.webelement.WebElement (session=\"5578cf3dee6f863a6ea8fe7a3b1eccb7\", element=\"aca08c65-527a-45c9-b2f6-6ac065e8c477\")>,\n",
       " <selenium.webdriver.remote.webelement.WebElement (session=\"5578cf3dee6f863a6ea8fe7a3b1eccb7\", element=\"c29e9308-d83f-46eb-819a-37a55117585c\")>,\n",
       " <selenium.webdriver.remote.webelement.WebElement (session=\"5578cf3dee6f863a6ea8fe7a3b1eccb7\", element=\"e71a575b-552f-4ec5-92ec-8c936cf02c8b\")>,\n",
       " <selenium.webdriver.remote.webelement.WebElement (session=\"5578cf3dee6f863a6ea8fe7a3b1eccb7\", element=\"511e29ec-d65e-467c-a9eb-e4eee2a63585\")>,\n",
       " <selenium.webdriver.remote.webelement.WebElement (session=\"5578cf3dee6f863a6ea8fe7a3b1eccb7\", element=\"0d80fafd-82ba-4356-bfff-57d87a3e0d0e\")>,\n",
       " <selenium.webdriver.remote.webelement.WebElement (session=\"5578cf3dee6f863a6ea8fe7a3b1eccb7\", element=\"a89f8321-b9b0-4c2b-a056-873f9258a323\")>,\n",
       " <selenium.webdriver.remote.webelement.WebElement (session=\"5578cf3dee6f863a6ea8fe7a3b1eccb7\", element=\"28266e3d-3fb7-4fb6-bbd6-57c8413379e3\")>,\n",
       " <selenium.webdriver.remote.webelement.WebElement (session=\"5578cf3dee6f863a6ea8fe7a3b1eccb7\", element=\"842df487-4f61-46a7-b991-41c3a4252a2b\")>,\n",
       " <selenium.webdriver.remote.webelement.WebElement (session=\"5578cf3dee6f863a6ea8fe7a3b1eccb7\", element=\"fc60c99d-5ef7-401f-bb55-70a450cd804d\")>,\n",
       " <selenium.webdriver.remote.webelement.WebElement (session=\"5578cf3dee6f863a6ea8fe7a3b1eccb7\", element=\"488bc3e6-d182-41d5-9049-d0a5d5f9e7a1\")>,\n",
       " <selenium.webdriver.remote.webelement.WebElement (session=\"5578cf3dee6f863a6ea8fe7a3b1eccb7\", element=\"5dd8c8f9-6a65-4a99-92b6-9f5eb09e6955\")>,\n",
       " <selenium.webdriver.remote.webelement.WebElement (session=\"5578cf3dee6f863a6ea8fe7a3b1eccb7\", element=\"f6318b8b-834e-441e-b5e8-3ad18ae2d027\")>,\n",
       " <selenium.webdriver.remote.webelement.WebElement (session=\"5578cf3dee6f863a6ea8fe7a3b1eccb7\", element=\"eb445726-9a8e-4d3e-9365-14a79027b324\")>,\n",
       " <selenium.webdriver.remote.webelement.WebElement (session=\"5578cf3dee6f863a6ea8fe7a3b1eccb7\", element=\"8361562e-6e44-4f44-9136-b673d9bdf3b1\")>,\n",
       " <selenium.webdriver.remote.webelement.WebElement (session=\"5578cf3dee6f863a6ea8fe7a3b1eccb7\", element=\"7f182028-c608-4b4f-acd3-8f9cd184f30b\")>,\n",
       " <selenium.webdriver.remote.webelement.WebElement (session=\"5578cf3dee6f863a6ea8fe7a3b1eccb7\", element=\"7c9fdd2e-472f-4d25-9cea-49dd6e8b3d39\")>,\n",
       " <selenium.webdriver.remote.webelement.WebElement (session=\"5578cf3dee6f863a6ea8fe7a3b1eccb7\", element=\"a4c89151-69c8-4826-a21c-071f396d9309\")>,\n",
       " <selenium.webdriver.remote.webelement.WebElement (session=\"5578cf3dee6f863a6ea8fe7a3b1eccb7\", element=\"9c41fe74-0cf7-4f63-b59e-fd61a2339d6d\")>,\n",
       " <selenium.webdriver.remote.webelement.WebElement (session=\"5578cf3dee6f863a6ea8fe7a3b1eccb7\", element=\"368de171-1f6d-4a5a-88c5-ed53b01d37de\")>,\n",
       " <selenium.webdriver.remote.webelement.WebElement (session=\"5578cf3dee6f863a6ea8fe7a3b1eccb7\", element=\"64b55879-613e-49cf-8847-bf80d793d476\")>,\n",
       " <selenium.webdriver.remote.webelement.WebElement (session=\"5578cf3dee6f863a6ea8fe7a3b1eccb7\", element=\"96daa898-ab9e-4981-a9e2-f25cac4c4173\")>,\n",
       " <selenium.webdriver.remote.webelement.WebElement (session=\"5578cf3dee6f863a6ea8fe7a3b1eccb7\", element=\"581b087b-156c-4fa8-9cc6-3805444d8de2\")>,\n",
       " <selenium.webdriver.remote.webelement.WebElement (session=\"5578cf3dee6f863a6ea8fe7a3b1eccb7\", element=\"d85e5e63-83e4-49c0-965b-64764d46c356\")>,\n",
       " <selenium.webdriver.remote.webelement.WebElement (session=\"5578cf3dee6f863a6ea8fe7a3b1eccb7\", element=\"d1cb2825-1910-4b1e-acd9-581f6d0a7b83\")>,\n",
       " <selenium.webdriver.remote.webelement.WebElement (session=\"5578cf3dee6f863a6ea8fe7a3b1eccb7\", element=\"ac2b29a2-cee8-48ea-96fd-59940de8e2c5\")>,\n",
       " <selenium.webdriver.remote.webelement.WebElement (session=\"5578cf3dee6f863a6ea8fe7a3b1eccb7\", element=\"72f9ea7e-cec9-4966-a812-f11790fb0e97\")>,\n",
       " <selenium.webdriver.remote.webelement.WebElement (session=\"5578cf3dee6f863a6ea8fe7a3b1eccb7\", element=\"f4ebb6ed-e3e3-4b02-9928-afc2aa6d83b5\")>,\n",
       " <selenium.webdriver.remote.webelement.WebElement (session=\"5578cf3dee6f863a6ea8fe7a3b1eccb7\", element=\"cc85eeea-6226-4122-9895-c2d116127cf2\")>,\n",
       " <selenium.webdriver.remote.webelement.WebElement (session=\"5578cf3dee6f863a6ea8fe7a3b1eccb7\", element=\"2773c55f-d5c9-4076-9757-92dd0eebfd02\")>,\n",
       " <selenium.webdriver.remote.webelement.WebElement (session=\"5578cf3dee6f863a6ea8fe7a3b1eccb7\", element=\"a21e49f8-6d87-4088-be1b-9af53ab713b6\")>,\n",
       " <selenium.webdriver.remote.webelement.WebElement (session=\"5578cf3dee6f863a6ea8fe7a3b1eccb7\", element=\"47f8dcf2-9b6c-413d-b368-fbbb9238b062\")>,\n",
       " <selenium.webdriver.remote.webelement.WebElement (session=\"5578cf3dee6f863a6ea8fe7a3b1eccb7\", element=\"44bccdd1-38f6-4e6a-b407-efa155fb5a9a\")>,\n",
       " <selenium.webdriver.remote.webelement.WebElement (session=\"5578cf3dee6f863a6ea8fe7a3b1eccb7\", element=\"0a0fb16c-9683-4040-99c5-d46eec86707f\")>,\n",
       " <selenium.webdriver.remote.webelement.WebElement (session=\"5578cf3dee6f863a6ea8fe7a3b1eccb7\", element=\"e240cb0f-1b87-49ee-9f42-2ce0dbdac76c\")>,\n",
       " <selenium.webdriver.remote.webelement.WebElement (session=\"5578cf3dee6f863a6ea8fe7a3b1eccb7\", element=\"1adff23f-6004-4fa9-b0b7-6139dc67424f\")>,\n",
       " <selenium.webdriver.remote.webelement.WebElement (session=\"5578cf3dee6f863a6ea8fe7a3b1eccb7\", element=\"abcbb0b3-74d1-41c2-bad7-09a1fb125cd0\")>,\n",
       " <selenium.webdriver.remote.webelement.WebElement (session=\"5578cf3dee6f863a6ea8fe7a3b1eccb7\", element=\"2448b558-f8ed-40a5-a46f-076e32d24ee0\")>]"
      ]
     },
     "execution_count": 185,
     "metadata": {},
     "output_type": "execute_result"
    }
   ],
   "source": [
    "AverageSalary"
   ]
  },
  {
   "cell_type": "code",
   "execution_count": 189,
   "metadata": {},
   "outputs": [
    {
     "data": {
      "text/plain": [
       "['How much does a Data Scientist make in New Delhi, India?',\n",
       " 'Big Data',\n",
       " '₹12,65,283',\n",
       " 'Data Analyst',\n",
       " '₹25,221',\n",
       " 'Quantitative Analyst',\n",
       " '₹64,988',\n",
       " 'Senior Data Scientist',\n",
       " '₹54,180',\n",
       " 'IBM',\n",
       " '₹9,00,000',\n",
       " 'Tata Consultancy Services',\n",
       " '₹6,15,289',\n",
       " 'Accenture',\n",
       " '₹11,63,336',\n",
       " 'Delhivery',\n",
       " '₹12,18,244',\n",
       " 'Ericsson-Worldwide',\n",
       " '₹7,39,238',\n",
       " 'UnitedHealth Group',\n",
       " '₹13,00,000',\n",
       " 'Valiance Solutions',\n",
       " '₹8,63,750',\n",
       " 'EXL Service',\n",
       " '₹11,10,000',\n",
       " 'Optum',\n",
       " '₹14,23,677',\n",
       " 'Optum Global Solutions',\n",
       " '₹13,28,697',\n",
       " 'ZS Associates',\n",
       " '₹11,42,356',\n",
       " 'Innovaccer',\n",
       " '₹12,09,040',\n",
       " 'Cognizant Technology Solutions',\n",
       " '₹10,09,021',\n",
       " 'OYO',\n",
       " '₹12,58,227',\n",
       " 'Nagarro',\n",
       " '₹9,92,632',\n",
       " 'dunnhumby',\n",
       " '₹10,55,478',\n",
       " 'Vidooly Media Tech',\n",
       " '₹34,157',\n",
       " 'Tech Mahindra',\n",
       " '₹10,54,402',\n",
       " 'R Systems',\n",
       " '₹18,40,134',\n",
       " 'CARS24.com',\n",
       " '₹10,00,000',\n",
       " '',\n",
       " '',\n",
       " '',\n",
       " '']"
      ]
     },
     "execution_count": 189,
     "metadata": {},
     "output_type": "execute_result"
    }
   ],
   "source": [
    "AverageSalaryList=[]\n",
    "for K in AverageSalary:\n",
    "    AverageSalaryList.append(K.text)\n",
    "AverageSalaryList"
   ]
  },
  {
   "cell_type": "code",
   "execution_count": 188,
   "metadata": {},
   "outputs": [
    {
     "data": {
      "text/plain": [
       "17"
      ]
     },
     "execution_count": 188,
     "metadata": {},
     "output_type": "execute_result"
    }
   ],
   "source": [
    "len('AverageSalaryList')\n",
    "#"
   ]
  },
  {
   "cell_type": "code",
   "execution_count": 190,
   "metadata": {},
   "outputs": [],
   "source": [
    "RatingsGlassdoor=driver.find_elements_by_xpath(\"//span[@class='m-0 css-kyx745']\")"
   ]
  },
  {
   "cell_type": "code",
   "execution_count": 191,
   "metadata": {},
   "outputs": [
    {
     "data": {
      "text/plain": [
       "[<selenium.webdriver.remote.webelement.WebElement (session=\"5578cf3dee6f863a6ea8fe7a3b1eccb7\", element=\"f7b598cc-bc05-44a7-86bb-19337513ddde\")>,\n",
       " <selenium.webdriver.remote.webelement.WebElement (session=\"5578cf3dee6f863a6ea8fe7a3b1eccb7\", element=\"3a9418e0-79ff-497d-b9e4-557fbdb9a369\")>,\n",
       " <selenium.webdriver.remote.webelement.WebElement (session=\"5578cf3dee6f863a6ea8fe7a3b1eccb7\", element=\"8003e953-cf93-4f39-8f24-85e2d2c228be\")>,\n",
       " <selenium.webdriver.remote.webelement.WebElement (session=\"5578cf3dee6f863a6ea8fe7a3b1eccb7\", element=\"7bef4547-93f6-47aa-b5ab-d04a7b15ef4d\")>,\n",
       " <selenium.webdriver.remote.webelement.WebElement (session=\"5578cf3dee6f863a6ea8fe7a3b1eccb7\", element=\"f86752c1-5ccd-48b1-83ee-140114109c34\")>,\n",
       " <selenium.webdriver.remote.webelement.WebElement (session=\"5578cf3dee6f863a6ea8fe7a3b1eccb7\", element=\"9d1d641a-574f-4b75-a0ed-6ff6328f43cb\")>,\n",
       " <selenium.webdriver.remote.webelement.WebElement (session=\"5578cf3dee6f863a6ea8fe7a3b1eccb7\", element=\"86f2f7a5-9be2-4b66-ab05-2b385a3b0486\")>,\n",
       " <selenium.webdriver.remote.webelement.WebElement (session=\"5578cf3dee6f863a6ea8fe7a3b1eccb7\", element=\"9cba40c4-4323-4e45-96c2-5d6aaada8fa8\")>,\n",
       " <selenium.webdriver.remote.webelement.WebElement (session=\"5578cf3dee6f863a6ea8fe7a3b1eccb7\", element=\"29b06ed2-6e3f-41e0-acdb-80c0ff90bd02\")>,\n",
       " <selenium.webdriver.remote.webelement.WebElement (session=\"5578cf3dee6f863a6ea8fe7a3b1eccb7\", element=\"76779253-6f32-4450-9a58-f8cb6c564457\")>,\n",
       " <selenium.webdriver.remote.webelement.WebElement (session=\"5578cf3dee6f863a6ea8fe7a3b1eccb7\", element=\"54e59852-aa4f-41a8-ba23-a30720d03ea5\")>,\n",
       " <selenium.webdriver.remote.webelement.WebElement (session=\"5578cf3dee6f863a6ea8fe7a3b1eccb7\", element=\"de049cd9-2eec-4aad-97a9-e23175930237\")>,\n",
       " <selenium.webdriver.remote.webelement.WebElement (session=\"5578cf3dee6f863a6ea8fe7a3b1eccb7\", element=\"7a5871d2-81ac-45a4-a47a-080ef933ac96\")>,\n",
       " <selenium.webdriver.remote.webelement.WebElement (session=\"5578cf3dee6f863a6ea8fe7a3b1eccb7\", element=\"32e5ee8b-c825-4f07-9f05-96eb32d7d30b\")>,\n",
       " <selenium.webdriver.remote.webelement.WebElement (session=\"5578cf3dee6f863a6ea8fe7a3b1eccb7\", element=\"29c973b3-16e0-4e66-abb6-98a90c8094f8\")>,\n",
       " <selenium.webdriver.remote.webelement.WebElement (session=\"5578cf3dee6f863a6ea8fe7a3b1eccb7\", element=\"bda18d49-bd2e-4467-bfcc-f4e30e19ceb4\")>,\n",
       " <selenium.webdriver.remote.webelement.WebElement (session=\"5578cf3dee6f863a6ea8fe7a3b1eccb7\", element=\"83303446-8d7b-43a2-833f-70bd49d8428e\")>,\n",
       " <selenium.webdriver.remote.webelement.WebElement (session=\"5578cf3dee6f863a6ea8fe7a3b1eccb7\", element=\"600265df-fc55-439e-9971-876acce2d2f3\")>,\n",
       " <selenium.webdriver.remote.webelement.WebElement (session=\"5578cf3dee6f863a6ea8fe7a3b1eccb7\", element=\"38e0a870-fd64-4606-9399-e8980d67ebdb\")>,\n",
       " <selenium.webdriver.remote.webelement.WebElement (session=\"5578cf3dee6f863a6ea8fe7a3b1eccb7\", element=\"cf430fc4-cf85-4890-905c-10631eeea15a\")>]"
      ]
     },
     "execution_count": 191,
     "metadata": {},
     "output_type": "execute_result"
    }
   ],
   "source": [
    "RatingsGlassdoor"
   ]
  },
  {
   "cell_type": "code",
   "execution_count": 192,
   "metadata": {},
   "outputs": [
    {
     "data": {
      "text/plain": [
       "['3.9',\n",
       " '3.9',\n",
       " '4',\n",
       " '3.9',\n",
       " '4',\n",
       " '3.7',\n",
       " '4.2',\n",
       " '3.6',\n",
       " '3.6',\n",
       " '3.9',\n",
       " '4',\n",
       " '3.8',\n",
       " '3.8',\n",
       " '3.2',\n",
       " '4',\n",
       " '4.1',\n",
       " '3.7',\n",
       " '3.6',\n",
       " '3.5',\n",
       " '4.1']"
      ]
     },
     "execution_count": 192,
     "metadata": {},
     "output_type": "execute_result"
    }
   ],
   "source": [
    "RatingsGlassdoorList=[]\n",
    "for T in RatingsGlassdoor:\n",
    "    RatingsGlassdoorList.append(T.text)\n",
    "RatingsGlassdoorList"
   ]
  },
  {
   "cell_type": "code",
   "execution_count": 194,
   "metadata": {},
   "outputs": [],
   "source": [
    "GlassdoorData=pd.DataFrame({'Ratings':RatingsGlassdoorList,'SalaryRange':SalaryRangeList,'Companies':CompanynameList})"
   ]
  },
  {
   "cell_type": "code",
   "execution_count": 195,
   "metadata": {},
   "outputs": [
    {
     "data": {
      "text/html": [
       "<div>\n",
       "<style scoped>\n",
       "    .dataframe tbody tr th:only-of-type {\n",
       "        vertical-align: middle;\n",
       "    }\n",
       "\n",
       "    .dataframe tbody tr th {\n",
       "        vertical-align: top;\n",
       "    }\n",
       "\n",
       "    .dataframe thead th {\n",
       "        text-align: right;\n",
       "    }\n",
       "</style>\n",
       "<table border=\"1\" class=\"dataframe\">\n",
       "  <thead>\n",
       "    <tr style=\"text-align: right;\">\n",
       "      <th></th>\n",
       "      <th>Ratings</th>\n",
       "      <th>SalaryRange</th>\n",
       "      <th>Companies</th>\n",
       "    </tr>\n",
       "  </thead>\n",
       "  <tbody>\n",
       "    <tr>\n",
       "      <th>0</th>\n",
       "      <td>3.9</td>\n",
       "      <td>Range: ₹6L - ₹27L</td>\n",
       "      <td>IBM</td>\n",
       "    </tr>\n",
       "    <tr>\n",
       "      <th>1</th>\n",
       "      <td>3.9</td>\n",
       "      <td>Range: ₹3L - ₹13L</td>\n",
       "      <td>Tata Consultancy Services</td>\n",
       "    </tr>\n",
       "    <tr>\n",
       "      <th>2</th>\n",
       "      <td>4</td>\n",
       "      <td>Range: ₹6L - ₹22L</td>\n",
       "      <td>Accenture</td>\n",
       "    </tr>\n",
       "    <tr>\n",
       "      <th>3</th>\n",
       "      <td>3.9</td>\n",
       "      <td>Range: ₹5L - ₹1Cr</td>\n",
       "      <td>Delhivery</td>\n",
       "    </tr>\n",
       "    <tr>\n",
       "      <th>4</th>\n",
       "      <td>4</td>\n",
       "      <td>Range: ₹4L - ₹16L</td>\n",
       "      <td>Ericsson-Worldwide</td>\n",
       "    </tr>\n",
       "    <tr>\n",
       "      <th>5</th>\n",
       "      <td>3.7</td>\n",
       "      <td>Range: ₹8L - ₹15L</td>\n",
       "      <td>UnitedHealth Group</td>\n",
       "    </tr>\n",
       "    <tr>\n",
       "      <th>6</th>\n",
       "      <td>4.2</td>\n",
       "      <td>Range: ₹5L - ₹15L</td>\n",
       "      <td>Valiance Solutions</td>\n",
       "    </tr>\n",
       "    <tr>\n",
       "      <th>7</th>\n",
       "      <td>3.6</td>\n",
       "      <td>Range: ₹6L - ₹15L</td>\n",
       "      <td>EXL Service</td>\n",
       "    </tr>\n",
       "    <tr>\n",
       "      <th>8</th>\n",
       "      <td>3.6</td>\n",
       "      <td>Range: ₹8L - ₹20L</td>\n",
       "      <td>Optum</td>\n",
       "    </tr>\n",
       "    <tr>\n",
       "      <th>9</th>\n",
       "      <td>3.9</td>\n",
       "      <td>Range: ₹4L - ₹22L</td>\n",
       "      <td>Optum Global Solutions</td>\n",
       "    </tr>\n",
       "    <tr>\n",
       "      <th>10</th>\n",
       "      <td>4</td>\n",
       "      <td>Range: ₹2L - ₹18L</td>\n",
       "      <td>ZS Associates</td>\n",
       "    </tr>\n",
       "    <tr>\n",
       "      <th>11</th>\n",
       "      <td>3.8</td>\n",
       "      <td>Range: ₹6L - ₹17L</td>\n",
       "      <td>Innovaccer</td>\n",
       "    </tr>\n",
       "    <tr>\n",
       "      <th>12</th>\n",
       "      <td>3.8</td>\n",
       "      <td>Range: ₹8L - ₹13L</td>\n",
       "      <td>Cognizant Technology Solutions</td>\n",
       "    </tr>\n",
       "    <tr>\n",
       "      <th>13</th>\n",
       "      <td>3.2</td>\n",
       "      <td>Range: ₹10L - ₹19L</td>\n",
       "      <td>OYO</td>\n",
       "    </tr>\n",
       "    <tr>\n",
       "      <th>14</th>\n",
       "      <td>4</td>\n",
       "      <td>Range: ₹4L - ₹16L</td>\n",
       "      <td>Nagarro</td>\n",
       "    </tr>\n",
       "    <tr>\n",
       "      <th>15</th>\n",
       "      <td>4.1</td>\n",
       "      <td>Range: ₹8L - ₹20L</td>\n",
       "      <td>dunnhumby</td>\n",
       "    </tr>\n",
       "    <tr>\n",
       "      <th>16</th>\n",
       "      <td>3.7</td>\n",
       "      <td>Range: ₹12T - ₹63T</td>\n",
       "      <td>Vidooly Media Tech</td>\n",
       "    </tr>\n",
       "    <tr>\n",
       "      <th>17</th>\n",
       "      <td>3.6</td>\n",
       "      <td>Range: ₹4L - ₹17L</td>\n",
       "      <td>Tech Mahindra</td>\n",
       "    </tr>\n",
       "    <tr>\n",
       "      <th>18</th>\n",
       "      <td>3.5</td>\n",
       "      <td>Range: ₹8L - ₹30L</td>\n",
       "      <td>R Systems</td>\n",
       "    </tr>\n",
       "    <tr>\n",
       "      <th>19</th>\n",
       "      <td>4.1</td>\n",
       "      <td>Range: ₹9L - ₹15L</td>\n",
       "      <td>CARS24.com</td>\n",
       "    </tr>\n",
       "  </tbody>\n",
       "</table>\n",
       "</div>"
      ],
      "text/plain": [
       "   Ratings         SalaryRange                       Companies\n",
       "0      3.9   Range: ₹6L - ₹27L                             IBM\n",
       "1      3.9   Range: ₹3L - ₹13L       Tata Consultancy Services\n",
       "2        4   Range: ₹6L - ₹22L                       Accenture\n",
       "3      3.9   Range: ₹5L - ₹1Cr                       Delhivery\n",
       "4        4   Range: ₹4L - ₹16L              Ericsson-Worldwide\n",
       "5      3.7   Range: ₹8L - ₹15L              UnitedHealth Group\n",
       "6      4.2   Range: ₹5L - ₹15L              Valiance Solutions\n",
       "7      3.6   Range: ₹6L - ₹15L                     EXL Service\n",
       "8      3.6   Range: ₹8L - ₹20L                           Optum\n",
       "9      3.9   Range: ₹4L - ₹22L          Optum Global Solutions\n",
       "10       4   Range: ₹2L - ₹18L                   ZS Associates\n",
       "11     3.8   Range: ₹6L - ₹17L                      Innovaccer\n",
       "12     3.8   Range: ₹8L - ₹13L  Cognizant Technology Solutions\n",
       "13     3.2  Range: ₹10L - ₹19L                             OYO\n",
       "14       4   Range: ₹4L - ₹16L                         Nagarro\n",
       "15     4.1   Range: ₹8L - ₹20L                       dunnhumby\n",
       "16     3.7  Range: ₹12T - ₹63T              Vidooly Media Tech\n",
       "17     3.6   Range: ₹4L - ₹17L                   Tech Mahindra\n",
       "18     3.5   Range: ₹8L - ₹30L                       R Systems\n",
       "19     4.1   Range: ₹9L - ₹15L                      CARS24.com"
      ]
     },
     "execution_count": 195,
     "metadata": {},
     "output_type": "execute_result"
    }
   ],
   "source": [
    "GlassdoorData"
   ]
  },
  {
   "cell_type": "code",
   "execution_count": null,
   "metadata": {},
   "outputs": [],
   "source": []
  }
 ],
 "metadata": {
  "kernelspec": {
   "display_name": "Python 3",
   "language": "python",
   "name": "python3"
  },
  "language_info": {
   "codemirror_mode": {
    "name": "ipython",
    "version": 3
   },
   "file_extension": ".py",
   "mimetype": "text/x-python",
   "name": "python",
   "nbconvert_exporter": "python",
   "pygments_lexer": "ipython3",
   "version": "3.8.5"
  }
 },
 "nbformat": 4,
 "nbformat_minor": 4
}
